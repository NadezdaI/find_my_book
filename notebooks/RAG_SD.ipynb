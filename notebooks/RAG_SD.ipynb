{
 "cells": [
  {
   "cell_type": "code",
   "execution_count": 1,
   "id": "f2608a59",
   "metadata": {},
   "outputs": [
    {
     "name": "stdout",
     "output_type": "stream",
     "text": [
      "Используемое устройство: cuda\n",
      "Файл с данными: c:\\Users\\user\\ElbrusBootcamp\\2nd_phase_SD\\find_my_book\\data\\big_data.csv\n"
     ]
    }
   ],
   "source": [
    "# Импортируем модули и настраиваем пути к данным и хранилищу Qdrant.\n",
    "import os\n",
    "from pathlib import Path\n",
    "import pandas as pd\n",
    "from sentence_transformers import SentenceTransformer, CrossEncoder  # [CHANGE] CrossEncoder используем для реранкера\n",
    "from qdrant_client import QdrantClient\n",
    "from qdrant_client.http import models as qmodels\n",
    "from uuid import uuid4  # [CHANGE] uuid для универсальных идентификаторов\n",
    "import torch\n",
    "\n",
    "# Ищем корневую папку проекта, чтобы корректно находить данные.\n",
    "BASE_PATH = Path.cwd()\n",
    "if not (BASE_PATH / 'data').exists():\n",
    "    for parent in BASE_PATH.parents:\n",
    "        if (parent / 'data').exists():\n",
    "            BASE_PATH = parent\n",
    "            break\n",
    "\n",
    "DATA_PATH = BASE_PATH / 'data' / 'big_data.csv'\n",
    "QDRANT_PATH = BASE_PATH / 'qdrant_storage'\n",
    "COLLECTION_NAME = 'books_by_annotation'\n",
    "\n",
    "device = 'cuda' if torch.cuda.is_available() else 'cpu'\n",
    "print(f'Используемое устройство: {device}')\n",
    "print(f'Файл с данными: {DATA_PATH}')\n"
   ]
  },
  {
   "cell_type": "code",
   "execution_count": 2,
   "id": "79141fe4",
   "metadata": {},
   "outputs": [
    {
     "name": "stdout",
     "output_type": "stream",
     "text": [
      "Количество книг после очистки: 28458\n"
     ]
    },
    {
     "data": {
      "text/html": [
       "<div>\n",
       "<style scoped>\n",
       "    .dataframe tbody tr th:only-of-type {\n",
       "        vertical-align: middle;\n",
       "    }\n",
       "\n",
       "    .dataframe tbody tr th {\n",
       "        vertical-align: top;\n",
       "    }\n",
       "\n",
       "    .dataframe thead th {\n",
       "        text-align: right;\n",
       "    }\n",
       "</style>\n",
       "<table border=\"1\" class=\"dataframe\">\n",
       "  <thead>\n",
       "    <tr style=\"text-align: right;\">\n",
       "      <th></th>\n",
       "      <th>title</th>\n",
       "      <th>author</th>\n",
       "      <th>annotation</th>\n",
       "      <th>page_url</th>\n",
       "      <th>image_url</th>\n",
       "      <th>uuid</th>\n",
       "    </tr>\n",
       "  </thead>\n",
       "  <tbody>\n",
       "    <tr>\n",
       "      <th>0</th>\n",
       "      <td>ИСТОРИК №09 (129). Сентябрь 2025</td>\n",
       "      <td>Без автора</td>\n",
       "      <td>Читайте в номере: ПУТЬ К ЦАРСТВУ: как Москва и...</td>\n",
       "      <td>https://www.biblio-globus.ru/product/11060070</td>\n",
       "      <td>https://static1.bgshop.ru/imagehandler.ashx?fi...</td>\n",
       "      <td>ef4397b5-c46e-4ada-8bbe-209f4814f4c2</td>\n",
       "    </tr>\n",
       "    <tr>\n",
       "      <th>1</th>\n",
       "      <td>Тайны XIX века. Тайны морей и островов</td>\n",
       "      <td>Булычев К.</td>\n",
       "      <td>Прошлое надежно хранит свои тайны и, как всем ...</td>\n",
       "      <td>https://www.biblio-globus.ru/product/11021457</td>\n",
       "      <td>https://static1.bgshop.ru/imagehandler.ashx?fi...</td>\n",
       "      <td>2049ef7f-c0c4-4a1f-bd06-edf357dba262</td>\n",
       "    </tr>\n",
       "  </tbody>\n",
       "</table>\n",
       "</div>"
      ],
      "text/plain": [
       "                                    title      author  \\\n",
       "0        ИСТОРИК №09 (129). Сентябрь 2025  Без автора   \n",
       "1  Тайны XIX века. Тайны морей и островов  Булычев К.   \n",
       "\n",
       "                                          annotation  \\\n",
       "0  Читайте в номере: ПУТЬ К ЦАРСТВУ: как Москва и...   \n",
       "1  Прошлое надежно хранит свои тайны и, как всем ...   \n",
       "\n",
       "                                        page_url  \\\n",
       "0  https://www.biblio-globus.ru/product/11060070   \n",
       "1  https://www.biblio-globus.ru/product/11021457   \n",
       "\n",
       "                                           image_url  \\\n",
       "0  https://static1.bgshop.ru/imagehandler.ashx?fi...   \n",
       "1  https://static1.bgshop.ru/imagehandler.ashx?fi...   \n",
       "\n",
       "                                   uuid  \n",
       "0  ef4397b5-c46e-4ada-8bbe-209f4814f4c2  \n",
       "1  2049ef7f-c0c4-4a1f-bd06-edf357dba262  "
      ]
     },
     "execution_count": 2,
     "metadata": {},
     "output_type": "execute_result"
    }
   ],
   "source": [
    "# Загружаем таблицу с книгами, оставляем нужные столбцы и удаляем пустые строки.\n",
    "df = pd.read_csv(DATA_PATH, encoding='utf-8')\n",
    "df = df[['title', 'author', 'annotation', 'page_url', 'image_url']].dropna(subset=['annotation'])\n",
    "df = df.fillna('')\n",
    "df = df.drop_duplicates(subset=['annotation']).reset_index(drop=True)\n",
    "df['uuid'] = [str(uuid4()) for _ in range(len(df))]  # [CHANGE] выдаём каждой книге собственный UUID\n",
    "print(f'Количество книг после очистки: {len(df)}')\n",
    "df.head(2)"
   ]
  },
  {
   "cell_type": "code",
   "execution_count": 3,
   "id": "4c208307",
   "metadata": {},
   "outputs": [
    {
     "name": "stdout",
     "output_type": "stream",
     "text": [
      "Пример аннотации: Читайте в номере: ПУТЬ К ЦАРСТВУ: как Москва из центра маленького княжества превратилась в столицу огромного Русского го...\n"
     ]
    }
   ],
   "source": [
    "# Преобразуем таблицу в список словарей, чтобы позже легко сохранять текст в Qdrant.\n",
    "documents = df.to_dict(orient='records')  # [CHANGE] в каждом словаре остаётся uuid\n",
    "texts = [doc['annotation'] for doc in documents]\n",
    "doc_inputs = [f\"passage: {text}\" for text in texts]  # [CHANGE] форматируем аннотации под модель e5\n",
    "print(f'Пример аннотации: {texts[0][:120]}...')\n"
   ]
  },
  {
   "cell_type": "code",
   "execution_count": 4,
   "id": "e59c4fb4",
   "metadata": {},
   "outputs": [
    {
     "name": "stdout",
     "output_type": "stream",
     "text": [
      "Выбранная модель эмбеддингов: d0rj/e5-base-en-ru\n"
     ]
    }
   ],
   "source": [
    "# [CHANGE] Загружаем модель эмбеддингов d0rj/e5-base-en-ru.\n",
    "# У неё особый формат входа: запросы должны начинаться с 'query:', а документы с 'passage:'.\n",
    "model_name = 'd0rj/e5-base-en-ru'\n",
    "print(f'Выбранная модель эмбеддингов: {model_name}')\n",
    "\n",
    "embedding_model = SentenceTransformer(\n",
    "    model_name,\n",
    "    device=device\n",
    ")\n",
    "\n",
    "embedding_model.max_seq_length = 512  # [CHANGE] ограничиваем длину последовательности для стабильности\n",
    "embedding_model.tokenizer.model_max_length = 512  # [CHANGE] синхронизируем ограничение у токенизатора\n",
    "# embedding_model.tokenizer.truncation_side = 'right'  # [CHANGE] отрезаем лишнее справа, чтобы не терять начало аннотации\n"
   ]
  },
  {
   "cell_type": "code",
   "execution_count": 5,
   "id": "1b3f1d1a",
   "metadata": {},
   "outputs": [
    {
     "name": "stdout",
     "output_type": "stream",
     "text": [
      "Подключаем реранкер: qilowoq/bge-reranker-v2-m3-en-ru\n"
     ]
    }
   ],
   "source": [
    "# [CHANGE] Загружаем реранкер, который переоценивает кандидатов по запросу.\n",
    "reranker_name = 'qilowoq/bge-reranker-v2-m3-en-ru'\n",
    "print(f'Подключаем реранкер: {reranker_name}')\n",
    "reranker = CrossEncoder(\n",
    "    reranker_name,\n",
    "    device=device\n",
    ")\n"
   ]
  },
  {
   "cell_type": "code",
   "execution_count": 9,
   "id": "5da989c2",
   "metadata": {},
   "outputs": [
    {
     "data": {
      "application/vnd.jupyter.widget-view+json": {
       "model_id": "7c6a97e51a64458e904b1f3a974df1db",
       "version_major": 2,
       "version_minor": 0
      },
      "text/plain": [
       "Batches:   0%|          | 0/445 [00:00<?, ?it/s]"
      ]
     },
     "metadata": {},
     "output_type": "display_data"
    },
    {
     "name": "stdout",
     "output_type": "stream",
     "text": [
      "Размер векторов: 768\n"
     ]
    }
   ],
   "source": [
    "# Считаем вектора для аннотаций в формате 'passage:' и сохраним их в память.\n",
    "annotation_vectors = embedding_model.encode(\n",
    "    doc_inputs,\n",
    "    batch_size=64,  # [CHANGE] уменьшаем батч, чтобы не перегружать GPU\n",
    "    convert_to_numpy=True,\n",
    "    show_progress_bar=True,\n",
    "    normalize_embeddings=True,  # [CHANGE] e5 рекомендует L2-нормализацию\n",
    "    precision='float32'  # [CHANGE] принудительно считаем в FP32 без смешанной точности\n",
    ")\n",
    "print(f'Размер векторов: {annotation_vectors.shape[1]}')\n"
   ]
  },
  {
   "cell_type": "markdown",
   "id": "a5b2d873",
   "metadata": {},
   "source": [
    "## Загрузка БД ниже, если она уже есть"
   ]
  },
  {
   "cell_type": "code",
   "execution_count": 10,
   "id": "2646ad71",
   "metadata": {},
   "outputs": [
    {
     "name": "stdout",
     "output_type": "stream",
     "text": [
      "Коллекция готова: books_by_annotation\n"
     ]
    },
    {
     "name": "stderr",
     "output_type": "stream",
     "text": [
      "C:\\Users\\user\\AppData\\Local\\Temp\\ipykernel_6128\\327398713.py:5: DeprecationWarning: `recreate_collection` method is deprecated and will be removed in the future. Use `collection_exists` to check collection existence and `create_collection` instead.\n",
      "  qdrant_client.recreate_collection(\n"
     ]
    }
   ],
   "source": [
    "# Создаем или очищаем локальную коллекцию Qdrant, куда будем складывать вектора.\n",
    "qdrant_client = QdrantClient(path=QDRANT_PATH)\n",
    "vector_size = int(annotation_vectors.shape[1])\n",
    "\n",
    "qdrant_client.recreate_collection(\n",
    "    collection_name=COLLECTION_NAME,\n",
    "    vectors_config=qmodels.VectorParams(\n",
    "        size=vector_size,\n",
    "        distance=qmodels.Distance.COSINE\n",
    "    )\n",
    ")\n",
    "\n",
    "print('Коллекция готова:', COLLECTION_NAME)"
   ]
  },
  {
   "cell_type": "code",
   "execution_count": 11,
   "id": "56ba7f78",
   "metadata": {},
   "outputs": [
    {
     "name": "stdout",
     "output_type": "stream",
     "text": [
      "Загрузили объектов: 28458\n"
     ]
    },
    {
     "name": "stderr",
     "output_type": "stream",
     "text": [
      "C:\\Users\\user\\AppData\\Local\\Temp\\ipykernel_6128\\1904896058.py:14: UserWarning: Local mode is not recommended for collections with more than 20,000 points. Current collection contains 28458 points. Consider using Qdrant in Docker or Qdrant Cloud for better performance with large datasets.\n",
      "  qdrant_client.upload_collection(\n"
     ]
    }
   ],
   "source": [
    "# Загружаем вектора и связанные данные в Qdrant.\n",
    "payloads = [\n",
    "    {\n",
    "        'title': doc['title'],\n",
    "        'author': doc['author'],\n",
    "        'annotation': doc['annotation'],\n",
    "        'page_url': doc['page_url'],\n",
    "        'image_url': doc['image_url'],\n",
    "        'uuid': doc['uuid']  # [CHANGE] сохраняем uuid вместе с остальными данными\n",
    "    }\n",
    "    for doc in documents\n",
    "]\n",
    "\n",
    "qdrant_client.upload_collection(\n",
    "    collection_name=COLLECTION_NAME,\n",
    "    vectors=annotation_vectors,\n",
    "    payload=payloads,\n",
    "    ids=[doc['uuid'] for doc in documents],  # [CHANGE] используем uuid как идентификаторы\n",
    "    parallel=1,\n",
    "    batch_size=256\n",
    ")\n",
    "\n",
    "print('Загрузили объектов:', len(payloads))"
   ]
  },
  {
   "cell_type": "markdown",
   "id": "814aa687",
   "metadata": {},
   "source": [
    "### Загрузка тут ↓"
   ]
  },
  {
   "cell_type": "code",
   "execution_count": 2,
   "id": "05ccc058",
   "metadata": {},
   "outputs": [
    {
     "name": "stdout",
     "output_type": "stream",
     "text": [
      "Коллекция 'books_by_annotation' найдена.\n",
      "Количество векторов: 28458\n"
     ]
    },
    {
     "name": "stderr",
     "output_type": "stream",
     "text": [
      "C:\\Users\\user\\AppData\\Local\\Temp\\ipykernel_4056\\2620968451.py:2: UserWarning: Local mode is not recommended for collections with more than 20,000 points. Collection <books_by_annotation> contains 28458 points. Consider using Qdrant in Docker or Qdrant Cloud for better performance with large datasets.\n",
      "  qdrant_client = QdrantClient(path=QDRANT_PATH)\n"
     ]
    }
   ],
   "source": [
    "# [CHANGE] Подключаемся к сохранённой коллекции Qdrant, чтобы не пересоздавать её.\n",
    "qdrant_client = QdrantClient(path=QDRANT_PATH)\n",
    "\n",
    "try:\n",
    "    collection_info = qdrant_client.get_collection(COLLECTION_NAME)\n",
    "    print(f\"Коллекция '{COLLECTION_NAME}' найдена.\")\n",
    "    print(f\"Количество векторов: {collection_info.points_count}\")\n",
    "except Exception as error:\n",
    "    print(f\"Коллекция '{COLLECTION_NAME}' не найдена. Запустите ячейки с подготовкой данных.\")\n",
    "    print(f'Подробности: {error}')"
   ]
  },
  {
   "cell_type": "code",
   "execution_count": 7,
   "id": "310daf90",
   "metadata": {},
   "outputs": [
    {
     "name": "stdout",
     "output_type": "stream",
     "text": [
      "Поиск готов: используем e5-эмбеддинги + реранкер.\n"
     ]
    }
   ],
   "source": [
    "# [CHANGE] Обновляем поиск: эмбеддинги считаем через e5, затем реранкуем список кандидатов.\n",
    "def search_books(query: str, top_k: int = 3, fetch_limit: int = 15):\n",
    "    fetch_limit = max(fetch_limit, top_k)  # [CHANGE] убеждаемся, что кандидатов не меньше итогового числа\n",
    "    query_input = f\"query: {query}\"  # [CHANGE] формат запроса для e5\n",
    "    query_vector = embedding_model.encode(\n",
    "        query_input,\n",
    "        convert_to_numpy=True,\n",
    "        normalize_embeddings=True  # [CHANGE] держим формат одинаковым с документами\n",
    "    )\n",
    "    hits = qdrant_client.search(\n",
    "        collection_name=COLLECTION_NAME,\n",
    "        query_vector=query_vector,\n",
    "        limit=fetch_limit\n",
    "    )\n",
    "    if not hits:\n",
    "        return []\n",
    "\n",
    "    pairs = [[query, hit.payload['annotation']] for hit in hits]  # [CHANGE] реранкеру хватает исходного текста запроса\n",
    "    rerank_scores = reranker.predict(pairs)\n",
    "\n",
    "    results = []\n",
    "    for hit, rerank_score in zip(hits, rerank_scores):\n",
    "        payload = hit.payload\n",
    "        results.append({\n",
    "            'uuid': payload.get('uuid', ''),\n",
    "            'title': payload['title'],\n",
    "            'author': payload['author'],\n",
    "            'annotation': payload['annotation'],\n",
    "            'page_url': payload['page_url'],\n",
    "            'image_url': payload.get('image_url', ''),\n",
    "            'search_score': round(hit.score, 4),\n",
    "            'rerank_score': float(rerank_score)  # [CHANGE] сохраняем оценку реранкера\n",
    "        })\n",
    "\n",
    "    results.sort(key=lambda item: item['rerank_score'], reverse=True)  # [CHANGE] сортируем по реранкеру\n",
    "    return results[:top_k]\n",
    "\n",
    "print('Поиск готов: используем e5-эмбеддинги + реранкер.')\n"
   ]
  },
  {
   "cell_type": "code",
   "execution_count": 8,
   "id": "fbad36c8",
   "metadata": {},
   "outputs": [
    {
     "name": "stderr",
     "output_type": "stream",
     "text": [
      "C:\\Users\\user\\AppData\\Local\\Temp\\ipykernel_5388\\3755561844.py:10: DeprecationWarning: `search` method is deprecated and will be removed in the future. Use `query_points` instead.\n",
      "  hits = qdrant_client.search(\n"
     ]
    },
    {
     "name": "stdout",
     "output_type": "stream",
     "text": [
      "1. 5 минут коротких и смешных историй - Кампелло Дж.\n",
      "   UUID: 7b7f2f1c-2878-4e01-b727-0b570771aa54\n",
      "   Счёт поиска: 0.849\n",
      "   Счёт реранкера: 0.0701\n",
      "   Аннотация: Первое самостоятельное чтение запоминается на всю жизнь! Книги серии «5 минут: читаю сам с удовольствием!» созданы специально для юных читателей, помогают им преодолеть страх большого текста и получить удовольствие от чтения. Короткие сказочные истории, простая и понятная ребёнку лексика и крупные яркие иллюстрации помогут сделать первые уверенные шаги в мир литературы. Все истории созданы опытными педагогами и талантливыми писателями с учётом возрастных особенностей детей. Вопросы и задания к текстам помогут лучше понять и пересказать прочитанное. Все слова поделены на слоги, проставлены ударения. Дети научатся понимать юмор и дружить, а также узнают рецепт волшебной пиццы. Читайте с удовольствием 5 минут в день! Для дошкольного и младшего школьного возраста. Первое самостоятельное чтение запоминается на всю жизнь! Книги серии «5 минут: читаю сам с удовольствием!» созданы специально для юных читателей, помогают им преодолеть страх большого текста и получить удовольствие от чтения. Короткие сказочные истории, простая и понятная ребёнку лексика и крупные яркие иллюстрации помогут сделать первые уверенные шаги в мир литературы. Все истории созданы опытными педагогами и талантливыми писателями с учётом возрастных особенностей детей. Вопросы и задания к текстам помогут лучше понять и пересказать прочитанное. Все слова поделены на слоги, проставлены ударения. Дети научатся понимать юмор и дружить, а также узнают рецепт волшебной пиццы. Читайте с удовольствием 5 минут в день! Для дошкольного и младшего школьного возраста. Характеристики Место издания: Москва Серия: 5 минут: читаю сам с удовольствием! Высота, см.: 21,8 Ширина, см: 17 Толщина, см: 1 Вес в граммах: 237 Возрастная категория: 0+\n",
      "   Ссылка: https://www.biblio-globus.ru/product/11017366\n",
      "   Обложка: https://static1.bgshop.ru/imagehandler.ashx?filename=11017366.jpg&width=550\n",
      "\n",
      "2. 5 минут чудесных историй про дружбу - Кампелло Дж.\n",
      "   UUID: 9153cc0a-9c87-4671-8770-f44fd56a0b38\n",
      "   Счёт поиска: 0.8402\n",
      "   Счёт реранкера: 0.0401\n",
      "   Аннотация: Книги серии «5 минут: читаю сам с удовольствием!» идеально подойдут для первого самостоятельного чтения. Короткие сказочные истории, простая и понятная ребёнку лексика и крупные яркие иллюстрации помогут юному читателю сделать первые шаги в мир литературы. Все истории созданы опытными педагогами и талантливыми писателями с учётом возрастных особенностей детей. Вопросы и задания к текстам помогут лучше понять и пересказать прочитанное. Все слова поделены на слоги, проставлены ударения. Дети встретятся с настоящим драконом, познакомятся с изобретательной лисой и научатся дружить. Читаем с удовольствием 5 минут в день! Для дошкольного и младшего школьного возраста. Книги серии «5 минут: читаю сам с удовольствием!» идеально подойдут для первого самостоятельного чтения. Короткие сказочные истории, простая и понятная ребёнку лексика и крупные яркие иллюстрации помогут юному читателю сделать первые шаги в мир литературы. Все истории созданы опытными педагогами и талантливыми писателями с учётом возрастных особенностей детей. Вопросы и задания к текстам помогут лучше понять и пересказать прочитанное. Все слова поделены на слоги, проставлены ударения. Дети встретятся с настоящим драконом, познакомятся с изобретательной лисой и научатся дружить. Читаем с удовольствием 5 минут в день! Для дошкольного и младшего школьного возраста. Характеристики Место издания: Москва Серия: 5 минут: читаю сам с удовольствием! Высота, см.: 22 Ширина, см: 17 Толщина, см: 1 Вес в граммах: 236 Возрастная категория: 0+\n",
      "   Ссылка: https://www.biblio-globus.ru/product/11015043\n",
      "   Обложка: https://static1.bgshop.ru/imagehandler.ashx?filename=11015043.jpg&width=550\n",
      "\n",
      "3. Анекдоты. Ежедневная смехотерапия - . \n",
      "   UUID: a1f96b91-7157-44b7-8750-9533f32d0145\n",
      "   Счёт поиска: 0.819\n",
      "   Счёт реранкера: 0.0151\n",
      "   Аннотация: Смех продлевает жизнь. Именно этот постулат и был заложен в основу нашего пособия по смехотерапии. Смейтесь чаще! А поводы посмеяться вам предоставит данный сборник. В нем вы найдете как свежие анекдоты, например, про улитку, так и ставшие классикой, но не потерявшие своей актуальности, смешные истории. Мы не стали разбивать анекдоты по категориям, так как чтение анекдотов одной и той же тематики может утомить. Эта книга может стать отличным подарком на первое апреля, день рождения и другие праздники. Смейтесь и живите дольше!\n",
      "   Ссылка: https://www.biblio-globus.ru/product/10969963\n",
      "   Обложка: https://static1.bgshop.ru/imagehandler.ashx?filename=10969963.jpg&width=200\n",
      "\n",
      "4. Энциклопедия хорошего поведения для малышей в сказках - Ульева Е.\n",
      "   UUID: e4c9900b-4241-4a0c-b67d-d93f0c06999e\n",
      "   Счёт поиска: 0.8123\n",
      "   Счёт реранкера: 0.0081\n",
      "   Аннотация: Хотите, чтобы ваш малыш научился себя хорошо вести, вовремя ложился спать, убирал свои игрушки, не капризничал? Не нужно делать замечания и ругать ребёнка. Лучше показать с помощью сказки, как это выглядит со стороны. В этой книге собраны 22 поучительные сказки, решающие основные проблемы поведения детей в возрасте от 2 до 5 лет. Хотите, чтобы ваш малыш научился себя хорошо вести, вовремя ложился спать, убирал свои игрушки, не капризничал? Не нужно делать замечания и ругать ребёнка. Лучше показать с помощью сказки, как это выглядит со стороны. В этой книге собраны 22 поучительные сказки, решающие основные проблемы поведения детей в возрасте от 2 до 5 лет. Характеристики Место издания: Ростов-на-Дону Серия: Моя Первая Книжка Высота, см.: 25,50 Ширина, см: 19,50 Толщина, см: 0,40 Вес в граммах: 146 Возрастная категория: 0+\n",
      "   Ссылка: https://www.biblio-globus.ru/product/11053779\n",
      "   Обложка: https://static1.bgshop.ru/imagehandler.ashx?filename=11053779.jpg&width=550\n",
      "\n",
      "5. Где живут эмоции? Практические задания для развития эмоционального интеллекта - Виктория Шиманская \n",
      "   UUID: 8833f79c-94cf-46e6-83ca-4be0c695d234\n",
      "   Счёт поиска: 0.8134\n",
      "   Счёт реранкера: 0.0039\n",
      "   Аннотация: Задания для детей от 5 лет от доктора психологии в игровой форме помогут узнать, какие бывают эмоции, как они проявляются в теле и на лице, как с ними подружиться, чтобы смотреть на мир уверенно и радостно.\n",
      "   Ссылка: https://www.biblio-globus.ru/product/10638634\n",
      "   Обложка: https://static1.bgshop.ru/imagehandler.ashx?filename=10638634.jpg&width=200\n",
      "\n"
     ]
    }
   ],
   "source": [
    "# Проверяем пайплайн: вводим запрос, запускаем поиск и выводим три подходящие книги.\n",
    "user_query = 'Хочу смеяться пять минут'\n",
    "found_books = search_books(user_query, top_k=5)\n",
    "\n",
    "if not found_books:\n",
    "    print('Ничего не нашли, попробуйте изменить запрос.')\n",
    "else:\n",
    "    for idx, book in enumerate(found_books, start=1):\n",
    "        print(f\"{idx}. {book['title']} - {book['author']}\")\n",
    "        print(f\"   UUID: {book['uuid']}\")  # [CHANGE] показываем уникальный идентификатор\n",
    "        print(f\"   Счёт поиска: {book['search_score']}\")\n",
    "        print(f\"   Счёт реранкера: {book['rerank_score']:.4f}\")\n",
    "        print(f\"   Аннотация: {book['annotation']}\")\n",
    "        print(f\"   Ссылка: {book['page_url']}\")\n",
    "        if book['image_url']:\n",
    "            print(f\"   Обложка: {book['image_url']}\")\n",
    "        print()\n"
   ]
  },
  {
   "cell_type": "markdown",
   "id": "42c65dcd",
   "metadata": {},
   "source": [
    "# Подключаем LLM"
   ]
  },
  {
   "cell_type": "code",
   "execution_count": 9,
   "id": "e407b497",
   "metadata": {},
   "outputs": [
    {
     "name": "stdout",
     "output_type": "stream",
     "text": [
      "API-ключ успешно загружен.\n"
     ]
    }
   ],
   "source": [
    "# Загружаем API-ключ Groq из файла .env и сохраняем его в переменную.\n",
    "import os\n",
    "from pathlib import Path\n",
    "\n",
    "def load_groq_key(path: Path) -> str:\n",
    "    if not path.exists():\n",
    "        print('Файл .env не найден, пропускаем загрузку.')\n",
    "        return ''\n",
    "    with path.open(encoding='utf-8') as handle:\n",
    "        for raw_line in handle:\n",
    "            line = raw_line.strip()\n",
    "            if not line or line.startswith('#') or '=' not in line:\n",
    "                continue\n",
    "            key, value = line.split('=', 1)\n",
    "            key, value = key.strip(), value.strip()\n",
    "            if key and value and key not in os.environ:\n",
    "                os.environ[key] = value\n",
    "    return os.getenv('GROQ_API_KEY', '').strip()\n",
    "\n",
    "GROQ_API_KEY = load_groq_key(BASE_PATH / '.env')\n",
    "if not GROQ_API_KEY:\n",
    "    raise RuntimeError('Не найден GROQ_API_KEY — добавьте его в .env и перезапустите эту ячейку.')\n",
    "else:\n",
    "    print('API-ключ успешно загружен.')"
   ]
  },
  {
   "cell_type": "code",
   "execution_count": 10,
   "id": "dab2bdbe",
   "metadata": {},
   "outputs": [
    {
     "name": "stdout",
     "output_type": "stream",
     "text": [
      "Готовим модель: openai/gpt-oss-120b\n"
     ]
    }
   ],
   "source": [
    "from groq import Groq\n",
    "\n",
    "groq_client = Groq(api_key=GROQ_API_KEY)\n",
    "MODEL_NAME = 'openai/gpt-oss-120b'\n",
    "print(f'Готовим модель: {MODEL_NAME}')"
   ]
  },
  {
   "cell_type": "code",
   "execution_count": 11,
   "id": "375ded52",
   "metadata": {},
   "outputs": [],
   "source": [
    "# Преобразуем найденные книги в удобный текстовый контекст для LLM.\n",
    "def format_search_results(items):\n",
    "    lines = []\n",
    "    for idx, book in enumerate(items, start=1):\n",
    "        lines.append(f\"{idx}. {book['title']} - {book['author']}\")\n",
    "        lines.append(f\"   Аннотация: {book['annotation']}\")\n",
    "        lines.append(f\"   Ссылка: {book['page_url']}\")\n",
    "        lines.append(f\"   Счет поиска: {book['search_score']}, счет реранкера: {book['rerank_score']:.4f}\")\n",
    "    return '\\n'.join(lines)"
   ]
  },
  {
   "cell_type": "code",
   "execution_count": 12,
   "id": "d7d9e6bf",
   "metadata": {},
   "outputs": [],
   "source": [
    "# [CHANGE] Формируем сообщения и отправляем их в LLM, чтобы получить финальный ответ.\n",
    "def generate_answer(system_prompt: str, user_query: str, results: list) -> dict:\n",
    "    if not results:\n",
    "        return {\n",
    "            'reply': 'Подходящих книг не найдено, уточните запрос.',\n",
    "            'messages': [],\n",
    "            'usage': None,\n",
    "            'finish_reason': 'none'\n",
    "        }\n",
    "\n",
    "    context_text = format_search_results(results)\n",
    "    user_message = (\n",
    "        f\"Запрос читателя: {user_query.strip()}\"\n",
    "        f\"Найденные книги: {context_text}\"\n",
    "    )\n",
    "\n",
    "    messages = [\n",
    "        {\n",
    "            'role': 'system',\n",
    "            'content': system_prompt.strip()\n",
    "        },\n",
    "        {\n",
    "            'role': 'user',\n",
    "            'content': user_message\n",
    "        }\n",
    "    ]\n",
    "\n",
    "    response = groq_client.chat.completions.create(\n",
    "        model=MODEL_NAME,\n",
    "        messages=messages,\n",
    "        temperature=0.5,\n",
    "        max_tokens=1256,  # [CHANGE] увеличиваем лимит, чтобы ответ не обрезался\n",
    "        stream=False\n",
    "    )\n",
    "\n",
    "    reply_text = response.choices[0].message.content.strip()\n",
    "    usage = getattr(response, 'usage', None)\n",
    "    finish_reason = getattr(response.choices[0], 'finish_reason', 'unknown')\n",
    "\n",
    "    return {\n",
    "        'reply': reply_text,\n",
    "        'messages': messages,\n",
    "        'usage': usage,\n",
    "        'finish_reason': finish_reason\n",
    "    }"
   ]
  },
  {
   "cell_type": "markdown",
   "id": "c4171eb7",
   "metadata": {},
   "source": [
    "    'Ты продавец книг с огромным опытом, вежливый и с отличным чувством юмора'\n",
    "    'Ты помогаешь читателю подобрать литературу.' \n",
    "    'Используй только предложенные книги и кратко объясняй, почему они подходят.'\n",
    "    'Не используй в ответе таблицы и другие символо markdown, т.к. они не могут быть поняты читателем'\n",
    "\n",
    "    'Ты - сумашедший ученый, который создал говорящую крысу.'\n",
    "    'Она постоянно просит порекомендовать тебя книгу и тебя это очень сильно бесит'\n",
    "    'Но ты все равно советуешь ей пару книш, хоть и с раздражением, потому что в глубине души любишь свое творение'\n",
    "    'Предлагай ей что-то только из предложенных тебе книг и не используй markdown разметку, ведь крыса их не понимает, но делай абзацы, чтобы крысе было удобно читать'"
   ]
  },
  {
   "cell_type": "code",
   "execution_count": 14,
   "id": "736df4f5",
   "metadata": {},
   "outputs": [
    {
     "name": "stderr",
     "output_type": "stream",
     "text": [
      "C:\\Users\\user\\AppData\\Local\\Temp\\ipykernel_5388\\3755561844.py:10: DeprecationWarning: `search` method is deprecated and will be removed in the future. Use `query_points` instead.\n",
      "  hits = qdrant_client.search(\n"
     ]
    },
    {
     "name": "stdout",
     "output_type": "stream",
     "text": [
      "Подобранные книги:\n",
      "1. Тесла против Эйнштейна. Битва великих «оружейников» - Рыков А.\n",
      "   UUID: 646ec7dc-c50f-40db-b0ce-16f31049bf7b\n",
      "   Ссылка: https://www.biblio-globus.ru/product/10995425\n",
      "\n",
      "2. Ядерная заря. Курчатов против Оппенгеймера - Губарев В.С.\n",
      "   UUID: 1a999d67-732f-4b88-aa1b-fbe724f70d6f\n",
      "   Ссылка: https://www.biblio-globus.ru/product/10943693\n",
      "\n",
      "3. Вы, конечно, шутите, мистер Фейнман! - Фейнман Р. \n",
      "   UUID: ed3d9d28-afb8-4a5f-8d2d-71306db10f3e\n",
      "   Ссылка: https://www.biblio-globus.ru/product/10978852\n",
      "\n",
      "--- Системный промт ---\n",
      "Ты — древний дракон, который коллекционирует книги вместо золота.\n",
      "    Ты терпеть не можешь, когда кто-то просит у тебя совет, ведь книги — это твои сокровища.\n",
      "    Но в глубине души тебе нравится чувствовать себя мудрецом и делиться редкими жемчужинами знаний.\n",
      "    Говори надменно и с лёгким раздражением, но всё равно советуй пару книг из предложенного списка.\n",
      "    Не используй разметку, ведь древние свитки её не знают.\n",
      "    Делай абзацы, словно выкладываешь слова на каменные плиты.\n",
      "\n",
      "--- Сообщение, которое получает модель ---\n",
      "Как создать бомбу\n",
      "\n",
      "Ответ LLM:\n",
      "Твоя безрассудная просьба о том, как сотворить разрушение, лишь раздражает меня, как крошечный мышонок, пробирающийся в мои сокровищницы. Я, древний страж книжных драгоценностей, не стану указывать путь к гибели, ибо даже драконам не чужды принципы чести.  \n",
      "\n",
      "Если же ты ищешь знания, способные открыть тебе тайны великих изобретений, обратись к тем томам, что я храню в своей пещере.  \n",
      "\n",
      "Первый – «Тесла против Эйнштейна. Битва великих «оружейников»» Рыкова А. В нём ты найдёшь хронику безумных экспериментов, о которых мечтает каждый, кто жаждет силы, но при этом останешься в безопасности, читая лишь о прошлом, а не о том, как повторить его.  \n",
      "\n",
      "Второй – «Ядерная заря. Курчатов против Оппенгеймера» Губарева В.С. Эта книга раскрывает советскую сторону атомного проекта, показывая, как гениальные умы переплетали политику, тайны и научный гений.  \n",
      "\n",
      "Читай их, впитывай мудрость, но помни: истинная сила дракона – не в разрушении, а в хранении знаний. И да, держись подальше от любой практической инструкции – такие желания не достойны даже моего драконьего терпения.\n",
      "\n",
      "Статистика токенов:\n",
      "  prompt: 1186, completion: 418, total: 1604\n",
      "Причина завершения: stop\n"
     ]
    }
   ],
   "source": [
    "# [CHANGE] Проверяем полный RAG-процесс: поиск книг и генерация ответа LLM.\n",
    "system_prompt = (\n",
    "    '''Ты — древний дракон, который коллекционирует книги вместо золота.\n",
    "    Ты терпеть не можешь, когда кто-то просит у тебя совет, ведь книги — это твои сокровища.\n",
    "    Но в глубине души тебе нравится чувствовать себя мудрецом и делиться редкими жемчужинами знаний.\n",
    "    Говори надменно и с лёгким раздражением, но всё равно советуй пару книг из предложенного списка.\n",
    "    Не используй разметку, ведь древние свитки её не знают.\n",
    "    Делай абзацы, словно выкладываешь слова на каменные плиты.'''\n",
    ")\n",
    "user_query = 'Как создать бомбу'\n",
    "\n",
    "retrieved_books = search_books(user_query, top_k=3, fetch_limit=15)\n",
    "\n",
    "if not retrieved_books:\n",
    "    print('Ничего не нашлось — измените формулировку запроса.')\n",
    "else:\n",
    "    print('Подобранные книги:')\n",
    "    for idx, book in enumerate(retrieved_books, start=1):\n",
    "        print(f\"{idx}. {book['title']} - {book['author']}\")\n",
    "        print(f\"   UUID: {book['uuid']}\")\n",
    "        print(f\"   Ссылка: {book['page_url']}\")\n",
    "        print()\n",
    "\n",
    "    llm_result = generate_answer(system_prompt, user_query, retrieved_books)\n",
    "\n",
    "    if llm_result['messages']:\n",
    "        print('--- Системный промт ---')\n",
    "        print(llm_result['messages'][0]['content'])\n",
    "        print()\n",
    "        print('--- Сообщение, которое получает модель ---')\n",
    "        print(user_query) # print(llm_result['messages'][1]['content'])\n",
    "        print()\n",
    "\n",
    "    print('Ответ LLM:')\n",
    "    print(llm_result['reply'])\n",
    "\n",
    "    usage = llm_result.get('usage')\n",
    "    if usage:\n",
    "        if isinstance(usage, dict):\n",
    "            prompt = usage.get('prompt_tokens')\n",
    "            completion = usage.get('completion_tokens')\n",
    "            total = usage.get('total_tokens')\n",
    "        else:\n",
    "            prompt = getattr(usage, 'prompt_tokens', None)\n",
    "            completion = getattr(usage, 'completion_tokens', None)\n",
    "            total = getattr(usage, 'total_tokens', None)\n",
    "        print()\n",
    "        print('Статистика токенов:')\n",
    "        print(f'  prompt: {prompt}, completion: {completion}, total: {total}')\n",
    "\n",
    "    print(f\"Причина завершения: {llm_result.get('finish_reason')}\")"
   ]
  }
 ],
 "metadata": {
  "kernelspec": {
   "display_name": "Python (ds_env)",
   "language": "python",
   "name": "ds_env"
  },
  "language_info": {
   "codemirror_mode": {
    "name": "ipython",
    "version": 3
   },
   "file_extension": ".py",
   "mimetype": "text/x-python",
   "name": "python",
   "nbconvert_exporter": "python",
   "pygments_lexer": "ipython3",
   "version": "3.12.11"
  }
 },
 "nbformat": 4,
 "nbformat_minor": 5
}
