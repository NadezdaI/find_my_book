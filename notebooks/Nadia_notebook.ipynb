{
 "cells": [
  {
   "cell_type": "code",
   "execution_count": 53,
   "id": "cf3223bc",
   "metadata": {},
   "outputs": [],
   "source": [
    "import pandas as pd\n",
    "import os\n",
    "from random import randint, sample\n",
    "import re\n",
    "import csv"
   ]
  },
  {
   "cell_type": "code",
   "execution_count": 9,
   "id": "63dd2f5a",
   "metadata": {},
   "outputs": [
    {
     "name": "stdout",
     "output_type": "stream",
     "text": [
      "/Users/maryjones/Elbrus/Study_files/ds-phase-2/11-nn-ext/find_my_book/notebooks\n"
     ]
    }
   ],
   "source": [
    "print(os.getcwd())"
   ]
  },
  {
   "cell_type": "code",
   "execution_count": 5,
   "id": "3d30a02a",
   "metadata": {},
   "outputs": [],
   "source": [
    "data = pd.read_csv('../data/books.csv')"
   ]
  },
  {
   "cell_type": "code",
   "execution_count": 22,
   "id": "3bc2e1fe",
   "metadata": {},
   "outputs": [
    {
     "data": {
      "text/html": [
       "<div>\n",
       "<style scoped>\n",
       "    .dataframe tbody tr th:only-of-type {\n",
       "        vertical-align: middle;\n",
       "    }\n",
       "\n",
       "    .dataframe tbody tr th {\n",
       "        vertical-align: top;\n",
       "    }\n",
       "\n",
       "    .dataframe thead th {\n",
       "        text-align: right;\n",
       "    }\n",
       "</style>\n",
       "<table border=\"1\" class=\"dataframe\">\n",
       "  <thead>\n",
       "    <tr style=\"text-align: right;\">\n",
       "      <th></th>\n",
       "      <th>title</th>\n",
       "      <th>author</th>\n",
       "      <th>url</th>\n",
       "      <th>image</th>\n",
       "      <th>description</th>\n",
       "    </tr>\n",
       "  </thead>\n",
       "  <tbody>\n",
       "    <tr>\n",
       "      <th>8</th>\n",
       "      <td>Гимназисты. Истории о мальчиках XIX века (лими...</td>\n",
       "      <td>Гарин-Михайловский Н.Г., Погорельский А., Авер...</td>\n",
       "      <td>https://www.biblio-globus.ru/product/11024372</td>\n",
       "      <td>https://static1.bgshop.ru/imagehandler.ashx?fi...</td>\n",
       "      <td>Из чего же сделаны мальчишки XIX века? Может, ...</td>\n",
       "    </tr>\n",
       "    <tr>\n",
       "      <th>9</th>\n",
       "      <td>Происхождение</td>\n",
       "      <td>Браун Д.</td>\n",
       "      <td>https://www.biblio-globus.ru/product/10447554</td>\n",
       "      <td>https://static1.bgshop.ru/imagehandler.ashx?fi...</td>\n",
       "      <td>Роберт Лэнгдон прибывает в музей Гуггенхайма в...</td>\n",
       "    </tr>\n",
       "    <tr>\n",
       "      <th>10</th>\n",
       "      <td>Такси до леса Берендея</td>\n",
       "      <td>Донцова Д.А.</td>\n",
       "      <td>https://www.biblio-globus.ru/product/11043229</td>\n",
       "      <td>https://static1.bgshop.ru/imagehandler.ashx?fi...</td>\n",
       "      <td>Если женщина не хочет похудеть, значит, она ум...</td>\n",
       "    </tr>\n",
       "    <tr>\n",
       "      <th>11</th>\n",
       "      <td>Пока воды Венеции тихие</td>\n",
       "      <td>Эрвас Ф.</td>\n",
       "      <td>https://www.biblio-globus.ru/product/11044003</td>\n",
       "      <td>https://static1.bgshop.ru/imagehandler.ashx?fi...</td>\n",
       "      <td>Атмосферный итальянский детектив. Дорога к сер...</td>\n",
       "    </tr>\n",
       "  </tbody>\n",
       "</table>\n",
       "</div>"
      ],
      "text/plain": [
       "                                                title  \\\n",
       "8   Гимназисты. Истории о мальчиках XIX века (лими...   \n",
       "9                                       Происхождение   \n",
       "10                             Такси до леса Берендея   \n",
       "11                            Пока воды Венеции тихие   \n",
       "\n",
       "                                               author  \\\n",
       "8   Гарин-Михайловский Н.Г., Погорельский А., Авер...   \n",
       "9                                            Браун Д.   \n",
       "10                                      Донцова Д.А.    \n",
       "11                                           Эрвас Ф.   \n",
       "\n",
       "                                              url  \\\n",
       "8   https://www.biblio-globus.ru/product/11024372   \n",
       "9   https://www.biblio-globus.ru/product/10447554   \n",
       "10  https://www.biblio-globus.ru/product/11043229   \n",
       "11  https://www.biblio-globus.ru/product/11044003   \n",
       "\n",
       "                                                image  \\\n",
       "8   https://static1.bgshop.ru/imagehandler.ashx?fi...   \n",
       "9   https://static1.bgshop.ru/imagehandler.ashx?fi...   \n",
       "10  https://static1.bgshop.ru/imagehandler.ashx?fi...   \n",
       "11  https://static1.bgshop.ru/imagehandler.ashx?fi...   \n",
       "\n",
       "                                          description  \n",
       "8   Из чего же сделаны мальчишки XIX века? Может, ...  \n",
       "9   Роберт Лэнгдон прибывает в музей Гуггенхайма в...  \n",
       "10  Если женщина не хочет похудеть, значит, она ум...  \n",
       "11  Атмосферный итальянский детектив. Дорога к сер...  "
      ]
     },
     "execution_count": 22,
     "metadata": {},
     "output_type": "execute_result"
    }
   ],
   "source": [
    "data = data.iloc[8:]\n",
    "data.head()"
   ]
  },
  {
   "cell_type": "code",
   "execution_count": 33,
   "id": "53416955",
   "metadata": {},
   "outputs": [],
   "source": [
    "# import requests\n",
    "# from bs4 import BeautifulSoup\n",
    "\n",
    "# BASE_URL = \"https://www.biblio-globus.ru\"\n",
    "# START_URL = \"https://www.biblio-globus.ru/catalog/categories\"\n",
    "\n",
    "# headers = {\n",
    "#     'User-Agent': 'Mozilla/5.0 (Windows NT 10.0; Win64; x64) AppleWebKit/537.36'\n",
    "# }\n",
    "\n",
    "# try:\n",
    "#     response = requests.get(START_URL, headers=headers, timeout=30)\n",
    "#     response.raise_for_status()\n",
    "    \n",
    "#     soup = BeautifulSoup(response.text, \"html.parser\")\n",
    "    \n",
    "#     # Находим все ссылки которые содержат /catalog/index/\n",
    "#     catalog_links = soup.find_all('a', href=lambda x: x and x.startswith('/catalog/index/'))\n",
    "    \n",
    "#     subcategories = []\n",
    "#     for link in catalog_links:\n",
    "#         href = link.get('href')\n",
    "#         text = link.get_text(strip=True)\n",
    "#         if href and text:  # проверяем что есть и ссылка и текст\n",
    "#             # Извлекаем номер индекса из конца ссылки\n",
    "#             index_number = href.split('/')[-1]  # берем последнюю часть после /\n",
    "#             full_url = BASE_URL + href\n",
    "#             subcategories.append((text, full_url, index_number))\n",
    "    \n",
    "#     # Выводим результат\n",
    "#     print(f\"Найдено подкатегорий: {len(subcategories)}\\n\")\n",
    "#     for name, url, index in subcategories:\n",
    "#         print(f\"{name} - {url} - Индекс: {index}\")\n",
    "        \n",
    "# except Exception as e:\n",
    "#     print(f\"Ошибка: {e}\")\n"
   ]
  },
  {
   "cell_type": "code",
   "execution_count": null,
   "id": "837deeb9",
   "metadata": {},
   "outputs": [],
   "source": [
    "# links = pd.DataFrame(subcategories)\n",
    "# links = links.iloc[:-66]\n",
    "# links.to_csv('../data/subcategories.csv')"
   ]
  },
  {
   "cell_type": "code",
   "execution_count": null,
   "id": "421e36a0",
   "metadata": {},
   "outputs": [],
   "source": [
    "# links = df = pd.read_csv(\"../data/subs.csv\", header=None)\n",
    "# links.columns = [\"n\", \"0\", \"1\", \"2\"]\n",
    "# links = links.drop('n', axis=1)\n",
    "# links = links.drop(index=0).reset_index(drop=True)\n",
    "# links.head()\n",
    "# links.to_csv(\"../data/subcategories.csv\", index=False)\n"
   ]
  },
  {
   "cell_type": "code",
   "execution_count": 158,
   "id": "d6c90ccd",
   "metadata": {},
   "outputs": [
    {
     "data": {
      "text/html": [
       "<div>\n",
       "<style scoped>\n",
       "    .dataframe tbody tr th:only-of-type {\n",
       "        vertical-align: middle;\n",
       "    }\n",
       "\n",
       "    .dataframe tbody tr th {\n",
       "        vertical-align: top;\n",
       "    }\n",
       "\n",
       "    .dataframe thead th {\n",
       "        text-align: right;\n",
       "    }\n",
       "</style>\n",
       "<table border=\"1\" class=\"dataframe\">\n",
       "  <thead>\n",
       "    <tr style=\"text-align: right;\">\n",
       "      <th></th>\n",
       "      <th>0</th>\n",
       "      <th>1</th>\n",
       "      <th>2</th>\n",
       "    </tr>\n",
       "  </thead>\n",
       "  <tbody>\n",
       "    <tr>\n",
       "      <th>0</th>\n",
       "      <td>Классическая и современная проза</td>\n",
       "      <td>https://www.biblio-globus.ru/catalog/index/182</td>\n",
       "      <td>182</td>\n",
       "    </tr>\n",
       "    <tr>\n",
       "      <th>1</th>\n",
       "      <td>Детективы</td>\n",
       "      <td>https://www.biblio-globus.ru/catalog/index/185</td>\n",
       "      <td>185</td>\n",
       "    </tr>\n",
       "    <tr>\n",
       "      <th>2</th>\n",
       "      <td>Фантастика. Фэнтези</td>\n",
       "      <td>https://www.biblio-globus.ru/catalog/index/186</td>\n",
       "      <td>186</td>\n",
       "    </tr>\n",
       "    <tr>\n",
       "      <th>3</th>\n",
       "      <td>Любовные романы. Книги о любви</td>\n",
       "      <td>https://www.biblio-globus.ru/catalog/index/189</td>\n",
       "      <td>189</td>\n",
       "    </tr>\n",
       "    <tr>\n",
       "      <th>4</th>\n",
       "      <td>Поэзия. Драматургия</td>\n",
       "      <td>https://www.biblio-globus.ru/catalog/index/6172</td>\n",
       "      <td>6172</td>\n",
       "    </tr>\n",
       "  </tbody>\n",
       "</table>\n",
       "</div>"
      ],
      "text/plain": [
       "                                  0  \\\n",
       "0  Классическая и современная проза   \n",
       "1                         Детективы   \n",
       "2               Фантастика. Фэнтези   \n",
       "3    Любовные романы. Книги о любви   \n",
       "4               Поэзия. Драматургия   \n",
       "\n",
       "                                                 1     2  \n",
       "0   https://www.biblio-globus.ru/catalog/index/182   182  \n",
       "1   https://www.biblio-globus.ru/catalog/index/185   185  \n",
       "2   https://www.biblio-globus.ru/catalog/index/186   186  \n",
       "3   https://www.biblio-globus.ru/catalog/index/189   189  \n",
       "4  https://www.biblio-globus.ru/catalog/index/6172  6172  "
      ]
     },
     "execution_count": 158,
     "metadata": {},
     "output_type": "execute_result"
    }
   ],
   "source": [
    "links = pd.read_csv(\"../data/subcategories.csv\")\n",
    "links.head()"
   ]
  },
  {
   "cell_type": "code",
   "execution_count": null,
   "id": "b3f2eab9",
   "metadata": {},
   "outputs": [],
   "source": [
    "# st_accept = \"text/html\" \n",
    "# st_useragent = \"Mozilla/5.0 (Macintosh; Intel Mac OS X 12_3_1) AppleWebKit/605.1.15 (KHTML, like Gecko) Version/15.4 Safari/605.1.15\"\n",
    "# headers = {\n",
    "#    \"Accept\": st_accept,\n",
    "#    \"User-Agent\": st_useragent\n",
    "# }\n",
    "# req = requests.get(\"https://www.biblio-globus.ru/catalog/category?id=226\", headers=headers)\n",
    "# src = req.text\n",
    "\n",
    "# with open(\"biblio_page_226.html\", \"w\", encoding=\"utf-8\") as f:\n",
    "#     f.write(req.text)"
   ]
  },
  {
   "cell_type": "code",
   "execution_count": 25,
   "id": "2e623ecb",
   "metadata": {},
   "outputs": [],
   "source": [
    "def extract_product_ids(url):\n",
    "    try:\n",
    "        # Загружаем страницу\n",
    "        response = requests.get(url, headers={\n",
    "            'User-Agent': 'Mozilla/5.0 (Windows NT 10.0; Win64; x64) AppleWebKit/537.36'\n",
    "        })\n",
    "        response.raise_for_status()\n",
    "        soup = BeautifulSoup(response.text, 'html.parser')   # Парсим HTML\n",
    "        product_ids = []\n",
    "        product_links = soup.find_all('a', href=lambda x: x and x.startswith('/product/'))\n",
    "        \n",
    "        for link in product_links:\n",
    "            href = link.get('href')\n",
    "            # Извлекаем номер продукта из ссылки\n",
    "            product_id = href.replace('/product/', '').strip()\n",
    "            if product_id and product_id not in product_ids:\n",
    "                product_ids.append(product_id)\n",
    "        \n",
    "        return product_ids\n",
    "        \n",
    "    except Exception as e:\n",
    "        print(f\"Ошибка при загрузке страницы: {e}\")\n",
    "        return []\n",
    "\n",
    "# # Использование\n",
    "# product_ids = extract_product_ids('https://www.biblio-globus.ru/catalog/index/185')\n",
    "# print(\"Найдены ID продуктов:\", product_ids)\n",
    "\n",
    "# # Полные ссылки\n",
    "# full_urls = [f\"https://www.biblio-globus.ru/product/{pid}\" for pid in product_ids]\n",
    "# for url in full_urls:\n",
    "#     print(url)"
   ]
  },
  {
   "cell_type": "code",
   "execution_count": 183,
   "id": "70b6ec8d",
   "metadata": {},
   "outputs": [],
   "source": [
    "# def pars_book_data(url, csv_filename=\"../data/books.csv\"):\n",
    "#     try:\n",
    "#         response = requests.get(url)\n",
    "#         response.raise_for_status()\n",
    "#     except Exception as e:\n",
    "#         print(f\"[ERROR] Не удалось загрузить страницу {url}: {e}\")\n",
    "#         return\n",
    "\n",
    "#     soup = BeautifulSoup(response.text, \"lxml\")\n",
    "\n",
    "#     title = (soup.find(\"meta\", property=\"og:title\") or {}).get(\"content\", \"\")\n",
    "#     author = (soup.find(\"meta\", property=\"og:book:author\") or {}).get(\"content\", \"\")\n",
    "#     url_value = (soup.find(\"meta\", property=\"og:url\") or {}).get(\"content\", \"\")\n",
    "#     image = (soup.find(\"meta\", property=\"og:image\") or {}).get(\"content\", \"\")\n",
    "\n",
    "#     description = \"\"\n",
    "#     module_div = soup.find('div', id='module')\n",
    "#     if module_div:\n",
    "#         collapse_div = module_div.find('div', class_='collapse')\n",
    "#         if collapse_div:\n",
    "#             for table in collapse_div.find_all('table'):\n",
    "#                 table.decompose()\n",
    "#             for h3 in collapse_div.find_all('h3'):\n",
    "#                 if 'Характеристики' in h3.get_text():\n",
    "#                     h3.decompose()\n",
    "#             description = collapse_div.get_text(strip=True, separator=' ')\n",
    "#             description = ' '.join([line.strip() for line in description.split('\\n') if line.strip()])\n",
    "\n",
    "#     data = {\n",
    "#         \"title\": title,\n",
    "#         \"author\": author,\n",
    "#         \"url\": url_value,\n",
    "#         \"image\": image,\n",
    "#         \"description\": description\n",
    "#     }\n",
    "\n",
    "#     fieldnames = [\"title\", \"author\", \"url\", \"image\", \"description\"]\n",
    "\n",
    "#     current_dir = os.getcwd()\n",
    "#     full_path = os.path.join(current_dir, csv_filename)\n",
    "    \n",
    "#     file_exists = os.path.isfile(full_path)\n",
    "\n",
    "#     try:\n",
    "#         with open(full_path, \"a\", newline=\"\", encoding=\"utf-8\") as csvfile:\n",
    "#             writer = csv.DictWriter(csvfile, fieldnames=fieldnames)\n",
    "#             if not file_exists:\n",
    "#                 writer.writeheader()\n",
    "\n",
    "#             writer.writerow(data)\n",
    "\n",
    "#     except Exception as e:\n",
    "#         print(f\"[ERROR] Не удалось сохранить данные: {e}\")"
   ]
  },
  {
   "cell_type": "code",
   "execution_count": 184,
   "id": "0e303e65",
   "metadata": {},
   "outputs": [],
   "source": [
    "# pars_book_data('https://www.biblio-globus.ru/product/11021457')"
   ]
  },
  {
   "cell_type": "code",
   "execution_count": 182,
   "id": "4fffd609",
   "metadata": {},
   "outputs": [],
   "source": [
    "# extract_product_ids('https://www.biblio-globus.ru/catalog/category?id=185&page=2')"
   ]
  },
  {
   "cell_type": "code",
   "execution_count": null,
   "id": "6afc9fb7",
   "metadata": {},
   "outputs": [],
   "source": [
    "# import re, time, random, requests\n",
    "# from bs4 import BeautifulSoup\n",
    "\n",
    "# for i in range(1):      # количество заходов по категориям\n",
    "#     n = random.randint(0, len(links) - 1)\n",
    "#     subcategorie = links.iloc[n][2]\n",
    "\n",
    "#     url_subcat = f'https://www.biblio-globus.ru/catalog/category?id={subcategorie}'\n",
    "#     html = requests.get(url_subcat).text\n",
    "#     soup = BeautifulSoup(html, \"html.parser\")\n",
    "\n",
    "#     # ищем ссылку на последнюю страницу (»»)\n",
    "#     pagination_links = soup.select(\"ul.pagination a[aria-label='Next']\")\n",
    "\n",
    "#     if pagination_links:\n",
    "#         last_page_link = pagination_links[-1]\n",
    "#         last_page = int(re.search(r\"page=(\\d+)\", last_page_link[\"href\"]).group(1))\n",
    "#     else:\n",
    "#         last_page = 1  # Если нет пагинации, значит всего одна страница\n",
    "\n",
    "#     # случайные страницы без повторов\n",
    "#     pages = random.sample(range(1, last_page+1), k=min(5, last_page))\n",
    "\n",
    "#     for random_page in pages:      # количество обработанных страниц \n",
    "#         url_page = f'https://www.biblio-globus.ru/catalog/category?id={subcategorie}&page={random_page}'\n",
    "#         book_list = extract_product_ids(url_page)\n",
    "\n",
    "#         if not book_list:\n",
    "#             continue\n",
    "\n",
    "#         # берём до 5 случайных книг\n",
    "#         for num in random.sample(range(len(book_list)), k=min(5, len(book_list))):\n",
    "#             url_book = f'https://www.biblio-globus.ru/product/{book_list[num]}'\n",
    "#             pars_book_data(url_book, csv_filename=\"../data/books.csv\")\n",
    "#             time.sleep(random.uniform(0.5, 2))  # пауза чтобы не банили"
   ]
  },
  {
   "cell_type": "code",
   "execution_count": 181,
   "id": "0c4fd8f6",
   "metadata": {},
   "outputs": [],
   "source": [
    "# import re, time, random, requests\n",
    "# from bs4 import BeautifulSoup\n",
    "\n",
    "# for i in range(1000):  # количество заходов по категориям\n",
    "#     try:\n",
    "#         n = random.randint(0, len(links) - 1)\n",
    "#         subcategorie = links.iloc[n][2]\n",
    "\n",
    "#         url_subcat = f'https://www.biblio-globus.ru/catalog/category?id={subcategorie}'\n",
    "#         try:\n",
    "#             html = requests.get(url_subcat, timeout=10).text\n",
    "#         except Exception as e:\n",
    "#             print(f\"[ERROR] Не удалось загрузить категорию {subcategorie}: {e}\")\n",
    "#             continue\n",
    "\n",
    "#         soup = BeautifulSoup(html, \"html.parser\")\n",
    "\n",
    "#         # ищем ссылку на последнюю страницу (»»)\n",
    "#         pagination_links = soup.select(\"ul.pagination a[aria-label='Next']\")\n",
    "#         if pagination_links:\n",
    "#             last_page_link = pagination_links[-1]\n",
    "#             last_page = int(re.search(r\"page=(\\d+)\", last_page_link[\"href\"]).group(1))\n",
    "#         else:\n",
    "#             last_page = 1  # Если нет пагинации, значит всего одна страница\n",
    "\n",
    "#         # случайные страницы без повторов\n",
    "#         pages = random.sample(range(1, last_page+1), k=min(5, last_page))\n",
    "#         for random_page in pages:  # количество обработанных страниц \n",
    "#             url_page = f'https://www.biblio-globus.ru/catalog/category?id={subcategorie}&page={random_page}'\n",
    "\n",
    "#             try:\n",
    "#                 book_list = extract_product_ids(url_page)\n",
    "#             except Exception as e:\n",
    "#                 print(f\"[ERROR] Не удалось получить список книг: {e}\")\n",
    "#                 continue\n",
    "\n",
    "#             if not book_list:\n",
    "#                 print(f\"[WARNING] Нет книг на странице {url_page}\")\n",
    "#                 continue\n",
    "\n",
    "#             # берём до 5 случайных книг\n",
    "#             for num in random.sample(range(len(book_list)), k=min(5, len(book_list))):\n",
    "#                 try:\n",
    "#                     url_book = f'https://www.biblio-globus.ru/product/{book_list[num]}'\n",
    "#                     pars_book_data(url_book, csv_filename=\"../data/books.csv\") # type: ignore\n",
    "#                 except Exception as e:\n",
    "#                     print(f\"[ERROR] Ошибка парсинга книги {url_book}: {e}\")\n",
    "#                     continue\n",
    "\n",
    "#                 time.sleep(random.uniform(0.5, 2))  # пауза чтобы не банили\n",
    "\n",
    "#     except Exception as e:\n",
    "#         print(f\"[ERROR] Ошибка при обработке категории: {e}\")\n",
    "#         continue"
   ]
  },
  {
   "cell_type": "markdown",
   "id": "600e7fa9",
   "metadata": {},
   "source": [
    "# Паралельный парсер"
   ]
  },
  {
   "cell_type": "code",
   "execution_count": 179,
   "id": "277f6f64",
   "metadata": {},
   "outputs": [],
   "source": [
    "# import os, re, time, random, requests, csv\n",
    "# from bs4 import BeautifulSoup\n",
    "# from concurrent.futures import ThreadPoolExecutor, as_completed\n",
    "\n",
    "# csv_filename = \"../data/books.csv\"\n",
    "# fieldnames = [\"title\", \"author\", \"url\", \"image\", \"description\"]\n",
    "\n",
    "# def pars_book_data_return(url):\n",
    "#     \"\"\"Парсит страницу и возвращает dict (или None при ошибке).\"\"\"\n",
    "#     try:\n",
    "#         response = requests.get(url, timeout=10)\n",
    "#         response.raise_for_status()\n",
    "#     except Exception as e:\n",
    "#         print(f\"[ERROR] Не удалось загрузить страницу {url}: {e}\")\n",
    "#         return None\n",
    "\n",
    "#     soup = BeautifulSoup(response.text, \"lxml\")\n",
    "#     title = (soup.find(\"meta\", property=\"og:title\") or {}).get(\"content\", \"\")\n",
    "#     author = (soup.find(\"meta\", property=\"og:book:author\") or {}).get(\"content\", \"\")\n",
    "#     url_value = (soup.find(\"meta\", property=\"og:url\") or {}).get(\"content\", \"\")\n",
    "#     image = (soup.find(\"meta\", property=\"og:image\") or {}).get(\"content\", \"\")\n",
    "\n",
    "#     description = \"\"\n",
    "#     module_div = soup.find('div', id='module')\n",
    "#     if module_div:\n",
    "#         collapse_div = module_div.find('div', class_='collapse')\n",
    "#         if collapse_div:\n",
    "#             for table in collapse_div.find_all('table'):\n",
    "#                 table.decompose()\n",
    "#             for h3 in collapse_div.find_all('h3'):\n",
    "#                 if 'Характеристики' in h3.get_text():\n",
    "#                     h3.decompose()\n",
    "#             description = collapse_div.get_text(strip=True, separator=' ')\n",
    "#             description = ' '.join([line.strip() for line in description.split('\\n') if line.strip()])\n",
    "\n",
    "#     return {\n",
    "#         \"title\": title,\n",
    "#         \"author\": author,\n",
    "#         \"url\": url_value,\n",
    "#         \"image\": image,\n",
    "#         \"description\": description\n",
    "#     }"
   ]
  },
  {
   "cell_type": "code",
   "execution_count": 178,
   "id": "a4bb9d81",
   "metadata": {},
   "outputs": [],
   "source": [
    "# for i in range(1000):  # количество заходов по категориям\n",
    "#     try:\n",
    "#         n = random.randint(0, len(links) - 1)\n",
    "#         subcategorie = links.iloc[n][2]\n",
    "\n",
    "#         url_subcat = f'https://www.biblio-globus.ru/catalog/category?id={subcategorie}'\n",
    "#         try:\n",
    "#             html = requests.get(url_subcat, timeout=10).text\n",
    "#         except Exception as e:\n",
    "#             print(f\"[ERROR] Не удалось загрузить категорию {subcategorie}: {e}\")\n",
    "#             continue\n",
    "\n",
    "#         soup = BeautifulSoup(html, \"html.parser\")\n",
    "\n",
    "#         # ищем ссылку на последнюю страницу (»»)\n",
    "#         pagination_links = soup.select(\"ul.pagination a[aria-label='Next']\")\n",
    "#         if pagination_links:\n",
    "#             last_page_link = pagination_links[-1]\n",
    "#             last_page = int(re.search(r\"page=(\\d+)\", last_page_link[\"href\"]).group(1))\n",
    "#         else:\n",
    "#             last_page = 1\n",
    "\n",
    "#         # случайные страницы без повторов\n",
    "#         pages = random.sample(range(1, last_page+1), k=min(5, last_page))\n",
    "        \n",
    "#         for random_page in pages:  # количество обработанных страниц \n",
    "#             # ДОБАВЬТЕ ЭТУ СТРОКУ - получаем книги для КАЖДОЙ страницы\n",
    "#             url_page = f'https://www.biblio-globus.ru/catalog/category?id={subcategorie}&page={random_page}'\n",
    "#             book_list = extract_product_ids(url_page)  # ← ЭТОГО НЕ БЫЛО!\n",
    "            \n",
    "#             if not book_list:\n",
    "#                 continue\n",
    "\n",
    "            \n",
    "#             # внутри твоего for random_page in pages:\n",
    "#             urls_books = [\n",
    "#                 f'https://www.biblio-globus.ru/product/{book_list[num]}'\n",
    "#                 for num in random.sample(range(len(book_list)), k=min(5, len(book_list)))\n",
    "#             ]\n",
    "\n",
    "#             # парсим параллельно\n",
    "#             results = []\n",
    "#             with ThreadPoolExecutor(max_workers=10) as executor:\n",
    "#                 futures = {executor.submit(pars_book_data_return, u): u for u in urls_books}\n",
    "#                 for fut in as_completed(futures):\n",
    "#                     url = futures[fut]\n",
    "#                     try:\n",
    "#                         res = fut.result()\n",
    "#                         if res:\n",
    "#                             results.append(res)\n",
    "#                     except Exception as e:\n",
    "#                         print(f\"[ERROR] В потоке при парсинге {url}: {e}\")\n",
    "\n",
    "#             # запись одним батчем (основной поток)\n",
    "#             if results:\n",
    "#                 file_new = not os.path.exists(csv_filename) or os.path.getsize(csv_filename) == 0\n",
    "#                 with open(csv_filename, \"a\", newline=\"\", encoding=\"utf-8\") as csvfile:\n",
    "#                     writer = csv.DictWriter(csvfile, fieldnames=fieldnames)\n",
    "#                     if file_new:\n",
    "#                         writer.writeheader()\n",
    "#                     for res in results:\n",
    "#                         writer.writerow({k: res.get(k, \"\") for k in fieldnames})\n",
    "\n",
    "#             # опционально — небольшая пауза между страницами/батчами\n",
    "#             time.sleep(random.uniform(0.5, 1.5))\n",
    "\n",
    "#     except Exception as e:\n",
    "#         print(f\"[ERROR] Ошибка при обработке категории: {e}\")\n",
    "#         continue"
   ]
  },
  {
   "cell_type": "code",
   "execution_count": 185,
   "id": "f66210da",
   "metadata": {},
   "outputs": [
    {
     "data": {
      "text/html": [
       "<div>\n",
       "<style scoped>\n",
       "    .dataframe tbody tr th:only-of-type {\n",
       "        vertical-align: middle;\n",
       "    }\n",
       "\n",
       "    .dataframe tbody tr th {\n",
       "        vertical-align: top;\n",
       "    }\n",
       "\n",
       "    .dataframe thead th {\n",
       "        text-align: right;\n",
       "    }\n",
       "</style>\n",
       "<table border=\"1\" class=\"dataframe\">\n",
       "  <thead>\n",
       "    <tr style=\"text-align: right;\">\n",
       "      <th></th>\n",
       "      <th>title</th>\n",
       "      <th>author</th>\n",
       "      <th>url_value</th>\n",
       "      <th>image</th>\n",
       "      <th>description</th>\n",
       "    </tr>\n",
       "  </thead>\n",
       "  <tbody>\n",
       "    <tr>\n",
       "      <th>0</th>\n",
       "      <td>ИСТОРИК №09 (129). Сентябрь 2025</td>\n",
       "      <td>NaN</td>\n",
       "      <td>https://www.biblio-globus.ru/product/11060070</td>\n",
       "      <td>https://static1.bgshop.ru/imagehandler.ashx?fi...</td>\n",
       "      <td>Читайте в номере: ПУТЬ К ЦАРСТВУ: как Москва и...</td>\n",
       "    </tr>\n",
       "    <tr>\n",
       "      <th>1</th>\n",
       "      <td>Тайны XIX века. Тайны морей и островов</td>\n",
       "      <td>Булычев К.</td>\n",
       "      <td>https://www.biblio-globus.ru/product/11021457</td>\n",
       "      <td>https://static1.bgshop.ru/imagehandler.ashx?fi...</td>\n",
       "      <td>Прошлое надежно хранит свои тайны и, как всем ...</td>\n",
       "    </tr>\n",
       "    <tr>\n",
       "      <th>2</th>\n",
       "      <td>Новый японско-русский и  русско-японский слова...</td>\n",
       "      <td>NaN</td>\n",
       "      <td>https://www.biblio-globus.ru/product/10296217</td>\n",
       "      <td>https://static1.bgshop.ru/imagehandler.ashx?fi...</td>\n",
       "      <td>Словарь удобен для быстрого и точного перевода...</td>\n",
       "    </tr>\n",
       "    <tr>\n",
       "      <th>3</th>\n",
       "      <td>Японский для новичков</td>\n",
       "      <td>Сыщикова А.Н.</td>\n",
       "      <td>https://www.biblio-globus.ru/product/10977175</td>\n",
       "      <td>https://static1.bgshop.ru/imagehandler.ashx?fi...</td>\n",
       "      <td>Александра Сыщикова — дипломированный специали...</td>\n",
       "    </tr>\n",
       "    <tr>\n",
       "      <th>4</th>\n",
       "      <td>Японский язык. Учебный словарь иероглифов. 200...</td>\n",
       "      <td>Попов М.</td>\n",
       "      <td>https://www.biblio-globus.ru/product/10277868</td>\n",
       "      <td>https://static1.bgshop.ru/imagehandler.ashx?fi...</td>\n",
       "      <td>Словарь содержит свыше 2 000 иероглифов. Иерог...</td>\n",
       "    </tr>\n",
       "  </tbody>\n",
       "</table>\n",
       "</div>"
      ],
      "text/plain": [
       "                                               title          author  \\\n",
       "0                   ИСТОРИК №09 (129). Сентябрь 2025             NaN   \n",
       "1             Тайны XIX века. Тайны морей и островов      Булычев К.   \n",
       "2  Новый японско-русский и  русско-японский слова...             NaN   \n",
       "3                              Японский для новичков  Сыщикова А.Н.    \n",
       "4  Японский язык. Учебный словарь иероглифов. 200...        Попов М.   \n",
       "\n",
       "                                       url_value  \\\n",
       "0  https://www.biblio-globus.ru/product/11060070   \n",
       "1  https://www.biblio-globus.ru/product/11021457   \n",
       "2  https://www.biblio-globus.ru/product/10296217   \n",
       "3  https://www.biblio-globus.ru/product/10977175   \n",
       "4  https://www.biblio-globus.ru/product/10277868   \n",
       "\n",
       "                                               image  \\\n",
       "0  https://static1.bgshop.ru/imagehandler.ashx?fi...   \n",
       "1  https://static1.bgshop.ru/imagehandler.ashx?fi...   \n",
       "2  https://static1.bgshop.ru/imagehandler.ashx?fi...   \n",
       "3  https://static1.bgshop.ru/imagehandler.ashx?fi...   \n",
       "4  https://static1.bgshop.ru/imagehandler.ashx?fi...   \n",
       "\n",
       "                                         description  \n",
       "0  Читайте в номере: ПУТЬ К ЦАРСТВУ: как Москва и...  \n",
       "1  Прошлое надежно хранит свои тайны и, как всем ...  \n",
       "2  Словарь удобен для быстрого и точного перевода...  \n",
       "3  Александра Сыщикова — дипломированный специали...  \n",
       "4  Словарь содержит свыше 2 000 иероглифов. Иерог...  "
      ]
     },
     "execution_count": 185,
     "metadata": {},
     "output_type": "execute_result"
    }
   ],
   "source": [
    "data = pd.read_csv('../data/Nadia_books.csv')\n",
    "data.head()"
   ]
  },
  {
   "cell_type": "code",
   "execution_count": 186,
   "id": "6a8ba901",
   "metadata": {},
   "outputs": [
    {
     "data": {
      "text/plain": [
       "title            21\n",
       "author         2613\n",
       "url_value        21\n",
       "image            21\n",
       "description     119\n",
       "dtype: int64"
      ]
     },
     "execution_count": 186,
     "metadata": {},
     "output_type": "execute_result"
    }
   ],
   "source": [
    "data.isna().sum()"
   ]
  },
  {
   "cell_type": "code",
   "execution_count": 187,
   "id": "34b047ea",
   "metadata": {},
   "outputs": [
    {
     "data": {
      "text/plain": [
       "(27432, 5)"
      ]
     },
     "execution_count": 187,
     "metadata": {},
     "output_type": "execute_result"
    }
   ],
   "source": [
    "data.shape"
   ]
  },
  {
   "cell_type": "code",
   "execution_count": 189,
   "id": "7009c335",
   "metadata": {},
   "outputs": [
    {
     "data": {
      "text/plain": [
       "(17102, 5)"
      ]
     },
     "execution_count": 189,
     "metadata": {},
     "output_type": "execute_result"
    }
   ],
   "source": [
    "dupes = data[data.duplicated(subset=[\"author\", \"title\"], keep=False)]\n",
    "dupes.shape"
   ]
  },
  {
   "cell_type": "code",
   "execution_count": 190,
   "id": "fb6d6920",
   "metadata": {},
   "outputs": [
    {
     "name": "stdout",
     "output_type": "stream",
     "text": [
      "5690\n"
     ]
    }
   ],
   "source": [
    "unique_books = dupes.drop_duplicates(subset=[\"author\", \"title\"])\n",
    "print(len(unique_books))  # столько уникальных книг-дубликатов"
   ]
  },
  {
   "cell_type": "code",
   "execution_count": 191,
   "id": "70f94c2a",
   "metadata": {},
   "outputs": [
    {
     "name": "stdout",
     "output_type": "stream",
     "text": [
      "16020\n"
     ]
    }
   ],
   "source": [
    "unique_books_all = data.drop_duplicates(subset=[\"author\", \"title\"])\n",
    "print(len(unique_books_all))  # столько уникальных книг-дубликатов"
   ]
  },
  {
   "cell_type": "code",
   "execution_count": 192,
   "id": "9e5e86e9",
   "metadata": {},
   "outputs": [
    {
     "data": {
      "text/plain": [
       "title             1\n",
       "author         1528\n",
       "url_value         1\n",
       "image             1\n",
       "description      94\n",
       "dtype: int64"
      ]
     },
     "execution_count": 192,
     "metadata": {},
     "output_type": "execute_result"
    }
   ],
   "source": [
    "unique_books_all.isna().sum()"
   ]
  },
  {
   "cell_type": "markdown",
   "id": "b3954254",
   "metadata": {},
   "source": [
    "#### Обработка пропусков"
   ]
  },
  {
   "cell_type": "code",
   "execution_count": 193,
   "id": "bd9ac874",
   "metadata": {},
   "outputs": [],
   "source": [
    "nans = data[(data[\"author\"] == \"\") | (data[\"author\"].isna())]\n",
    "keywords = [\"календарь\", \"Календарь\", \"Набор\"]\n",
    "pattern = \"|\".join(keywords)                                   # \"календарь|Календарь\"\n",
    "unique_books_all = unique_books_all.drop(\n",
    "    unique_books_all[unique_books_all[\"title\"].str.contains(pattern, case=False, na=False)].index\n",
    ")\n",
    "unique_books_all = unique_books_all.dropna(subset=[\"description\", 'title', 'url_value', 'image'])\n",
    "unique_books_all[\"author\"] = unique_books_all[\"author\"].fillna(\"Без автора\")"
   ]
  },
  {
   "cell_type": "code",
   "execution_count": 194,
   "id": "b8cb82e3",
   "metadata": {},
   "outputs": [
    {
     "data": {
      "text/plain": [
       "title          0\n",
       "author         0\n",
       "url_value      0\n",
       "image          0\n",
       "description    0\n",
       "dtype: int64"
      ]
     },
     "execution_count": 194,
     "metadata": {},
     "output_type": "execute_result"
    }
   ],
   "source": [
    "unique_books_all.isna().sum()"
   ]
  },
  {
   "cell_type": "code",
   "execution_count": 195,
   "id": "5560bd62",
   "metadata": {},
   "outputs": [
    {
     "data": {
      "text/plain": [
       "(15878, 5)"
      ]
     },
     "execution_count": 195,
     "metadata": {},
     "output_type": "execute_result"
    }
   ],
   "source": [
    "unique_books_all.shape"
   ]
  }
 ],
 "metadata": {
  "kernelspec": {
   "display_name": "phase2",
   "language": "python",
   "name": "python3"
  },
  "language_info": {
   "codemirror_mode": {
    "name": "ipython",
    "version": 3
   },
   "file_extension": ".py",
   "mimetype": "text/x-python",
   "name": "python",
   "nbconvert_exporter": "python",
   "pygments_lexer": "ipython3",
   "version": "3.13.5"
  }
 },
 "nbformat": 4,
 "nbformat_minor": 5
}
