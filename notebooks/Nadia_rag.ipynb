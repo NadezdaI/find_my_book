{
  "cells": [
    {
      "cell_type": "markdown",
      "metadata": {
        "id": "cAyAy-wpCcoG"
      },
      "source": [
        "# Cемантический поиск и RAG"
      ]
    },
    {
      "cell_type": "markdown",
      "metadata": {
        "id": "-TRp5t03C0qY"
      },
      "source": [
        "## 1. Подгрузка данных"
      ]
    },
    {
      "cell_type": "code",
      "execution_count": 9,
      "metadata": {
        "id": "AhcbgW4LABrC"
      },
      "outputs": [],
      "source": [
        "import pandas as pd\n",
        "import torch\n",
        "from dotenv import load_dotenv\n",
        "import os\n",
        "pd.set_option('display.max_columns', None)  # показывать все колонки датафрейма при выводе, не обрезая их"
      ]
    },
    {
      "cell_type": "code",
      "execution_count": 2,
      "metadata": {
        "colab": {
          "base_uri": "https://localhost:8080/"
        },
        "id": "Kwh1TSXhAMQk",
        "outputId": "e9ca448d-4f56-4f9e-cafa-40d6672a14aa"
      },
      "outputs": [],
      "source": [
        "data1 = pd.read_csv(\"../data/Nadia_books.csv\")\n",
        "data2 = pd.read_csv(\"../data/books_1_SD.csv\")\n",
        "data3 = pd.read_csv(\"../data/books_fast_test_SD.csv\")\n",
        "data1.rename(columns={\"description\": \"annotation\", \"url_value\":\"page_url\", \"image\":\"image_url\"}, inplace=True)"
      ]
    },
    {
      "cell_type": "code",
      "execution_count": 3,
      "metadata": {},
      "outputs": [
        {
          "data": {
            "text/plain": [
              "(68998, 6)"
            ]
          },
          "execution_count": 3,
          "metadata": {},
          "output_type": "execute_result"
        }
      ],
      "source": [
        "data_original = pd.concat([data1, data2, data3], ignore_index=True)\n",
        "data_original.shape"
      ]
    },
    {
      "cell_type": "code",
      "execution_count": 5,
      "metadata": {},
      "outputs": [
        {
          "data": {
            "text/plain": [
              "(22470, 6)"
            ]
          },
          "execution_count": 5,
          "metadata": {},
          "output_type": "execute_result"
        }
      ],
      "source": [
        "data = data_original.drop_duplicates(subset=[\"author\", \"title\"])\n",
        "data = data_original.drop_duplicates(subset=[\"page_url\"])\n",
        "\n",
        "keywords = [\"календарь\", \"Календарь\"]\n",
        "pattern = \"|\".join(keywords)                                  \n",
        "data = data.drop(\n",
        "    data[data[\"title\"].str.contains(pattern, case=False, na=False)].index\n",
        ")\n",
        "\n",
        "data = data.dropna(subset=[\"annotation\", 'title', 'page_url', 'image_url'])\n",
        "data[\"author\"] = data[\"author\"].replace([\".\", \"nan\", \"\"], \"Без автора\").fillna(\"Без автора\")\n",
        "df = data[data['annotation'].str.len() >= 20]    # удаляем книги с описанием менее 20 знаков.\n",
        "df = df[df['annotation'].str.contains(r'[а-яА-Я]', na=False)] # удаляем книги, где описание не на кириллице\n",
        "data.shape\n",
        "# data.to_csv(\"../data/big_data.csv\")"
      ]
    },
    {
      "cell_type": "code",
      "execution_count": 5,
      "metadata": {
        "id": "k7Ae1SbbAkb7"
      },
      "outputs": [],
      "source": [
        "!uv pip install -q langchain_qdrant qdrant_client"
      ]
    },
    {
      "cell_type": "markdown",
      "metadata": {
        "id": "QqcE7UVthqdU"
      },
      "source": [
        "Qdrant хранит векторы (числовые представления объектов, например эмбеддингов текста или изображений) и позволяет быстро искать похожие объекты."
      ]
    },
    {
      "cell_type": "markdown",
      "metadata": {
        "id": "5fYpOueEhvW9"
      },
      "source": [
        "LangChain помогает строить LLM-приложения (чаты, RAG-системы, ассистенты)."
      ]
    },
    {
      "cell_type": "markdown",
      "metadata": {
        "id": "O3Q1FDKGC-fh"
      },
      "source": [
        "## 2. Индексация данных в векторной базе данных"
      ]
    },
    {
      "cell_type": "markdown",
      "metadata": {
        "id": "1_zxDpVvMpTZ"
      },
      "source": [
        "![indexing](https://d11qzsb0ksp6iz.cloudfront.net/assets/dff374c348_indexing-in-vector-database.webp)"
      ]
    },
    {
      "cell_type": "markdown",
      "metadata": {
        "id": "A6A0EAm1MHWM"
      },
      "source": [
        "#### 🎯 **Основные векторные базы данных:**\n",
        "\n",
        "* 🟢 **Qdrant** - открытая векторная БД с поддержкой фильтрации и метаданных\n",
        "* ⚫ **Faiss** - библиотека для эффективного поиска похожести от Facebook\n",
        "* 🟡 **Chroma** - легковесная векторная БД для разработки и тестирования\n",
        "* 🔵 **Pinecone** - облачная векторная БД с высокой производительностью  \n",
        "* 🟣 **Weaviate** - векторная БД с GraphQL API и семантическим поиском\n",
        "* 🔴 **Milvus** - распределенная векторная БД для больших данных\n",
        "* 🟠 **Elasticsearch** - поисковый движок с векторными возможностями\n",
        "* 🟤 **Annoy** - библиотека для приближенного поиска ближайших соседей\n",
        "\n",
        "\n"
      ]
    },
    {
      "cell_type": "markdown",
      "metadata": {
        "id": "fOJlNBe2MM5I"
      },
      "source": [
        "* В данном примере мы используем **Qdrant** 🟢"
      ]
    },
    {
      "cell_type": "code",
      "execution_count": 6,
      "metadata": {
        "id": "q6B8axHRAole"
      },
      "outputs": [],
      "source": [
        "from qdrant_client import QdrantClient\n",
        "from qdrant_client.http.models import Distance, VectorParams"
      ]
    },
    {
      "cell_type": "code",
      "execution_count": 27,
      "metadata": {
        "id": "FEPIeI77Axlo"
      },
      "outputs": [
        {
          "name": "stdout",
          "output_type": "stream",
          "text": [
            "collections=[]\n"
          ]
        }
      ],
      "source": [
        "#Все данные (вектора + метаданные) будут сохраняться в папку db/qdrant_db\n",
        "\n",
        "load_dotenv()  \n",
        "QDRANT_API_KEY = os.getenv(\"QDRANT_API_KEY\")\n",
        "\n",
        "client = QdrantClient(\n",
        "    api_key=QDRANT_API_KEY,\n",
        "    url='https://f34ed4c0-8bf2-4f62-8d2c-63860393cdce.us-east4-0.gcp.cloud.qdrant.io'\n",
        "    )\n",
        "print(client.get_collections())\n"
      ]
    },
    {
      "cell_type": "code",
      "execution_count": 28,
      "metadata": {
        "colab": {
          "base_uri": "https://localhost:8080/"
        },
        "id": "PYyBNbkeAyTo",
        "outputId": "d16b7ead-8b7e-4e8a-eac6-ad14ff93ccf2"
      },
      "outputs": [
        {
          "data": {
            "text/plain": [
              "True"
            ]
          },
          "execution_count": 28,
          "metadata": {},
          "output_type": "execute_result"
        }
      ],
      "source": [
        "#Cоздаём в Qdrant новую таблицу для хранения векторов.\n",
        "client.create_collection(\n",
        "    collection_name=\"books_collection\",\n",
        "    vectors_config=VectorParams(size=768, distance=Distance.COSINE), #размерность векторов (длина эмбеддинга) | косинусное сходство\n",
        ")\n"
      ]
    },
    {
      "cell_type": "markdown",
      "metadata": {
        "id": "lRQM2-qA0U9j"
      },
      "source": [
        "![langchani](https://daxg39y63pxwu.cloudfront.net/images/blog/langchain/LangChain.webp)"
      ]
    },
    {
      "cell_type": "code",
      "execution_count": 29,
      "metadata": {
        "id": "JtFg1WN8S4ZW"
      },
      "outputs": [],
      "source": [
        "!uv pip install -q langchain_huggingface\n",
        "# pip install sentence-transformers"
      ]
    },
    {
      "cell_type": "markdown",
      "metadata": {},
      "source": [
        "Загружаем модель Sentence Transformers через LangChain и настраиваешь её для генерации векторных представлений текста, чтобы можно было использовать в поиске или других NLP-задачах.\n",
        "\n",
        "Берем класс HuggingFaceEmbeddings из библиотеки LangChain, который упрощает работу с эмбеддингами моделей HuggingFace.\n",
        "Эмбеддинги — это векторные представления текста, которые позволяют машине понимать смысл.\n",
        "\n",
        "Модель paraphrase-multilingual-mpnet-base-v2 — это Sentence Transformer, которая преобразует текст в вектор (embedding) и умеет работать на многих языках. Её основное применение:\n",
        "- Поиск похожих текстов\n",
        "- Semantic Search\n",
        "- Кластеризация\n",
        "- Рекомендательные системы\n",
        "\n",
        "normalize_embeddings=True → нормализует вектора (важно для некоторых алгоритмов поиска по косинусному расстоянию).\n",
        "\n",
        "Создаётся объект embeddings_model, который загружает модель из HuggingFace Hub - будет готова преобразовывать текст в вектора. vector — это список чисел, который представляет смысл фразы."
      ]
    },
    {
      "cell_type": "code",
      "execution_count": 30,
      "metadata": {
        "colab": {
          "base_uri": "https://localhost:8080/",
          "height": 369,
          "referenced_widgets": [
            "b98ef96d1f5e416898dd7b98ef3cae73",
            "e08d574200da479aa9ce599ab24e6b0b",
            "ce4f695240c54d7b87a037012a4bdcbd",
            "e14d43c77ad347b09994b57b7b45c80f",
            "9a07a838b3514a8eaed47025fb82f09d",
            "5a9b32c838ee4e95ac6a5a387f321939",
            "e50409286a7e45498e2f35cd40ee5dc8",
            "16f3d890acda4b5eabe9339de04f6114",
            "d35dbbc555a54efd8cfd3bf10581e299",
            "1f5e4015b6d7419a927d9ba4c120f3b5",
            "d3770596c6aa4907bc5170e74c3c05d6",
            "5936adc33d6a4db4908b6c6938a0d4a6",
            "21a0e130c1574bfe946862250d3663b1",
            "9f51dbb13fe5413a92d4bf034ed6ba5c",
            "873df3b9f2614ff3ac3144523c67b2c0",
            "14e19f212aae437da9823909f3dd7928",
            "983d9145607a4bc7b7fa5aa467acdb45",
            "931cc68868a64132b1bb8fff70d321f7",
            "907b0abed8c041448bb818753cabb4c5",
            "fad125c615804a7d93e8aca04b0c6446",
            "a4fe356b4bfe4cc786605e738bcaa692",
            "5ffd1efde3814397b820afac297edfd4",
            "9f1c0e7b3677434f8191e5d33a5f47ff",
            "6be73389666b4149b6bb228ca3c0a622",
            "af1c9641c7e34c41a4520157158efcbc",
            "bd1d96ed2f754bf7aa61da8837d3eba4",
            "0bca308de0614163b003cd2dfdc02de8",
            "09cff73a909d401d8801882d4bea9ce9",
            "c04cfb8c50684c04a04cb7a4e4854cf6",
            "1702f7f735284e6e9a4dca6272d1b31c",
            "add2b3ccfad04b94a567ead12b8d400d",
            "00f51f234e0f42a09b9d75c19d265779",
            "15ce4137439f4a97a2963c0a20e15fec",
            "721b671eb5d44f878a8ea3d12962b93c",
            "d1e972873af64f0f9ebe1b606a10ab04",
            "02713b94c8a04d5baefa82cf4f121708",
            "323abcfbe3bf49d084f3ab14497451ac",
            "00a3110e63a141309e8f6b4dfefe8a0a",
            "f9f1b91434b44dbc9d2f691c7b8bb602",
            "ead56c3ac40b4b8d9a441287192e5a9b",
            "6a7e9af8a77f4600a9aef478a3b3beb5",
            "711bcef0f483495192cc5bc3e1ae2ac9",
            "b5ac1a3bf9f145c0a19d8dee04cf7194",
            "9d209ab6860b4df6b74b223b617ef367",
            "c08ba72a42a24c19a52680b0d264c9ed",
            "be54e1cf9da346de980be226a2e6c087",
            "a974784a68f34cad8119125d6c345ea8",
            "f90ba50323fd4946a2e7ac5ee0a32681",
            "09436b2460b74923896ec338ee62fca9",
            "e355acd666914478a91af6833af7e47f",
            "4bcfc84ca1194b7a9dd7e05e32fe877a",
            "5778e17e6fce44b6adaa8ee9ce579523",
            "6f62c5944bf04ef6b5a22a5322231336",
            "0e347cf09b1042f4b904bf5cf7158238",
            "31a040f5dc5d4276944843da6de878a6",
            "01abfa31ff114218a3a5ecffa5760e58",
            "d64cede49e304306a9c4e0bfdc2fb432",
            "0547d5cd813a4f3eb32f0709ad0bbcab",
            "97cf23cf6f224541ba7fd6495726e507",
            "69f09b54076848ebb1a3e1259256f475",
            "6e405a7809a84d1b86ce1ef5a36c0401",
            "95430a65a1b24c8eb08c14b659ef3a56",
            "2197e043488d47fa9e79df00d1ee1d7a",
            "6fec40ba1527417db96421644ac793fa",
            "763c32550bb94cfbbe45fa703d7582fe",
            "5b46a63a63314eddb8c0894276826c94",
            "0f91aed235f946f792ae78d9249af8cd",
            "a6c2ffd4d10444de849f4883d2a64c48",
            "2948dd72054f41c3874ff7d46603a35e",
            "41b92ead26e94da192b36b5202e32d0e",
            "6d9ac71eff1f4bf1904bd0a8ef468f53",
            "ab2ebb490c264c19b33931416d4c3cc7",
            "23c9d1f5c2894ed48a14f949b2bb9caa",
            "383499b529e54383af86b79774fdca20",
            "c240780d150944e99fd3e274c6cb2f1c",
            "f359cd068e9a43b5b13832096926533b",
            "522a2786531248e88eb4165e008be109",
            "5be72b6e311b4505a5e707d82daf631c",
            "29888d778bb1413eaaa74c0d1bd21b0c",
            "04b9e1dfebee46c88dd64e89b258849d",
            "0fe146d953064b04a3b8f7fea51df02a",
            "b1df5d8b576d4dc889468a8bd85c600c",
            "c0c37899bdb849fc8653b9080f56af1d",
            "33590da334e54b3997287cfe8f965453",
            "513044b9e00447b99afb466fa790c6f0",
            "85a7a648df7c47f3a9b0a24aa1ff91ae",
            "f560cb288edf4cff8beab5fda5d75ebd",
            "f8e64cdd881f45bbb966f2e8a2535bcd",
            "bc890d18a7944722a3bfab3f0a926658",
            "863f15dac8f249dfb79a4e76b39667bb",
            "f44c52b07edc4fecbc17127940196d84",
            "6796444de9204aa6809f3a13a7aa8508",
            "ecde9e722e7346b8a5aa61fe0346c68c",
            "35f3fd9aad7146a79abc0ac976ccd340",
            "ebd974fa059641dfaf4c8803e2807779",
            "4b35a3bd78b348878251ffb40a71a0ec",
            "cebc48ddde124e88ae8eb40331f630e0",
            "d3e0bb4fd617442a863143a82b66c803",
            "7a657a0dce3840e794b5aae82ed829eb",
            "55315f8274bb46239f5d582df7775267",
            "f5546c41d06f4dfb8828aea0ce575985",
            "72a65555bb004e38841df9ed1622dce4",
            "d15bae086fc34177a9c73979e239eec0",
            "65e5aabea1fe400f866efa538add08f9",
            "705185ce44c6418fa7007d38598e2286",
            "311b4631ba494ad6a8584aebb65a7e22",
            "d06e661ba660488f928dd546b22aa848",
            "d143c1736db44e20a829911bde2a8f32",
            "5fbe3ee2e1a349569bfd1e112181eaed",
            "eb53869b4ac544db9a1e7264599fcf01",
            "62b2a8a03bef469e8f2f2e2aad18b64a",
            "5dd637b0e24f47b28c6780543b2ce40e",
            "6eb54ea93ac14120a109dd376c75115b",
            "c97895eb33124c46947fe6c1988e0e45",
            "9b7384e0f5504a548761f99ecd0c2933",
            "3772375fed94449ba3e8842ed0b17b3b",
            "2e0eaa4d1df84dd5ab795e36a8ca6955",
            "4d1ae08dc56e4978813b2f9f63cc38a6",
            "0ae9203c1607489eb5f8344693228f0c",
            "6895c77affc34eb9a693b5713ac7f6d8",
            "04913050ea0f448b869986354e8e2898"
          ]
        },
        "id": "1CnuTNzSA4IF",
        "outputId": "968534ec-4a39-4873-dc11-1864cdc3d897"
      },
      "outputs": [
        {
          "name": "stderr",
          "output_type": "stream",
          "text": [
            "/Users/maryjones/miniforge3/envs/phase2/lib/python3.13/site-packages/tqdm/auto.py:21: TqdmWarning: IProgress not found. Please update jupyter and ipywidgets. See https://ipywidgets.readthedocs.io/en/stable/user_install.html\n",
            "  from .autonotebook import tqdm as notebook_tqdm\n"
          ]
        }
      ],
      "source": [
        "from langchain_huggingface import HuggingFaceEmbeddings\n",
        "\n",
        "model_name = \"sentence-transformers/paraphrase-multilingual-mpnet-base-v2\"\n",
        "device = \"mps\" if torch.backends.mps.is_available() else \"cpu\"\n",
        "model_kwargs = {\"device\": device}\n",
        "encode_kwargs = {'normalize_embeddings': True, 'batch_size':128}\n",
        "\n",
        "embeddings_model = HuggingFaceEmbeddings(      # Создаётся объект embeddings_model, который загружает модель из HuggingFace Hub\n",
        "    model_name=model_name,                     # будет готова преобразовывать текст в вектора\n",
        "    model_kwargs=model_kwargs,\n",
        "    encode_kwargs=encode_kwargs,\n",
        ")"
      ]
    },
    {
      "cell_type": "code",
      "execution_count": null,
      "metadata": {
        "id": "VKI9n-iRuTqX"
      },
      "outputs": [],
      "source": [
        "len_data = data['annotation'].map(lambda x: len(x.split(' '))) # в каждой строке сохраняем кол-во число слов"
      ]
    },
    {
      "cell_type": "code",
      "execution_count": 12,
      "metadata": {
        "colab": {
          "base_uri": "https://localhost:8080/",
          "height": 458
        },
        "id": "KuWJrwVIjc5R",
        "outputId": "5462b3f2-38b0-4bb2-dade-02765af3a11f"
      },
      "outputs": [
        {
          "data": {
            "text/plain": [
              "(28851,)"
            ]
          },
          "execution_count": 12,
          "metadata": {},
          "output_type": "execute_result"
        }
      ],
      "source": [
        "len_data.shape"
      ]
    },
    {
      "cell_type": "code",
      "execution_count": 13,
      "metadata": {
        "colab": {
          "base_uri": "https://localhost:8080/",
          "height": 467
        },
        "id": "pXDTxKTVujva",
        "outputId": "fcff354a-7aab-4860-9e77-a09206a75a32"
      },
      "outputs": [
        {
          "data": {
            "text/plain": [
              "<Axes: xlabel='annotation', ylabel='Count'>"
            ]
          },
          "execution_count": 13,
          "metadata": {},
          "output_type": "execute_result"
        },
        {
          "data": {
            "image/png": "[encoded data removed]",
            "text/plain": [
              "<Figure size 640x480 with 1 Axes>"
            ]
          },
          "metadata": {},
          "output_type": "display_data"
        }
      ],
      "source": [
        "import seaborn as sns\n",
        "\n",
        "sns.histplot(len_data)"
      ]
    },
    {
      "cell_type": "code",
      "execution_count": 14,
      "metadata": {
        "colab": {
          "base_uri": "https://localhost:8080/",
          "height": 335
        },
        "id": "XZ9W9MVavfFV",
        "outputId": "f2b3d2d0-825d-4a57-8b45-d2bdcc65feb2"
      },
      "outputs": [
        {
          "data": {
            "text/plain": [
              "count    28851.000000\n",
              "mean       156.119164\n",
              "std        111.373952\n",
              "min          1.000000\n",
              "25%         84.000000\n",
              "50%        129.000000\n",
              "75%        204.000000\n",
              "max       2526.000000\n",
              "Name: annotation, dtype: float64"
            ]
          },
          "execution_count": 14,
          "metadata": {},
          "output_type": "execute_result"
        }
      ],
      "source": [
        "len_data.describe()"
      ]
    },
    {
      "cell_type": "code",
      "execution_count": 15,
      "metadata": {
        "colab": {
          "base_uri": "https://localhost:8080/",
          "height": 441
        },
        "id": "oopr5I3kwbI4",
        "outputId": "1b0ab0e5-c43f-4d06-f63d-3dcc56cf6bd0"
      },
      "outputs": [
        {
          "data": {
            "text/html": [
              "<div>\n",
              "<style scoped>\n",
              "    .dataframe tbody tr th:only-of-type {\n",
              "        vertical-align: middle;\n",
              "    }\n",
              "\n",
              "    .dataframe tbody tr th {\n",
              "        vertical-align: top;\n",
              "    }\n",
              "\n",
              "    .dataframe thead th {\n",
              "        text-align: right;\n",
              "    }\n",
              "</style>\n",
              "<table border=\"1\" class=\"dataframe\">\n",
              "  <thead>\n",
              "    <tr style=\"text-align: right;\">\n",
              "      <th></th>\n",
              "      <th>title</th>\n",
              "      <th>author</th>\n",
              "      <th>page_url</th>\n",
              "      <th>image_url</th>\n",
              "      <th>annotation</th>\n",
              "    </tr>\n",
              "  </thead>\n",
              "  <tbody>\n",
              "    <tr>\n",
              "      <th>0</th>\n",
              "      <td>ИСТОРИК №09 (129). Сентябрь 2025</td>\n",
              "      <td>Без автора</td>\n",
              "      <td>https://www.biblio-globus.ru/product/11060070</td>\n",
              "      <td>https://static1.bgshop.ru/imagehandler.ashx?fi...</td>\n",
              "      <td>Читайте в номере: ПУТЬ К ЦАРСТВУ: как Москва и...</td>\n",
              "    </tr>\n",
              "    <tr>\n",
              "      <th>1</th>\n",
              "      <td>Тайны XIX века. Тайны морей и островов</td>\n",
              "      <td>Булычев К.</td>\n",
              "      <td>https://www.biblio-globus.ru/product/11021457</td>\n",
              "      <td>https://static1.bgshop.ru/imagehandler.ashx?fi...</td>\n",
              "      <td>Прошлое надежно хранит свои тайны и, как всем ...</td>\n",
              "    </tr>\n",
              "    <tr>\n",
              "      <th>2</th>\n",
              "      <td>Новый японско-русский и  русско-японский слова...</td>\n",
              "      <td>Без автора</td>\n",
              "      <td>https://www.biblio-globus.ru/product/10296217</td>\n",
              "      <td>https://static1.bgshop.ru/imagehandler.ashx?fi...</td>\n",
              "      <td>Словарь удобен для быстрого и точного перевода...</td>\n",
              "    </tr>\n",
              "  </tbody>\n",
              "</table>\n",
              "</div>"
            ],
            "text/plain": [
              "                                               title      author  \\\n",
              "0                   ИСТОРИК №09 (129). Сентябрь 2025  Без автора   \n",
              "1             Тайны XIX века. Тайны морей и островов  Булычев К.   \n",
              "2  Новый японско-русский и  русско-японский слова...  Без автора   \n",
              "\n",
              "                                        page_url  \\\n",
              "0  https://www.biblio-globus.ru/product/11060070   \n",
              "1  https://www.biblio-globus.ru/product/11021457   \n",
              "2  https://www.biblio-globus.ru/product/10296217   \n",
              "\n",
              "                                           image_url  \\\n",
              "0  https://static1.bgshop.ru/imagehandler.ashx?fi...   \n",
              "1  https://static1.bgshop.ru/imagehandler.ashx?fi...   \n",
              "2  https://static1.bgshop.ru/imagehandler.ashx?fi...   \n",
              "\n",
              "                                          annotation  \n",
              "0  Читайте в номере: ПУТЬ К ЦАРСТВУ: как Москва и...  \n",
              "1  Прошлое надежно хранит свои тайны и, как всем ...  \n",
              "2  Словарь удобен для быстрого и точного перевода...  "
            ]
          },
          "execution_count": 15,
          "metadata": {},
          "output_type": "execute_result"
        }
      ],
      "source": [
        "data.head(3)"
      ]
    },
    {
      "cell_type": "markdown",
      "metadata": {},
      "source": [
        "uuid — это встроенная в Python библиотека для работы с UUID — универсальными уникальными идентификаторами (Universally Unique IDentifier).\n",
        "\n",
        "UUID — это длинный идентификатор, который используется, чтобы гарантировать уникальность объектов, например: записи в базе данных, сессии, имена файлов и т.д.\n",
        "uuid4() генерирует случайный UUID (версия 4), используя случайные числа. Пример: 550e8400-e29b-41d4-a716-446655440000\n",
        "\n",
        "В LangChain Document — это структура данных, которая представляет текстовую информацию вместе с метаданными. Это удобно для обработки текстов в цепочках (pipelines), например для поиска, индексации, семантического поиска и т.п.\n",
        "Обычно Document содержит два основных поля:\n",
        "- page_content — сам текст документа.\n",
        "- metadata — словарь с метаданными (например, источник, автор, дата, категория).\n",
        "\n",
        "Зачем нужен Document:\n",
        "* Чтобы хранить текст вместе с метаданными.\n",
        "* Чтобы передавать документы в индексаторы, векторные базы данных, поисковые системы и другие инструменты LangChain.\n",
        "* Упрощает работу с большим количеством документов, делая их структурированными."
      ]
    },
    {
      "cell_type": "code",
      "execution_count": 31,
      "metadata": {
        "colab": {
          "base_uri": "https://localhost:8080/"
        },
        "id": "z6tXEkXUBFSl",
        "outputId": "5ef9907a-87bb-46c2-f656-8f2c76fe4ef3"
      },
      "outputs": [
        {
          "name": "stdout",
          "output_type": "stream",
          "text": [
            "Создано 22470 документов с UUID\n"
          ]
        }
      ],
      "source": [
        "from uuid import uuid4\n",
        "from langchain_core.documents import Document # импорт класса Document из модуля langchain_core.documents, который используется в LangChain\n",
        " \n",
        "# Создаем документы для Qdrant с UUID\n",
        "documents = []\n",
        "id_mapping = {}  # Сохраним соответствие UUID -> original_id\n",
        "\n",
        "for _, row in data.iterrows():\n",
        "\n",
        "    content = row['annotation']\n",
        "\n",
        "    # Метаданные   \t\t\t\t\n",
        "    metadata = {\n",
        "        \"title\": row.get('title', ''),\n",
        "        \"author\": row.get('author', ''),\n",
        "        \"page_url\": row.get('page_url', ''),\n",
        "        \"image_url\": row.get('image_url', ''),\n",
        "        \"annotation\": row.get('annotation', ''),\n",
        "    }\n",
        "\n",
        "    documents.append(Document(page_content=content, metadata=metadata))\n",
        "\n",
        "    uid = str(uuid4())\n",
        "    id_mapping[uid] = row.get('page_url', '') # создается запись в словаре, если значения нет, то пустая строка\n",
        "\n",
        "uuids = list(id_mapping.keys())\n",
        "#uuids = [str(uuid4()) for _ in range(len(documents))]\n",
        "\n",
        "print(f\"Создано {len(documents)} документов с UUID\")"
      ]
    },
    {
      "cell_type": "code",
      "execution_count": 17,
      "metadata": {
        "colab": {
          "base_uri": "https://localhost:8080/"
        },
        "id": "xEvn8f2RZgbJ",
        "outputId": "c10a9429-c4e7-4c20-c26a-0f714588c2bd"
      },
      "outputs": [
        {
          "data": {
            "text/plain": [
              "Document(metadata={'title': 'ИСТОРИК №09 (129). Сентябрь 2025', 'author': 'Без автора', 'page_url': 'https://www.biblio-globus.ru/product/11060070', 'image_url': 'https://static1.bgshop.ru/imagehandler.ashx?filename=11060070.jpg&width=200', 'annotation': 'Читайте в номере: ПУТЬ К ЦАРСТВУ: как Москва из центра маленького княжества превратилась в столицу огромного Русского государства. ПОКУПАТЕЛЬ РУСИ. Хотя именно князь Иван Калита начал собирать земли вокруг Москвы, его репутация у историков весьма неоднозначна ДОБАВКА К ИМЕНИ. Как и когда появились княжеские прозвища, к которым мы все давно привыкли? МАМАЕВО ПОБОИЩЕ как кульминация шестилетней войны великого князя Дмитрия Ивановича с правителем Орды Мамаем. А также: ГЛАВНЫЙ ОРГАН ИМПЕРИИ. Что представлял собой Государственный совет Российской империи и как он менялся от реформ Александра I до революционного 1917-го? ВЫИГРАТЬ МИР, ПРОИГРАВ ВОЙНУ. Как Санкт-Петербургу удалось заключить выгодный мир по итогам весьма неудачной русско-японской войны? СУДЬБА КРИВДОНБАССА. Почему большевики не поддержали автономию Донбасса в рамках РСФСР и передали регион Украине? МАЭСТРО ПОЛИТИЧЕСКОГО ШАРЖА. Художник Борис Ефимов всю жизнь он рисовал карикатуры на ключевых политиков своей эпохи СОВЕТ ОСОБОГО НАЗНАЧЕНИЯ: к 25-летию Государственного Совета РФ. Специально для \"Историка\": авторская колонка помощника Президента РФ, секретаря Госсовета РФ, Героя России Алексея ДЮМИНА. \"Историк\" рекомендует: что почитать и увидеть сентябре? \"Историк\" - это журнал о России, о ее актуальном прошлом, о людях, делавших и делающих нашу историю. Наш журнал - это серьезное чтение для думающих людей. Для тех, кто испытывает потребность в консервативном знании о прошлом и настоящем. Для тех, кто не согласен с попытками интерпретировать историю нашей Родины лишь как цепь реализованных негативных альтернатив Владимир Рудаков, главный редактор журнала \"Историк\"'}, page_content='Читайте в номере: ПУТЬ К ЦАРСТВУ: как Москва из центра маленького княжества превратилась в столицу огромного Русского государства. ПОКУПАТЕЛЬ РУСИ. Хотя именно князь Иван Калита начал собирать земли вокруг Москвы, его репутация у историков весьма неоднозначна ДОБАВКА К ИМЕНИ. Как и когда появились княжеские прозвища, к которым мы все давно привыкли? МАМАЕВО ПОБОИЩЕ как кульминация шестилетней войны великого князя Дмитрия Ивановича с правителем Орды Мамаем. А также: ГЛАВНЫЙ ОРГАН ИМПЕРИИ. Что представлял собой Государственный совет Российской империи и как он менялся от реформ Александра I до революционного 1917-го? ВЫИГРАТЬ МИР, ПРОИГРАВ ВОЙНУ. Как Санкт-Петербургу удалось заключить выгодный мир по итогам весьма неудачной русско-японской войны? СУДЬБА КРИВДОНБАССА. Почему большевики не поддержали автономию Донбасса в рамках РСФСР и передали регион Украине? МАЭСТРО ПОЛИТИЧЕСКОГО ШАРЖА. Художник Борис Ефимов всю жизнь он рисовал карикатуры на ключевых политиков своей эпохи СОВЕТ ОСОБОГО НАЗНАЧЕНИЯ: к 25-летию Государственного Совета РФ. Специально для \"Историка\": авторская колонка помощника Президента РФ, секретаря Госсовета РФ, Героя России Алексея ДЮМИНА. \"Историк\" рекомендует: что почитать и увидеть сентябре? \"Историк\" - это журнал о России, о ее актуальном прошлом, о людях, делавших и делающих нашу историю. Наш журнал - это серьезное чтение для думающих людей. Для тех, кто испытывает потребность в консервативном знании о прошлом и настоящем. Для тех, кто не согласен с попытками интерпретировать историю нашей Родины лишь как цепь реализованных негативных альтернатив Владимир Рудаков, главный редактор журнала \"Историк\"')"
            ]
          },
          "execution_count": 17,
          "metadata": {},
          "output_type": "execute_result"
        }
      ],
      "source": [
        "documents[0]"
      ]
    },
    {
      "cell_type": "markdown",
      "metadata": {},
      "source": [
        "QdrantVectorStore — это обёртка LangChain для работы с Qdrant, который — это векторная база данных.\n",
        "Её основная задача — хранить эмбеддинги (векторные представления текста или документов) и позволять быстро искать похожие документы.\n",
        "\n",
        "* client — это объект подключения к Qdrant. Этот объект отвечает за соединение с сервером Qdrant.\n",
        "* collection_name=\"books_collection\" - В Qdrant данные хранятся в коллекциях (“база” внутри базы данных, где будут храниться все эмбеддинги книг.). Если такой коллекции нет — Qdrant создаст её автоматически при первой загрузке документов.\n",
        "* embedding=embeddings_model - модель, которая превращает текст в векторное представление (эмбеддинги), кот.будут храниться в Qdrant и использоваться для поиска похожих документов\n",
        "\n",
        "С объектом vector_store можно:\n",
        "- Добавлять документы в Qdrant\n",
        "- Искать похожие документы по запросу"
      ]
    },
    {
      "cell_type": "code",
      "execution_count": 32,
      "metadata": {},
      "outputs": [],
      "source": [
        "from langchain_qdrant import QdrantVectorStore\n",
        "\n",
        "#VectorStore на базе Qdrant, чтобы хранить твои документы с эмбеддингами\n",
        "vector_store = QdrantVectorStore(      # vector_store, который связывает объекты Qdrant, коллекцию, модель эмбеддингов. \n",
        "    client=client,\n",
        "    collection_name=\"books_collection\",\n",
        "    embedding=embeddings_model\n",
        ")"
      ]
    },
    {
      "cell_type": "code",
      "execution_count": 33,
      "metadata": {},
      "outputs": [
        {
          "name": "stderr",
          "output_type": "stream",
          "text": [
            "Добавление батчей в Qdrant: 100%|██████████| 88/88 [12:11<00:00,  8.32s/it]"
          ]
        },
        {
          "name": "stdout",
          "output_type": "stream",
          "text": [
            "22470 документов добавлено в Qdrant!\n"
          ]
        },
        {
          "name": "stderr",
          "output_type": "stream",
          "text": [
            "\n"
          ]
        }
      ],
      "source": [
        "#загрузка документов батчами\n",
        "from tqdm import tqdm\n",
        "\n",
        "batch_size = 256\n",
        "total_batches = (len(documents) + batch_size - 1) // batch_size\n",
        "\n",
        "\n",
        "with tqdm(total=total_batches, desc=\"Добавление батчей в Qdrant\") as pbar:\n",
        "    for i in range(0, len(documents), batch_size):\n",
        "        batch_docs = documents[i:i+batch_size]\n",
        "        batch_ids = uuids[i:i+batch_size]\n",
        "\n",
        "        vector_store.add_documents(documents=batch_docs, ids=batch_ids)\n",
        "        #Каждый Document в batch_docs кодируется в вектор через embeddings_model.\n",
        "        #Сохраняется в коллекцию \"books_collection\".\n",
        "        #В качестве ID используется заранее сгенерированный uuid.\n",
        "        pbar.update(1)\n",
        "\n",
        "print(f\"{len(documents)} документов добавлено в Qdrant!\")"
      ]
    },
    {
      "cell_type": "code",
      "execution_count": 34,
      "metadata": {},
      "outputs": [],
      "source": [
        "points, _ = client.scroll(\n",
        "    collection_name='books_collection', limit=2, with_payload=True, with_vectors=True\n",
        ")"
      ]
    },
    {
      "cell_type": "code",
      "execution_count": 36,
      "metadata": {},
      "outputs": [
        {
          "data": {
            "text/plain": [
              "{'title': 'Как продать слона или 51 прием заключения сделки, 7-е издание, переработанное и дополненное',\n",
              " 'author': 'Барышева А. В.',\n",
              " 'page_url': 'https://www.biblio-globus.ru/product/11001625',\n",
              " 'image_url': 'https://static1.bgshop.ru/imagehandler.ashx?filename=11001625.jpg&width=550',\n",
              " 'annotation': 'Обновленное издание бестселлера «Как продать слона», выпущенного в России тиражом более 100 000 экземпляров. В книге описаны основные закономерности и рабочие техники переговоров, которые помогут вам сделать большие продажи. Ася Барышева, консультант с 20-летним опытом сотрудничества с крупными международными компаниями, делится реальными примерами из собственной практики. Вы получите 51 способ заключения сделки и освоите техники, которые сделают ваши продажи легкими, быстрыми и приятными. Издание подойдет начинающим продавцам: для наилучшего результата выполняйте упражнения и адаптируйте описанные приемы к своему бизнесу. Тренировка поможет сделать фразы естественными и родными. А если вы уже давно работаете в продажах — имеет смысл поискать приемы, которые вы еще не используете. Новые приемы позволят вам заключать сделки на более выгодных условиях. Книга адресована профессионалам сферы сбыта: менеджерам по продаже, торговым агентам и продавцам-консультантам, а также всем, кто интересуется методикой системны продаж. Обновленное издание бестселлера «Как продать слона», выпущенного в России тиражом более 100 000 экземпляров. В книге описаны основные закономерности и рабочие техники переговоров, которые помогут вам сделать большие продажи. Ася Барышева, консультант с 20-летним опытом сотрудничества с крупными международными компаниями, делится реальными примерами из собственной практики. Вы получите 51 способ заключения сделки и освоите техники, которые сделают ваши продажи легкими, быстрыми и приятными. Издание подойдет начинающим продавцам: для наилучшего результата выполняйте упражнения и адаптируйте описанные приемы к своему бизнесу. Тренировка поможет сделать фразы естественными и родными. А если вы уже давно работаете в продажах — имеет смысл поискать приемы, которые вы еще не используете. Новые приемы позволят вам заключать сделки на более выгодных условиях. Книга адресована профессионалам сферы сбыта: менеджерам по продаже, торговым агентам и продавцам-консультантам, а также всем, кто интересуется методикой системны продаж. Характеристики Место издания: Санкт-Петербург Серия: Бизнес-психология (твердый переплет) Высота, см.: 24.1 Ширина, см: 17.1 Толщина, см: 1.7 Вес в граммах: 542 Возрастная категория: 16+'}"
            ]
          },
          "execution_count": 36,
          "metadata": {},
          "output_type": "execute_result"
        }
      ],
      "source": [
        "points[1].payload[\"metadata\"]"
      ]
    },
    {
      "cell_type": "code",
      "execution_count": 20,
      "metadata": {
        "id": "hC6DUOYBA1tb"
      },
      "outputs": [],
      "source": [
        "points, _ = client.scroll(\n",
        "    collection_name=\"books_collection\",\n",
        "    limit=2,\n",
        "    with_payload=True,\n",
        "    with_vectors=True\n",
        ")"
      ]
    },
    {
      "cell_type": "markdown",
      "metadata": {
        "id": "w2wDlrygm55s"
      },
      "source": [
        "points — это список найденных точек (ScoredPoint), каждая из которых содержит:\n",
        "\n",
        "- id (твой UUID)\n",
        "\n",
        "- vector (сам эмбеддинг)\n",
        "\n",
        "- payload (твои метаданные: employer, skills, salary…)\n",
        "\n",
        "_ — это \"offset\" для следующего скролла (если захочешь получить следующую порцию данных)."
      ]
    },
    {
      "cell_type": "code",
      "execution_count": 37,
      "metadata": {
        "colab": {
          "base_uri": "https://localhost:8080/"
        },
        "id": "xOgzCC9F2bbR",
        "outputId": "4001f039-481a-496c-ff55-d49498b6f627"
      },
      "outputs": [
        {
          "name": "stdout",
          "output_type": "stream",
          "text": [
            "id='0003844b-c00d-49f5-9869-908913f1e84c' payload={'page_content': 'Станислав Вокульский — человек большой энергии и незаурядных способностей — всего в жизни добился своими силами, пройдя через нужду и лишения, стал крупным финансистом. Ради богатства и высокого положения в обществе он идет на компромисс с собственной совестью, изменяет своим идеалам и страдает из-за этого. А любовь к безумно красивой и столь же бездушной аристократке Изабелле Ленцкой лишь усугубляет его страдания. Способна ли настоящая любовь справиться со всеми препятствиями? Или же наоборот она приведет к полному провалу, оставив разум без совести, а душу — без чувств? Станислав Вокульский — человек большой энергии и незаурядных способностей — всего в жизни добился своими силами, пройдя через нужду и лишения, стал крупным финансистом. Ради богатства и высокого положения в обществе он идет на компромисс с собственной совестью, изменяет своим идеалам и страдает из-за этого. А любовь к безумно красивой и столь же бездушной аристократке Изабелле Ленцкой лишь усугубляет его страдания. Способна ли настоящая любовь справиться со всеми препятствиями? Или же наоборот она приведет к полному провалу, оставив разум без совести, а душу — без чувств? Характеристики Место издания: Москва Серия: Белая птица Высота, см.: 18 Ширина, см: 11,8 Толщина, см: 4,2 Вес в граммах: 473 Возрастная категория: 16+', 'metadata': {'title': 'Кукла', 'author': 'Прус Б.', 'page_url': 'https://www.biblio-globus.ru/product/10929358', 'image_url': 'https://static1.bgshop.ru/imagehandler.ashx?filename=10929358.jpg&width=550', 'annotation': 'Станислав Вокульский — человек большой энергии и незаурядных способностей — всего в жизни добился своими силами, пройдя через нужду и лишения, стал крупным финансистом. Ради богатства и высокого положения в обществе он идет на компромисс с собственной совестью, изменяет своим идеалам и страдает из-за этого. А любовь к безумно красивой и столь же бездушной аристократке Изабелле Ленцкой лишь усугубляет его страдания. Способна ли настоящая любовь справиться со всеми препятствиями? Или же наоборот она приведет к полному провалу, оставив разум без совести, а душу — без чувств? Станислав Вокульский — человек большой энергии и незаурядных способностей — всего в жизни добился своими силами, пройдя через нужду и лишения, стал крупным финансистом. Ради богатства и высокого положения в обществе он идет на компромисс с собственной совестью, изменяет своим идеалам и страдает из-за этого. А любовь к безумно красивой и столь же бездушной аристократке Изабелле Ленцкой лишь усугубляет его страдания. Способна ли настоящая любовь справиться со всеми препятствиями? Или же наоборот она приведет к полному провалу, оставив разум без совести, а душу — без чувств? Характеристики Место издания: Москва Серия: Белая птица Высота, см.: 18 Ширина, см: 11,8 Толщина, см: 4,2 Вес в граммах: 473 Возрастная категория: 16+'}} vector=[0.011321572586894035, 0.08328792452812195, -0.008315777406096458, 0.014761894941329956, 0.04277224838733673, -0.025272225961089134, 0.010710463859140873, 0.008444647304713726, 0.041706960648298264, 0.038446392863988876, 0.01597423106431961, 0.028670135885477066, -0.014149907045066357, -0.041064511984586716, 0.04532941058278084, -0.05866143852472305, -0.003485816763713956, 0.045510049909353256, 0.028387393802404404, 0.003164809662848711, 0.04273182153701782, -0.019739527255296707, 0.041777413338422775, 0.003988261334598064, 0.017682746052742004, -0.01328167226165533, 0.041858721524477005, 0.030589286237955093, 0.04189375787973404, 0.03324173763394356, -0.0023980545811355114, 0.027085725218057632, -0.006982821971178055, -0.00792615208774805, 0.022408872842788696, 0.014016338624060154, 1.6026471712393686e-05, -0.0153675377368927, -0.0055061401799321175, -0.08887390792369843, 0.0917627289891243, -0.04813176766037941, 0.0063415756449103355, -0.007959208451211452, -0.0034979446791112423, 0.07180456817150116, -0.056286606937646866, 0.049946848303079605, -0.03913700953125954, 0.005773432087153196, 0.026432687416672707, 0.09069684147834778, 0.06400565803050995, -0.023134009912610054, 0.0057884156703948975, -0.0640183761715889, -0.025730254128575325, -0.0605337955057621, -0.052732840180397034, -0.02807878702878952, -0.020795829594135284, 0.0050504677928984165, -0.034649744629859924, -0.007249288726598024, 0.03441474214196205, -0.003905992489308119, 0.02446470595896244, 0.021529192104935646, -0.02998126484453678, -0.02705339901149273, 0.012193731963634491, 0.04940452426671982, -0.0010919971391558647, -0.007023171056061983, 0.031148355454206467, -0.012091363780200481, 0.07375001907348633, -0.0020290242973715067, -0.05009301006793976, -0.03386932238936424, 0.023128271102905273, 0.01849118247628212, -0.017268013209104538, 0.007148529402911663, -0.027152853086590767, 0.026675906032323837, -0.024418242275714874, 0.022081060335040092, 0.09287481009960175, -0.005985178519040346, -0.025866400450468063, -0.06434240937232971, 0.015586447902023792, -0.027196751907467842, 0.035633634775877, 0.0076976353302598, -0.014169519767165184, -0.00884360820055008, -0.015267256647348404, -0.060488827526569366, 0.0015984250931069255, -0.028773654252290726, 0.09063715487718582, 0.007069830782711506, 0.008710275404155254, -0.007605427876114845, -0.08565377444028854, 0.010763038881123066, -0.05722114071249962, 0.009335705079138279, 0.01867464743554592, -0.005501260049641132, -0.03614859655499458, -0.053508076816797256, -0.03971700742840767, -0.01530568115413189, -0.019503561779856682, 0.03577585890889168, -0.026248592883348465, 0.027681000530719757, -0.09179866313934326, 0.004126217681914568, 0.0007908682455308735, -0.02199428156018257, -0.04159072786569595, 0.038099419325590134, -0.0431545153260231, -0.026269560679793358, -0.004126287065446377, 0.10643049329519272, -0.005103551782667637, 0.014514705166220665, 0.015429703518748283, -0.02742411568760872, 0.04222466051578522, -0.004579787142574787, 0.04871786758303642, -0.06677032262086868, 0.05531778559088707, -0.0012709415750578046, -0.03297245502471924, -0.01686943881213665, -0.01610654965043068, 0.03111080266535282, -0.024198224768042564, -0.016448479145765305, -0.008444883860647678, -0.026173267513513565, 0.008606327697634697, -0.006427529267966747, -0.013564936816692352, 0.003695143386721611, 0.08401115983724594, -0.017297910526394844, 0.00038468820275738835, 0.014791812747716904, 0.06817866116762161, -0.022792499512434006, -0.020890463143587112, -0.02066855877637863, 0.001748277572914958, -0.018452057614922523, -0.03388696163892746, 0.0018996334401890635, 0.02667165920138359, 0.016239846125245094, 0.01725589483976364, 0.020764965564012527, 0.05122311785817146, 0.0023945693392306566, -0.0032005563843995333, -0.015218096785247326, -0.003907477017492056, 0.05021258816123009, 0.014186767861247063, -0.029363129287958145, 0.09510315954685211, 0.0062535046599805355, -0.05856733396649361, 0.006500222720205784, 0.015029885806143284, 0.04879261180758476, 0.0038332389667630196, 0.03539704158902168, 0.05508797988295555, 0.02190743386745453, -0.04793468117713928, 0.00993136316537857, -0.0020861709490418434, 0.004415275529026985, 0.012456847354769707, 0.011376243084669113, 0.014222522266209126, -0.009103603661060333, 0.037467651069164276, -0.01376804243773222, 0.015554921701550484, -0.03327244892716408, 0.009443540126085281, 0.039271097630262375, 0.002658658428117633, -0.036855652928352356, -0.002147831255570054, 0.06961282342672348, 0.006825628224760294, 0.03064798004925251, 0.08967980742454529, -0.011894327588379383, 0.05877970904111862, -0.021023498848080635, 0.04943901672959328, 0.020903024822473526, -0.018902001902461052, 0.004791152663528919, 0.02144497260451317, 0.02693714201450348, 0.02805970050394535, 0.005371382925659418, -0.051000166684389114, 0.017608527094125748, -0.02048434317111969, -0.022582679986953735, 0.06991390138864517, -0.011724688112735748, 0.01459211390465498, -0.0072952923364937305, -0.016794467344880104, -0.0006822142750024796, 0.002727246144786477, 0.03417912498116493, -0.010552714578807354, 0.026927825063467026, 0.024164274334907532, -0.025258097797632217, -0.05312648043036461, 0.017903756350278854, 0.019121350720524788, 0.08395905792713165, 0.0038629849441349506, -0.09172166138887405, -0.0014861727831885219, -0.006036794278770685, 0.024245575070381165, 0.0007434395956806839, 0.011367394588887691, 0.01780199259519577, -0.031667985022068024, 0.014055134728550911, -0.032462019473314285, 0.026463255286216736, 0.053177330642938614, 0.04271068423986435, -0.009908988140523434, -0.00010347488569095731, 0.0440276563167572, -0.08314847946166992, 0.020925015211105347, 0.005129185505211353, 0.030861560255289078, 0.04958520457148552, -0.09055076539516449, 0.023895416408777237, -0.016962608322501183, -0.03778616711497307, 0.08239395171403885, -0.008887404575943947, 0.03734567388892174, -0.0628710463643074, 0.00018622651987243444, 0.011042669415473938, -0.0020145648159086704, -0.01588609255850315, -0.007422567345201969, -0.02891765907406807, 0.026897966861724854, -0.01565823145210743, 0.004953140392899513, 0.061916835606098175, -0.0528610497713089, 0.032325342297554016, 0.018328718841075897, 0.029419980943202972, -0.021677905693650246, 0.0010524684330448508, -0.006812236737459898, -0.04744764417409897, 0.019459735602140427, 0.09571471065282822, 0.05095328763127327, -0.013893667608499527, -0.04031984880566597, 0.008924022316932678, 0.0008969952468760312, 0.028233462944626808, 0.005160308443009853, 0.04582252353429794, 0.03336038812994957, 0.006088987458497286, -0.009982551448047161, 0.03766520693898201, 0.005275448318570852, -0.008913543075323105, 0.053631771355867386, -0.01468424592167139, 0.003045920981094241, 0.029951145872473717, 0.024139782413840294, 0.06163812056183815, 0.007293292786926031, -0.0470087043941021, -0.028139628469944, 0.019473878666758537, -0.013827680610120296, 0.014584152027964592, 0.022109616547822952, -0.02875371463596821, 0.03180767595767975, 0.0027466174215078354, 0.037866245955228806, 0.0027572456747293472, -0.0027474709786474705, 0.042870696634054184, -0.01851818338036537, -0.012937979772686958, 0.010682877153158188, 0.06299411505460739, -0.0245052482932806, 0.004260008689016104, 0.06155800074338913, -0.0033116047270596027, -0.05118366703391075, -0.04267027974128723, 0.028660312294960022, -0.046542804688215256, -0.04104604199528694, -0.0019063689978793263, 0.04893342778086662, 0.057785335928201675, -0.013226202689111233, 0.0025416305288672447, -0.008985217660665512, -0.04768109321594238, -0.012625278905034065, -0.06264752149581909, -0.01206043642014265, 0.020216746255755424, 0.056759063154459, -0.0010494572343304753, 0.05534245818853378, -0.0929892286658287, 0.038742296397686005, 0.02651347406208515, -0.0028959549963474274, -0.018356354907155037, -0.013922581449151039, -0.006820796988904476, 0.0059283459559082985, -0.01999165304005146, 0.06672966480255127, -0.034931402653455734, 0.005817844998091459, 0.00769137404859066, 0.007550605107098818, -0.03264974057674408, 0.049336280673742294, -0.015846960246562958, 0.008853275328874588, 0.03728819638490677, 0.002161347772926092, -0.0322921946644783, 0.006637044250965118, -0.017964661121368408, 0.02296626940369606, 0.011134539730846882, 0.014029627665877342, 0.0905061587691307, 0.031243789941072464, -0.15516319870948792, 0.009960723109543324, -0.02674959786236286, 0.06541118025779724, -0.0815197229385376, 0.05452168732881546, -0.02189839445054531, -0.02710144966840744, -0.007173480466008186, -0.03489812836050987, 0.007815919816493988, 0.023041190579533577, 0.04368619993329048, -0.0031414381228387356, 0.061747729778289795, 0.0010500181233510375, -0.04527214914560318, -0.05300216004252434, -0.007756565697491169, -0.022889068350195885, 0.021382564678788185, 0.0029171083588153124, -0.0027543005999177694, -0.013838833197951317, 0.07964826375246048, 0.034723907709121704, 0.0015535014681518078, 0.006952109280973673, -0.038315895944833755, 0.001344782067462802, 0.025501655414700508, -0.0162318367511034, 0.012842243537306786, -0.12331963330507278, 0.05876561999320984, 0.03553885594010353, 0.03245408087968826, 0.03367922455072403, -0.058385640382766724, -0.03553721681237221, -0.088840052485466, 0.005801452323794365, -0.01662471517920494, 0.012680754996836185, 0.03778795897960663, -0.05540729686617851, 0.043778784573078156, -0.009793578647077084, 0.023803260177373886, -0.05905367061495781, 0.029331646859645844, 0.008827326819300652, -0.03581254184246063, -0.02713211439549923, -0.052969761192798615, 0.012962914071977139, -0.004962162114679813, -0.06974979490041733, -0.029525812715291977, -0.0073981136083602905, 0.02125632017850876, 0.01673472858965397, -0.10340404510498047, -0.047615598887205124, 0.04097222909331322, 0.0363280326128006, -0.03313497081398964, 0.004148784559220076, -0.06196010857820511, 0.03525024279952049, -0.012991192750632763, -0.0003039334842469543, 0.01652340590953827, 0.010964307934045792, 0.04895790293812752, 0.018862852826714516, -0.007853380404412746, -0.07808930426836014, 0.012595975771546364, -0.037990473210811615, -0.023157699033617973, -0.00776891503483057, -0.03648823872208595, -0.034520480781793594, 0.15495283901691437, 0.020528925582766533, 0.04212803766131401, -0.024071794003248215, 0.01235736533999443, 0.02899704873561859, -0.016383551061153412, -0.004565014969557524, 0.0036637408193200827, 0.04293815791606903, 0.019749144092202187, 0.026804011315107346, 0.023788154125213623, -0.05121908336877823, -0.0231829471886158, -0.04929380118846893, -0.04140200838446617, 0.01831221766769886, -0.0289897657930851, -0.05038377270102501, -0.01542607881128788, -0.04316398873925209, 0.023125560954213142, 0.021908294409513474, -0.008906913921236992, -0.004403127823024988, 0.015949949622154236, -0.034049421548843384, -0.04033011943101883, 0.03156141936779022, 0.017856348305940628, -0.011634740978479385, -0.014290370047092438, -0.01937389187514782, -0.038340263068675995, -0.0956503301858902, 0.005923860240727663, -0.025074323639273643, -0.025088340044021606, 0.0690699890255928, -0.0021890513598918915, 0.0393652580678463, -0.010227165184915066, -0.011639717034995556, -0.0008093850337900221, 0.00620177760720253, -0.04163609817624092, -0.015480385161936283, -0.007601241115480661, 0.03447892889380455, 0.024271231144666672, -0.0596623420715332, -0.0372648723423481, -0.007656873669475317, -0.03028850629925728, 0.04040069878101349, -0.03180095553398132, 0.022405194118618965, -0.056098513305187225, 0.0009816632373258471, -0.0072104064747691154, -0.03027350641787052, -0.024111546576023102, -0.0016013290733098984, -0.04400666803121567, -4.361353603599127e-06, 0.023788709193468094, -0.012561146169900894, -0.011839223094284534, -0.03469964861869812, -0.014975105412304401, -0.10082831978797913, -0.0030995591077953577, 0.003025827696546912, -0.0836741179227829, -0.03567006066441536, -0.04457850009202957, 0.013509634882211685, -0.014551660045981407, -0.04861140251159668, -0.025625338777899742, 0.04034293815493584, 0.01591678522527218, -0.030538158491253853, 0.03969382494688034, 0.007350626867264509, -0.002766223158687353, -0.02737549878656864, 0.09311733394861221, -0.005220666062086821, -0.06605213135480881, 0.04081335291266441, -0.026324573904275894, 0.04361078143119812, 0.005827880464494228, 0.03161689266562462, 0.017609549686312675, 0.0013537000631913543, -0.05264175310730934, -0.013532846234738827, -0.03815395012497902, 0.01458855252712965, -0.0050019933842122555, -0.03149254247546196, -0.025342272594571114, -0.03930984064936638, -0.015507013536989689, 0.0358477383852005, 0.009737621992826462, 0.0018824535654857755, 0.025076359510421753, -2.2849105789646273e-06, 0.00019880068430211395, -0.006646269932389259, -0.03319858759641647, 0.025521928444504738, 0.03002900443971157, -0.01207809429615736, -0.03636445850133896, 0.051948077976703644, -0.013271983712911606, 0.013395006768405437, 0.016878847032785416, 0.062206339091062546, -0.02727171964943409, -0.0020138684194535017, 0.028545061126351357, 0.003657093271613121, -0.01016510184854269, 0.0038863164372742176, -0.02771490253508091, 0.022567061707377434, 0.03751930966973305, -0.005494767799973488, 0.01652146317064762, -0.011609533801674843, 0.044370971620082855, 0.057905785739421844, 0.036520473659038544, 0.046684380620718, -0.01994306407868862, 0.013238348066806793, 0.023817967623472214, -0.010868648067116737, -0.007403654512017965, -0.04346304386854172, 0.03190826624631882, -0.06048896908760071, -0.009977689012885094, -0.05649702623486519, -0.006450445391237736, -0.01037570834159851, -0.003402500646188855, -0.003792012110352516, 0.0053313965909183025, -0.020944906398653984, 0.011785263195633888, 0.015223931521177292, -0.05840917304158211, 0.009315546602010727, -0.019621212035417557, 0.04678373783826828, 0.03817957267165184, 0.030803192406892776, -0.0018790396861732006, -0.003935256972908974, 0.008609671145677567, 0.007282949052751064, 0.05196138471364975, -0.12345924973487854, -0.02933157980442047, 0.018772060051560402, -0.017185179516673088, 0.040701668709516525, -0.01805770769715309, -0.01741691865026951, 0.019535984843969345, 0.0030163731426000595, -0.0025131572037935257, -0.009145263582468033, -0.020493347197771072, -0.01884092576801777, 0.06303621828556061, 0.02553274855017662, -0.005813614930957556, -0.005894223228096962, -0.05611460283398628, 0.022243548184633255, 0.010360290296375751, -0.012848406098783016, -0.0009624699596315622, -0.015847807750105858, 0.010996229015290737, 0.0345703549683094, 0.003323320532217622, -0.0030764793045818806, -0.019338730722665787, -0.01136463787406683, -0.01909996196627617, -0.015105259604752064, 0.025637928396463394, 0.0018163560889661312, -0.045654669404029846, 0.00471922243013978, -0.021797524765133858, -0.014837508089840412, 0.015910767018795013, 0.03613516315817833, 0.043361224234104156, -0.024892281740903854, -0.011767823249101639, -0.04369356110692024, 0.04142411798238754, 0.0106568718329072, 0.009277712553739548, 0.003452818840742111, 0.013710259459912777, 0.014116204343736172, 0.028075115755200386, 0.018829232081770897, 0.05410713329911232, 0.009289857000112534, 0.06029357761144638, 0.06761566549539566, -0.017907310277223587, 0.0026595769450068474, -0.056516893208026886, 0.01785661280155182, -0.002782061230391264, 0.05065695568919182, -0.04961197450757027, -0.08533925563097, -0.013382765464484692, 0.10599861294031143, -0.03914923220872879, 0.01388678140938282, -0.05390835553407669, -0.02720976062119007, 0.030409853905439377, -0.011865047737956047, -0.002920628758147359, 0.0029207144398242235, 0.03201895207166672, 0.012178467586636543, 0.018200431019067764, -0.07275556027889252, 0.05837962403893471, 0.001528267515823245, 0.031103283166885376, -0.015050814487040043, 0.018434612080454826, -0.01600814424455166, 0.02612639032304287, -0.032248273491859436, 0.014609632082283497, 0.019721845164895058, 0.005671691615134478, 0.004701937548816204, 0.01972639374434948, 0.005383701995015144, -0.04340091720223427, 0.05657393857836723, -0.03146612271666527, 0.02116590179502964, 0.015075760893523693, 0.03487553820014, -0.02022681199014187, -0.037417344748973846, 0.010132849216461182, -0.03548456355929375, -0.012186710722744465, 0.024180324748158455, 0.02916192077100277, -0.0073975734412670135, 0.034403618425130844, 0.013998583890497684, 0.038235608488321304, 0.04515272378921509, 0.08345314860343933, 0.02365044318139553, 0.016822392120957375, 0.07819535583257675, 0.012829123064875603, -0.05172758176922798, -0.001922939787618816, -0.022271331399679184, -0.015694551169872284, 0.010362889617681503, -0.014936655759811401, 0.031569063663482666, -0.027832841500639915, 0.06011733412742615, 0.033508796244859695, 0.004815541207790375, -0.011520144529640675, -0.024259468540549278, -0.015458736568689346, 0.07656146585941315, -0.012652209028601646, -0.04209175333380699, 0.02030973508954048, 0.0026585888117551804, -0.043967265635728836, 0.02811509184539318, 0.010385970585048199, 0.018049897626042366, -0.04921822249889374] shard_key=None order_value=None\n"
          ]
        },
        {
          "data": {
            "text/plain": [
              "{'title': 'Кукла',\n",
              " 'author': 'Прус Б.',\n",
              " 'page_url': 'https://www.biblio-globus.ru/product/10929358',\n",
              " 'image_url': 'https://static1.bgshop.ru/imagehandler.ashx?filename=10929358.jpg&width=550',\n",
              " 'annotation': 'Станислав Вокульский — человек большой энергии и незаурядных способностей — всего в жизни добился своими силами, пройдя через нужду и лишения, стал крупным финансистом. Ради богатства и высокого положения в обществе он идет на компромисс с собственной совестью, изменяет своим идеалам и страдает из-за этого. А любовь к безумно красивой и столь же бездушной аристократке Изабелле Ленцкой лишь усугубляет его страдания. Способна ли настоящая любовь справиться со всеми препятствиями? Или же наоборот она приведет к полному провалу, оставив разум без совести, а душу — без чувств? Станислав Вокульский — человек большой энергии и незаурядных способностей — всего в жизни добился своими силами, пройдя через нужду и лишения, стал крупным финансистом. Ради богатства и высокого положения в обществе он идет на компромисс с собственной совестью, изменяет своим идеалам и страдает из-за этого. А любовь к безумно красивой и столь же бездушной аристократке Изабелле Ленцкой лишь усугубляет его страдания. Способна ли настоящая любовь справиться со всеми препятствиями? Или же наоборот она приведет к полному провалу, оставив разум без совести, а душу — без чувств? Характеристики Место издания: Москва Серия: Белая птица Высота, см.: 18 Ширина, см: 11,8 Толщина, см: 4,2 Вес в граммах: 473 Возрастная категория: 16+'}"
            ]
          },
          "execution_count": 37,
          "metadata": {},
          "output_type": "execute_result"
        }
      ],
      "source": [
        "print(points[0])\n",
        "points[0].payload['metadata']"
      ]
    },
    {
      "cell_type": "markdown",
      "metadata": {
        "id": "XpzX39Z9BmGb"
      },
      "source": [
        "### 2.1 Сохранение инексированных данных"
      ]
    },
    {
      "cell_type": "markdown",
      "metadata": {
        "id": "jvG-yW4ndOEw"
      },
      "source": [
        "### ВАЖНО!!!! Если индексировать(получить эмбеддинги тут на коллабе, нужно их выгрузить!!!) Иначе потом можно остаться без них, а это дорогостоящая и не дешевая операция!\n",
        "### А Так, вы всегда сможете получить эмбеддинги с гугл диска. И сохранить их как локально, так и куда угодно"
      ]
    },
    {
      "cell_type": "code",
      "execution_count": 22,
      "metadata": {
        "id": "ZqwfrD6aBnUf"
      },
      "outputs": [],
      "source": [
        "# Выгрузка(С коллаба в Drive)\n",
        "# !cp -r /content/db /content/drive/MyDrive/qdrant_backup/\n",
        "\n",
        "# # Загрузка(Скопировать базу данных с Drive в Colab)\n",
        "# !cp -r /content/drive/MyDrive/qdrant_backup /content/backup/\n",
        "\n",
        "\n",
        "# Далее вы всегда сможете их обратно подгрузить, просто создав нового клиента\n",
        "\n",
        "# new_client = QdrantClient(path='/content/backup/qdrant_db')\n",
        "\n",
        "# points, _ = new_client.scroll(\n",
        "#     collection_name=\"demo_collection\",\n",
        "#     limit=2,\n",
        "#     with_payload=True,\n",
        "#     with_vectors=True  # ← Важно! Включаем векторы\n",
        "# )"
      ]
    },
    {
      "cell_type": "markdown",
      "metadata": {
        "id": "tSH8z4NDBzND"
      },
      "source": [
        "## 3.Семантический поиск"
      ]
    },
    {
      "cell_type": "markdown",
      "metadata": {
        "id": "260fkUuwn_8q"
      },
      "source": [
        "Семантический поиск — это поиск информации не по точному совпадению слов, а по смысловой близости между текстами."
      ]
    },
    {
      "cell_type": "markdown",
      "metadata": {
        "id": "sSI6tOl0L7gR"
      },
      "source": [
        "![pure_semantic_search](https://www.tigerdata.com/_next/image?url=https%3A%2F%2Ftimescale.ghost.io%2Fblog%2Fcontent%2Fimages%2F2025%2F01%2FWhat-Is-Semantic-Search-with-Filters-and-How-to-Implement-It-with-pgvector-and-Python_without-filters.png&w=3840&q=100)"
      ]
    },
    {
      "cell_type": "markdown",
      "metadata": {
        "id": "8t_S6nUXoDRV"
      },
      "source": [
        "Данные (тексты, документы) → проходят через модель эмбеддингов, которая преобразует их в векторы (числовые представления смысла).\n",
        "\n",
        "Запрос (Query) → тоже переводится в вектор (query embedding).\n",
        "\n",
        "Semantic Search → происходит сравнение вектора запроса с векторами документов (обычно через косинусное сходство или другую метрику).\n",
        "\n",
        "В результате выбираются документы, чьи эмбеддинги ближе всего к эмбеддингу запроса → это и есть релевантные результаты."
      ]
    },
    {
      "cell_type": "code",
      "execution_count": 23,
      "metadata": {
        "id": "A700FRmteBZl"
      },
      "outputs": [],
      "source": [
        "points, _ = client.scroll(\n",
        "    collection_name=\"books_collection\",\n",
        "    limit=2,\n",
        "    with_payload=True,\n",
        "    with_vectors=True\n",
        ")"
      ]
    },
    {
      "cell_type": "code",
      "execution_count": 24,
      "metadata": {
        "colab": {
          "base_uri": "https://localhost:8080/"
        },
        "id": "SdNwWvENBb8u",
        "outputId": "a2f73452-3356-4468-daaa-f5d3c0f17d5d"
      },
      "outputs": [
        {
          "data": {
            "text/plain": [
              "{'title': 'Кукла',\n",
              " 'author': 'Прус Б.',\n",
              " 'page_url': 'https://www.biblio-globus.ru/product/10929358',\n",
              " 'image_url': 'https://static1.bgshop.ru/imagehandler.ashx?filename=10929358.jpg&width=550',\n",
              " 'annotation': 'Станислав Вокульский — человек большой энергии и незаурядных способностей — всего в жизни добился своими силами, пройдя через нужду и лишения, стал крупным финансистом. Ради богатства и высокого положения в обществе он идет на компромисс с собственной совестью, изменяет своим идеалам и страдает из-за этого. А любовь к безумно красивой и столь же бездушной аристократке Изабелле Ленцкой лишь усугубляет его страдания. Способна ли настоящая любовь справиться со всеми препятствиями? Или же наоборот она приведет к полному провалу, оставив разум без совести, а душу — без чувств? Станислав Вокульский — человек большой энергии и незаурядных способностей — всего в жизни добился своими силами, пройдя через нужду и лишения, стал крупным финансистом. Ради богатства и высокого положения в обществе он идет на компромисс с собственной совестью, изменяет своим идеалам и страдает из-за этого. А любовь к безумно красивой и столь же бездушной аристократке Изабелле Ленцкой лишь усугубляет его страдания. Способна ли настоящая любовь справиться со всеми препятствиями? Или же наоборот она приведет к полному провалу, оставив разум без совести, а душу — без чувств? Характеристики Место издания: Москва Серия: Белая птица Высота, см.: 18 Ширина, см: 11,8 Толщина, см: 4,2 Вес в граммах: 473 Возрастная категория: 16+'}"
            ]
          },
          "execution_count": 24,
          "metadata": {},
          "output_type": "execute_result"
        }
      ],
      "source": [
        "points[0].payload['metadata']"
      ]
    },
    {
      "cell_type": "code",
      "execution_count": 33,
      "metadata": {
        "colab": {
          "base_uri": "https://localhost:8080/"
        },
        "id": "lDZvsTmlBs20",
        "outputId": "36fbf0d7-e60f-4368-8ac0-3b9cb5d8d9ce"
      },
      "outputs": [
        {
          "name": "stdout",
          "output_type": "stream",
          "text": [
            "\n",
            "--- Результат 1 ---\n",
            "🆔 ID в базе: fc7c6385-126f-497b-954c-6b76bb9a1b34\n",
            "📊 Similarity Score: 0.7775\n",
            "Название: Дочь снегов\n",
            "Автор: Лондон Дж.\n",
            "Ссылка на книгу: https://www.biblio-globus.ru/product/10958836\n",
            "Обложка: https://static1.bgshop.ru/imagehandler.ashx?filename=10958836.jpg&width=550\n",
            "Описание: Фрона Уэлз, главная героиня романа, натура сильная, умная, отважная, независимая и свободная от светских условностей и в то же время необыкновенно обаятельная - словом, женщина, способная думать, любить, бороться и делить испытания наравне с лучшими из мужчин. Любовный треугольник на фоне безумной \"золотой лихорадки\" Клондайка, приключений золотоискателей и трагической судьбы индейцев – захватывающее смешение жанров. Фрона Уэлз, главная героиня романа, натура сильная, умная, отважная, независимая и свободная от светских условностей и в то же время необыкновенно обаятельная - словом, женщина, способная думать, любить, бороться и делить испытания наравне с лучшими из мужчин. Любовный треугольник на фоне безумной \"золотой лихорадки\" Клондайка, приключений золотоискателей и трагической судьбы индейцев – захватывающее смешение жанров. Характеристики Место издания: Москва Серия: Яркие страницы Высота, см.: 21,9 Ширина, см: 13,2 Толщина, см: 1,95 Вес в граммах: 320 Возрастная категория: 16+\n",
            "\n",
            "--- Результат 2 ---\n",
            "🆔 ID в базе: 429e5924-b705-4fd4-b6fe-2d65764c2e82\n",
            "📊 Similarity Score: 0.7478\n",
            "Название: Путешествие героини. Женский путь к целостности\n",
            "Автор: Морин Мердок \n",
            "Ссылка на книгу: https://www.biblio-globus.ru/product/11032024\n",
            "Обложка: https://static1.bgshop.ru/imagehandler.ashx?filename=11032024.jpg&width=200\n",
            "Описание: Книга Морин Мердок стала классической работой о внутренней жизни женщин и их пути в современном обществе, где преобладают маскулинные ценности — состязательность, акцент на достижениях, демонстрация силы. Многолетнее исследование Мердок — это переосмысление известного «Тысячеликого героя» Джозефа Кэмпбелла. Используя мифы и сказки, самоанализ и истории клиентов, автор описывает архетипический путь женщины, который представляет собой цикл из 10 этапов: от отделения от женского начала (в поиске признания и одобрения) к объединению мужского и женского начал в себе. Это путь героини нового времени — от навязанных ценностей к истинной целостности. Для кого эта книга Для всех, кто интересуется литературой на тему архетипов, сказок и мифов. Для женщин, которые ищут направление во внутренней работе над собой. Для психологов, психотерапевтов, коучей, преподавателей и менеджеров. Для сценаристов, писателей и всех, кто занимается сторителлингом. Для тех, кто интересуется влиянием культуры на индивидуальную жизнь человека.\n",
            "\n",
            "--- Результат 3 ---\n",
            "🆔 ID в базе: b7f34137-f62f-41ed-89df-3afbd529c356\n",
            "📊 Similarity Score: 0.7289\n",
            "Название: Девочки, которые изменили мир\n",
            "Автор: Зартайская И.В., Суворова А.В., Нисапова Э.Н.\n",
            "Ссылка на книгу: https://www.biblio-globus.ru/product/11039700\n",
            "Обложка: https://static1.bgshop.ru/imagehandler.ashx?filename=11039700.jpg&width=550\n",
            "Описание: Эта вдохновляющая книга Ирины Зартайской знакомит читателей с историями выдающихся женщин, чьи достижения перевернули представления о возможностях «слабого пола» и изменили ход истории. От древних времён до наших дней героини книги — учёные, политики, художницы, писательницы — доказывали, что упорство, талант и вера в себя способны преодолеть любые преграды. В книге представлены: - Гипатия — античный философ и математик, ставшая символом борьбы за знания в эпоху, когда наука была привилегией мужчин; - Екатерина II Великая — императрица, превратившая Россию в мощную державу, несмотря на сопротивление окружения и гендерные стереотипы; - Мария Кюри — первая женщина-лауреат Нобелевской премии, открывшая радий и полоний, чьи исследования спасли миллионы жизней; - Роза Люксембург — революционерка, боровшаяся за социальную справедливость и права рабочих в условиях политических репрессий; - Фрида Кало — художница, преодолевшая физические страдания и создавшая уникальные произведения, ставшие манифестом женской силы и многие другие. \"Девочки, которые изманили мир\" - это сборник историй, который напоминает, что даже маленькие шаги могут изменить мир. Эта вдохновляющая книга Ирины Зартайской знакомит читателей с историями выдающихся женщин, чьи достижения перевернули представления о возможностях «слабого пола» и изменили ход истории. От древних времён до наших дней героини книги — учёные, политики, художницы, писательницы — доказывали, что упорство, талант и вера в себя способны преодолеть любые преграды. В книге представлены: - Гипатия — античный философ и математик, ставшая символом борьбы за знания в эпоху, когда наука была привилегией мужчин; - Екатерина II Великая — императрица, превратившая Россию в мощную державу, несмотря на сопротивление окружения и гендерные стереотипы; - Мария Кюри — первая женщина-лауреат Нобелевской премии, открывшая радий и полоний, чьи исследования спасли миллионы жизней; - Роза Люксембург — революционерка, боровшаяся за социальную справедливость и права рабочих в условиях политических репрессий; - Фрида Кало — художница, преодолевшая физические страдания и создавшая уникальные произведения, ставшие манифестом женской силы и многие другие. \"Девочки, которые изманили мир\" - это сборник историй, который напоминает, что даже маленькие шаги могут изменить мир. Характеристики Место издания: Москва Серия: Истории для настоящих супергероев Высота, см.: 26,5 Ширина, см: 20 Толщина, см: 1,2 Вес в граммах: 429 Возрастная категория: 0+\n",
            "\n",
            "--- Результат 4 ---\n",
            "🆔 ID в базе: 7235406f-a1c2-4f18-a697-ec98db3fa47b\n",
            "📊 Similarity Score: 0.7221\n",
            "Название: Фаина Раневская. Афоризмы\n",
            "Автор: . \n",
            "Ссылка на книгу: https://www.biblio-globus.ru/product/11008933\n",
            "Обложка: https://static1.bgshop.ru/imagehandler.ashx?filename=11008933.jpg&width=200\n",
            "Описание: Фаина Георгиевна Раневская - советская актриса театра и кино, чье появление в кадре могло затмить даже главных героев. В этой книге собраны забавные, ироничные, горькие, но всегда такие искренние и точные высказывания актрисы, которые мгновенно расходились на цитаты. Размышления о жизни переплетаются с по-настоящему глубокими рассуждениями и переживаниями, знакомыми каждому. Сборник напомнит читателям о таланте и мудрости необыкновенной женщины, чьи высказывания, как и прежде, остроумны и правдивы.\n",
            "\n",
            "--- Результат 5 ---\n",
            "🆔 ID в базе: c81e597f-5a73-48ba-8136-40fef3420b72\n",
            "📊 Similarity Score: 0.7216\n",
            "Название: Все не случайно\n",
            "Автор: Вера Валентиновна Алентова\n",
            "Ссылка на книгу: https://www.biblio-globus.ru/product/10832519\n",
            "Обложка: https://static1.bgshop.ru/imagehandler.ashx?filename=10832519.jpg&width=550\n",
            "Описание: Вера Алентова, редкой красоты и элегантности женщина, рассказала о себе то, о чем большинство звезд обычно предпочитают не распространяться. Шокирует, что великая актриса вовсе не боится показаться нам смешной, ошибающейся, слабой, а подчас и отчаявшейся. Так иронизировать над собой могут лишь совершенные люди с необыкновенно светлой душой и любящим сердцем. Прекрасная история прекрасной жизни захватывает с первой страницы. Сколько судеб пересеклись с судьбой Веры Валентиновны! И для каждого актера, режиссера, коллеги по работе и друга она находит добрые и очень точные слова. И, перевернув последнюю страницу, вдруг понимаешь: Вера Алентова в оскароносном фильме «Москва слезам не верит» сыграла саму себя: простую девушку, которая прошла по жизни с любовью, достоинством и оптимизмом, всего добившись сама. Вера Алентова, редкой красоты и элегантности женщина, рассказала о себе то, о чем большинство звезд обычно предпочитают не распространяться. Шокирует, что великая актриса вовсе не боится показаться нам смешной, ошибающейся, слабой, а подчас и отчаявшейся. Так иронизировать над собой могут лишь совершенные люди с необыкновенно светлой душой и любящим сердцем. Прекрасная история прекрасной жизни захватывает с первой страницы. Сколько судеб пересеклись с судьбой Веры Валентиновны! И для каждого актера, режиссера, коллеги по работе и друга она находит добрые и очень точные слова. И, перевернув последнюю страницу, вдруг понимаешь: Вера Алентова в оскароносном фильме «Москва слезам не верит» сыграла саму себя: простую девушку, которая прошла по жизни с любовью, достоинством и оптимизмом, всего добившись сама. Характеристики Место издания: Москва Серия: Автобиография-бестселлер Высота, см.: 21 Ширина, см: 13 Толщина, см: 3 Вес в граммах: 655 Возрастная категория: 16+\n",
            "\n",
            "--- Результат 6 ---\n",
            "🆔 ID в базе: 04d35e8f-b27e-4817-a2fc-59d3bd7b77df\n",
            "📊 Similarity Score: 0.7025\n",
            "Название: Леди Макбет Мценского уезда\n",
            "Автор: Лесков Н.С. \n",
            "Ссылка на книгу: https://www.biblio-globus.ru/product/11038047\n",
            "Обложка: https://static1.bgshop.ru/imagehandler.ashx?filename=11038047.jpg&width=200\n",
            "Описание: В сборник вошли три повести Николая Семеновича Лескова (1831–1895) о сильных женских характерах. «Леди Макбет Мценского уезда» – сюжет о молодой купчихе Катерине, выданной по расчету за нелюбимого человека. Ей приходится каждый день проводить в душевной тоске, пока она не встречает приказчика Сергея, к которому загорается убийственной любовью. Страсть становится одержимостью на грани безумия, и ради своего мужчины девушка готова пойти на все… «Воительница» — повесть о предприимчивой кружевнице Домне Платоновне, которая зарабатывает на сватовстве и помогает состоятельным господам находить содержанок. «Житие одной бабы» — история крепостной Насти, насильно выданной замуж. Завязав роман на стороне, она сталкивается с преследованием, тюрьмой и болезнями. Сможет ли любовь устоять перед испытаниями?\n",
            "\n",
            "--- Результат 7 ---\n",
            "🆔 ID в базе: db8f3075-93a2-4a74-ae55-dab4cf1b38dd\n",
            "📊 Similarity Score: 0.7012\n",
            "Название: Неистовая сила. Магия женского тела\n",
            "Автор: Поуп А., Хьюго Вурлитцер Ш. \n",
            "Ссылка на книгу: https://www.biblio-globus.ru/product/11031668\n",
            "Обложка: https://static1.bgshop.ru/imagehandler.ashx?filename=11031668.jpg&width=200\n",
            "Описание: Создатели Центра женственности, духовности и лидерства Александра Поуп и Шани Вурлитцер рассказывают в своей книге, как главный женский дар позволяет превратить свои слабости в силу. Слегка ироничный и нежный стиль подачи материала и удивительные женские истории на тему «женских дней» помогают совершенно иначе взглянуть на цикл и увидеть возможность для преобразования себя и мира вокруг. Авторы много лет посвятили изучению того, как женский цикл влияет на всю жизнь женщины, в одни периоды даря невероятную энергию для перемен, в другие — предлагая отнестись к себе бережно и нежно. Если вам интересно, как подружиться с собственной Неистовой Силой и использовать ее во благо, как избавиться от ежемесячной  боли, не прибегая к таблеткам, как наладить цикл и научиться слышать подсказки,  которые посылает вам ваша истинная женщина, — эта книга для вас.\n"
          ]
        }
      ],
      "source": [
        "#пример семантического поиска по базе вакансий в Qdrant\n",
        "\n",
        "query = \"Захватывающая история о сильном женском персонаже\"\n",
        "results_with_scores = vector_store.similarity_search_with_score(\n",
        "    query,\n",
        "    k=7\n",
        ")\n",
        "\n",
        "for i, (doc, score) in enumerate(results_with_scores):\n",
        "    print(f\"\\n--- Результат {i+1} ---\")\n",
        "    # ID обычно хранится в метаданных\n",
        "    doc_id = doc.metadata.get('_id', 'Нет ID')\n",
        "\n",
        "    print(f\"🆔 ID в базе: {doc_id}\")\n",
        "    print(f\"📊 Similarity Score: {score:.4f}\")\n",
        "    print(f\"Название: {doc.metadata.get('title', 'Не указано')}\")\n",
        "    print(f\"Автор: {doc.metadata.get('author', 'Не указано')}\")\n",
        "    print(f\"Ссылка на книгу: {doc.metadata.get('page_url', 'Не указано')}\")\n",
        "    print(f\"Обложка: {doc.metadata.get('image_url', [])}\")\n",
        "    print(f\"Описание: {doc.metadata.get('annotation', [])}\")\n"
      ]
    },
    {
      "cell_type": "markdown",
      "metadata": {
        "id": "bMWDqheMB3Ya"
      },
      "source": [
        "### 3.1 Семантический поиск с фильтрацией по метаданным"
      ]
    },
    {
      "cell_type": "markdown",
      "metadata": {
        "id": "An8J8Sf_B57B"
      },
      "source": [
        "* Cписок и возможности фильтрации - https://qdrant.tech/documentation/concepts/filtering/"
      ]
    },
    {
      "cell_type": "markdown",
      "metadata": {
        "id": "7EIrcUqZL0fV"
      },
      "source": [
        "![filtered_semantic_search](https://timescale.ghost.io/blog/content/images/size/w1000/2025/01/What-Is-Semantic-Search-with-Filters-and-How-to-Implement-It-with-pgvector-and-Python_with-filters-1.png)"
      ]
    },
    {
      "cell_type": "markdown",
      "metadata": {
        "id": "mnkWLLJ_ox3-"
      },
      "source": [
        "Семантический поиск с фильтрацией по метаданным — это поиск «по смыслу» (через эмбеддинги), где кандидаты для сравнения заранее ограничиваются условиями на метаданные (город, опыт, навыки, зарплата и т.п.).\n",
        "\n",
        "Пайплайн: данные → эмбеддинги; запрос → эмбеддинг + фильтры → отфильтрованный векторный поиск → результаты."
      ]
    },
    {
      "cell_type": "code",
      "execution_count": null,
      "metadata": {
        "id": "fTj9vYuhB3tU"
      },
      "outputs": [],
      "source": [
        "# # фильтр для Qdrant\n",
        "\n",
        "# # правила:\n",
        "# # extracted_skills содержит \"SQL\".\n",
        "# # extracted_skills содержит \"Pandas\".\n",
        "# # extracted_skills содержит \"scikit-learn\".\n",
        "# # experience = \"От 3 до 6 лет\".\n",
        "\n",
        "# from qdrant_client.models import Filter, FieldCondition, MatchAny\n",
        "\n",
        "# my_filter = Filter(\n",
        "#     must=[\n",
        "#         FieldCondition(\n",
        "#             key=\"metadata.extracted_skills\",  # Обратите внимание на путь\n",
        "#             match=MatchAny(any=[\"SQL\"])\n",
        "#         ),\n",
        "#         FieldCondition(\n",
        "#             key=\"metadata.extracted_skills\",\n",
        "#             match=MatchAny(any=[\"Pandas\"])\n",
        "#         ),\n",
        "#         FieldCondition(\n",
        "#             key=\"metadata.extracted_skills\",\n",
        "#             match=MatchAny(any=[\"scikit-learn\"])\n",
        "#         ),\n",
        "#         FieldCondition(\n",
        "#             key=\"metadata.experience\",\n",
        "#             match=MatchAny(any=[\"От 3 до 6 лет\"])\n",
        "#         ),\n",
        "#     ],\n",
        "# #исключение\n",
        "#     # must_not=[\n",
        "#     #     FieldCondition(\n",
        "#     #         key=\"metadata.salary\",\n",
        "#     #         is_null=False\n",
        "#     #         )\n",
        "#     # ]\n",
        "# )"
      ]
    },
    {
      "cell_type": "code",
      "execution_count": null,
      "metadata": {
        "colab": {
          "base_uri": "https://localhost:8080/"
        },
        "id": "ws4ERYe0B_3_",
        "outputId": "57c5c213-4ce0-4a3f-924b-90f23b7389bf"
      },
      "outputs": [],
      "source": [
        "# query = \"Фитнесс индустрия\"\n",
        "# results_with_scores = vector_store.similarity_search_with_score(\n",
        "#     query,\n",
        "#     filter=my_filter,\n",
        "#     k=5\n",
        "# )\n",
        "\n",
        "# for i, (doc, score) in enumerate(results_with_scores):\n",
        "#     print(f\"\\n--- Результат {i+1} ---\")\n",
        "#     # ID обычно хранится в метаданных\n",
        "#     doc_id = doc.metadata.get('_id', 'Нет ID')\n",
        "\n",
        "#     print(f\"🆔 ID в базе: {doc_id}\")\n",
        "#     print(f\"📊 Similarity Score: {score:.4f}\")\n",
        "#     print(f\"Должность: {doc.metadata.get('professional_roles', 'Не указано')}\")\n",
        "#     print(f\"Зарплата: {doc.metadata.get('salary', 'Не указано')}\")\n",
        "#     print(f\"Компания: {doc.metadata.get('employer', 'Не указано')}\")\n",
        "#     print(f\"Навыки: {doc.metadata.get('extracted_skills', [])}\")\n",
        "#     print(f\"Вакансия: {doc.metadata.get('alternate_url', [])}\")\n",
        "#     print(f\"Опыт: {doc.metadata.get('experience', 'Не указано')}\")\n",
        "#     print(f\"Описание: {doc.page_content[:400]}...\")"
      ]
    },
    {
      "cell_type": "markdown",
      "metadata": {
        "id": "3z-NterwB_Ya"
      },
      "source": [
        "### 4.RAG(Retrieval Augmented Generation)"
      ]
    },
    {
      "cell_type": "markdown",
      "metadata": {
        "id": "iyEZrrVTKmBi"
      },
      "source": [
        "![RAG Pipeline](https://cdn.hashnode.com/res/hashnode/image/upload/v1724944925051/e525c6cb-6a99-4eec-8b47-3dc827ddff25.png)"
      ]
    },
    {
      "cell_type": "code",
      "execution_count": 28,
      "metadata": {
        "id": "e4iOY2FLDnWA"
      },
      "outputs": [],
      "source": [
        "# this is an example of a user question (query)\n",
        "query = 'Играю на баяне'"
      ]
    },
    {
      "cell_type": "code",
      "execution_count": 34,
      "metadata": {
        "id": "jgkutnokENVs"
      },
      "outputs": [],
      "source": [
        "# query → твой пользовательский запрос, превращённый в эмбеддинг.\n",
        "# filter=my_filter → ограничиваешь поиск по метаданным (например, только вакансии с SQL, Pandas, scikit-learn и опытом от 3 до 6 лет).\n",
        "# k=10 → извлекаешь топ-10 документов, наиболее похожих по смыслу на запрос.\n",
        "\n",
        "results = vector_store.similarity_search_with_score(\n",
        "    query,\n",
        "    filter = my_filter,\n",
        "    k=10\n",
        ")"
      ]
    },
    {
      "cell_type": "markdown",
      "metadata": {
        "id": "PzqkrlLNqJDr"
      },
      "source": [
        "На вход подаётся список документов (например, результаты поиска из Qdrant).\n",
        "\n",
        "Для каждого документа достаются метаданные (должность, компания, опыт, навыки, ссылка).\n",
        "\n",
        "Добавляется кусочек текста описания ([:300], чтобы не перегружать LLM).\n",
        "\n",
        "Всё складывается в аккуратный текстовый блок, разделённый по вакансиям.\n",
        "\n",
        "Возвращается большая строка, которую легко встроить в промпт к LLM."
      ]
    },
    {
      "cell_type": "code",
      "execution_count": 35,
      "metadata": {
        "colab": {
          "base_uri": "https://localhost:8080/"
        },
        "id": "gaQobIzQEZA9",
        "outputId": "3ae1f78f-020f-4756-e956-518921baf898"
      },
      "outputs": [
        {
          "name": "stdout",
          "output_type": "stream",
          "text": [
            "Функция форматирования создана\n"
          ]
        }
      ],
      "source": [
        "def format_docs(docs):\n",
        "    \"\"\"Форматирует документы для передачи в промпт\"\"\"\n",
        "    formatted = []\n",
        "\n",
        "    for i, doc in enumerate(docs, 1):\n",
        "        metadata = doc.metadata\n",
        "\n",
        "        vacancy_info = f\"\"\"\n",
        "        === КНИГА {i} ===\n",
        "        Название: {metadata.get('title', 'Не указано')}\n",
        "        Автор: {metadata.get('author', 'Не указано')}\n",
        "        Ссылка на книгу: {metadata.get('page_url', 'Не указано')}\n",
        "        Обложка: {metadata.get('image_url', 'Не указано')}\n",
        "        Описание: {metadata.get('annotation', 'Не указано')}\n",
        "        \"\"\"\n",
        "\n",
        "        formatted.append(vacancy_info)\n",
        "\n",
        "    return \"\\n\".join(formatted)\n",
        "\n",
        "print(\"Функция форматирования создана\")"
      ]
    },
    {
      "cell_type": "markdown",
      "metadata": {
        "id": "t0BM2DCEqNgZ"
      },
      "source": [
        "\n",
        "```\n",
        "=== ВАКАНСИЯ 1 ===\n",
        "Должность: Data Scientist\n",
        "Компания: Сбер\n",
        "Опыт: От 3 до 6 лет\n",
        "Локация: Москва\n",
        "График: Полный день\n",
        "Навыки: Python, SQL, Pandas, scikit-learn\n",
        "Ссылка: https://hh.ru/vacancy/12345\n",
        "\n",
        "Описание: Мы ищем специалиста по машинному обучению...\n",
        "\n",
        "```\n",
        "\n",
        "\n"
      ]
    },
    {
      "cell_type": "code",
      "execution_count": 31,
      "metadata": {
        "id": "UlJEaKLxGXQy"
      },
      "outputs": [
        {
          "name": "stderr",
          "output_type": "stream",
          "text": [
            "huggingface/tokenizers: The current process just got forked, after parallelism has already been used. Disabling parallelism to avoid deadlocks...\n",
            "To disable this warning, you can either:\n",
            "\t- Avoid using `tokenizers` before the fork if possible\n",
            "\t- Explicitly set the environment variable TOKENIZERS_PARALLELISM=(true | false)\n"
          ]
        }
      ],
      "source": [
        "!uv pip install -q langchain_groq"
      ]
    },
    {
      "cell_type": "code",
      "execution_count": 60,
      "metadata": {
        "colab": {
          "base_uri": "https://localhost:8080/"
        },
        "id": "MNE6m5_ejVMl",
        "outputId": "64d08446-10a0-4877-aaf7-35e9cad6d0b6"
      },
      "outputs": [],
      "source": [
        "import os\n",
        "import getpass\n",
        "from langchain_groq import ChatGroq\n",
        "from langchain_core.messages import SystemMessage, HumanMessage\n",
        "\n",
        "os.environ[\"GROQ_API_KEY\"] = getpass.getpass(\"Enter API key for Groq: \")\n",
        "\n",
        "llm = ChatGroq(\n",
        "    model=\"openai/gpt-oss-120b\",\n",
        "    temperature=0,\n",
        "    max_tokens=2000\n",
        ")"
      ]
    },
    {
      "cell_type": "code",
      "execution_count": 41,
      "metadata": {
        "colab": {
          "base_uri": "https://localhost:8080/"
        },
        "id": "fux4kHW2jjOf",
        "outputId": "b0625cc7-654d-4415-ad2e-2c81c99b42c0"
      },
      "outputs": [
        {
          "data": {
            "text/plain": [
              "AIMessage(content='<think>\\nХорошо, мне нужно посоветовать пару интересных фильмов про модельный бизнес. Я не очень хорошо разбираюсь в этом, поэтому сначала подумаю, какие фильмы я сам видел или слышал, которые связаны с модой или модельным бизнесом.\\n\\nПервое, что приходит в голову, это фильм \"Дьявол носит Prada\". Я помню, что это комедийная драма, и там показана жизнь в модном журнале. Главный персонаж, Энди, начинает работать у дьявольской начальницы Миранды. Думаю, этот фильм показывает внутреннюю кухню модельного бизнеса, все его излишества и стресс.\\n\\nЕще один фильм, который мне нравится, это \"Зустрічаїся, Джо Блек\". Это комедия с Дастином Хоффманом и Томом Крузом. В фильме показана история парня, который работает в модельном агентстве, и его отношения с отцом. Мне понравилась эта история, она одновременно смешная и трогательная.\\n\\nМожет быть, есть и другие фильмы, но я не уверен. Например, \"Пиранья\" - это комедийный фильм ужасов, но не уверен, насколько он связан с модельным бизнесом. Возможно, он тоже подходит, но не уверен.\\n\\nТакже есть \"Гламур\", но я не помню деталей. Возможно, это документальный фильм или что-то в этом роде. Надо проверить.\\n\\nВ итоге, я думаю, что \"Дьявол носит Prada\" и \"Зустрічаїся, Джо Блек\" будут хорошими вариантами. Они показывают разные аспекты модельного бизнеса, один более о работе в журнале, другой о личных отношениях и карьере в индустрии.\\n</think>\\n\\nКонечно! Вот два интересных фильма про модельный бизнес:\\n\\n1. **\"Дьявол носит Prada\" (The Devil Wears Prada)**  \\n   - Жанр: Комедийная драма  \\n   - Описание: Фильм рассказывает о жизни Энди Сакс, начинающей журналистки, которая получает работу в престижном модном журнале. Ее начальница, Миранда Пристли, оказывается очень требовательной и сложной в общении. Фильм показывает внутреннюю кухню модельного бизнеса, его излишества и стрессовые ситуации.\\n\\n2. **\"Зустрічаїся, Джо Блек\" (Meet Joe Black)**  \\n   - Жанр: Комедия, драма  \\n   - Описание: В фильме рассказывается история Билла, владельца модельного агентства, который заключает сделку с Смертью, которая решила познакомиться с миром людей. Фильм исследует темы жизни, любви и смертности на фоне модельного бизнеса.\\n\\nОба фильма предлагают разные взгляды на модельную индустрию, один через призму работы в журнале, другой через личные отношения и карьеру.', additional_kwargs={}, response_metadata={'token_usage': {'completion_tokens': 737, 'prompt_tokens': 20, 'total_tokens': 757, 'completion_time': 2.9619456790000003, 'prompt_time': 0.010939227, 'queue_time': 0.086322091, 'total_time': 2.972884906}, 'model_name': 'deepseek-r1-distill-llama-70b', 'system_fingerprint': 'fp_1bbe7845ec', 'service_tier': 'on_demand', 'finish_reason': 'stop', 'logprobs': None}, id='run--e313df45-cdb3-4126-b378-fb5f7786b04d-0', usage_metadata={'input_tokens': 20, 'output_tokens': 737, 'total_tokens': 757})"
            ]
          },
          "execution_count": 41,
          "metadata": {},
          "output_type": "execute_result"
        }
      ],
      "source": [
        "llm.invoke('Можешь посоветовать пару интересных фильмов про модельный бизнес?')"
      ]
    },
    {
      "cell_type": "code",
      "execution_count": null,
      "metadata": {
        "colab": {
          "base_uri": "https://localhost:8080/"
        },
        "id": "edU0-3jSGQcg",
        "outputId": "756d832b-0fb2-473e-bb66-323152942693"
      },
      "outputs": [
        {
          "name": "stdout",
          "output_type": "stream",
          "text": [
            "<think>\n",
            "Хорошо, я получил сообщение от пользователя: \"Привет, как тебя зовут?\". Мне нужно ответить, представившись Иваном Ивановым и добавить анекдот про программистов в догонку. \n",
            "\n",
            "Сначала представляюсь: \"Меня зовут Иван Иванов.\" Затем подбираю подходящий анекдот. Думаю, анекдот должен быть коротким и понятным, связанным с программированием. \n",
            "\n",
            "Например, анекдот про то, как программисты взаимодействуют с компьютерами. Вспоминаю шутку про то, что программист говорит компьютеру: \"Я не спорю, я просто объясняю, почему я прав.\" Это подходит, потому что это легкий и понятный анекдот.\n",
            "\n",
            "Собираю всё вместе: представление и анекдот. Проверяю, чтобы всё было гладко и естественно. Вуаля, готов ответить пользователю.\n",
            "</think>\n",
            "\n",
            "Меня зовут Иван Иванов. А знаете, почему программисты не спорят с компьютером? Потому что компьютер всегда прав!\n"
          ]
        }
      ],
      "source": [
        "# messages = [\n",
        "#     SystemMessage(content=\"Если тебя спросят как тебя зовут, представляйся Иваном Ивановым и в догонку анекдот про программистов\"), #это инструкция для модели\n",
        "#     HumanMessage(content=\"Привет, как тебя зовут?\") #это твой вопрос\n",
        "# ]\n",
        "\n",
        "# answer = llm.invoke(messages).content\n",
        "\n",
        "# print(answer)"
      ]
    },
    {
      "cell_type": "markdown",
      "metadata": {},
      "source": [
        "ChatPromptTemplate из langchain.prompts - специальный класс в LangChain, который позволяет удобно собирать шаблоны сообщений для чат-моделей (например, LLM вроде GPT или Groq).\n",
        "Ты заранее задаёшь структуру диалога, а потом просто подставляешь переменные.\n",
        "\n",
        "from_messages принимает список сообщений (каждое сообщение — это кортеж (роль, текст))\n",
        "* \"system\" — это системное сообщение, оно задаёт стиль и правила для модели (как будто ты даёшь инструкцию ассистенту).\n",
        "* \"human\" — сообщение от пользователя (то, что будет вставляться при выполнении запроса)."
      ]
    },
    {
      "cell_type": "code",
      "execution_count": 45,
      "metadata": {
        "id": "wkh_hYJvEtz3"
      },
      "outputs": [],
      "source": [
        "#кастомный промпт для RAG\n",
        "from langchain.prompts import ChatPromptTemplate\n",
        "\n",
        "rag_prompt = ChatPromptTemplate.from_messages([   # влияет на тональность и стиль ответов\n",
        "    (\"system\", \"\"\"Ты продавец книг, опытный, доброжелательный и с деликатным чувством юмора.   \n",
        "    Твоя задача - проанализировать запрос и предложить варианты криг наиболее близко отвечающие интресам клиента.\n",
        "\n",
        "    Стиль анализа:\n",
        "    - Проводи глубокий анализ,\n",
        "    - Используй шутки там, где это уместно\n",
        "    - Давай аргументированные практические советы\n",
        "    - Отвечай на русском языке живым, но профессиональным тоном\n",
        "\n",
        "    Помни: юмор должен быть добрым, не оскорбительным и не навязчивым. Цель - сделать анализ интересным!\n",
        "    \n",
        "    \"\"\"),\n",
        "\n",
        "    (\"human\", \"\"\"Данные для анализа:{context} Уточнения к запросу: {question}\"\"\")\n",
        "])"
      ]
    },
    {
      "cell_type": "code",
      "execution_count": 46,
      "metadata": {
        "id": "YhCtsa1uFkbY"
      },
      "outputs": [],
      "source": [
        "#retriever — это «универсальный адаптер» для поиска релевантных документов.\n",
        "retriever = vector_store.as_retriever(\n",
        "    search_type=\"similarity\",\n",
        "    search_kwargs={\"k\": 5}\n",
        ")"
      ]
    },
    {
      "cell_type": "markdown",
      "metadata": {
        "id": "g4Irk-CRr7Vf"
      },
      "source": [
        "\"context\": retriever | format_docs\n",
        "👉 берёт запрос, передаёт его в retriever, тот достаёт документы, а потом format_docs превращает их в аккуратный текст.\n",
        "\n",
        "\"question\": RunnablePassthrough()\n",
        "👉 «пропускает» исходный запрос пользователя как есть, чтобы вставить его в промпт.\n"
      ]
    },
    {
      "cell_type": "code",
      "execution_count": 48,
      "metadata": {
        "colab": {
          "base_uri": "https://localhost:8080/"
        },
        "id": "jutEr4QVFqw3",
        "outputId": "ff1ddb55-c2ce-4756-a7b0-868db0812525"
      },
      "outputs": [
        {
          "name": "stdout",
          "output_type": "stream",
          "text": [
            "RAG цепочка создана\n"
          ]
        }
      ],
      "source": [
        "from langchain.schema.runnable import RunnablePassthrough\n",
        "from langchain.schema.output_parser import StrOutputParser\n",
        "\n",
        "# Создаем RAG цепочку\n",
        "rag_chain = (\n",
        "    {\n",
        "        \"context\": retriever | format_docs,\n",
        "        \"question\": RunnablePassthrough()\n",
        "    } # словарь, в котором ключи - это переменные, которые будут переданы в промпт\n",
        "    | rag_prompt # промпт для RAG\n",
        "    | llm # тут можно поставить любую llm-модель\n",
        "    | StrOutputParser() # для вывода ответа в читаемом виде\n",
        ")\n",
        "\n",
        "print(\"RAG цепочка создана\")"
      ]
    },
    {
      "cell_type": "markdown",
      "metadata": {
        "id": "0y5kaJtlsZ65"
      },
      "source": [
        "retriever ищет релевантные вакансии в Qdrant по смыслу.\n",
        "\n",
        "format_docs превращает найденные документы в аккуратные блоки.\n",
        "\n",
        "rag_prompt строит промпт для LLM (с твоим юмористическим стилем).\n",
        "\n",
        "llm (Groq, deepseek-r1-distill-llama-70b) генерирует ответ.\n",
        "\n",
        "StrOutputParser() возвращает просто текст ответа."
      ]
    },
    {
      "cell_type": "code",
      "execution_count": 49,
      "metadata": {
        "colab": {
          "base_uri": "https://localhost:8080/"
        },
        "id": "v51O1f9SGO1s",
        "outputId": "8e5d9ee8-a63f-475c-96ed-3831a02962cd"
      },
      "outputs": [
        {
          "name": "stdout",
          "output_type": "stream",
          "text": [
            "ОТВЕТ RAG:\n",
            "<think>\n",
            "Хорошо, клиент просит посоветовать книги про женщину с сильным характером. Посмотрю на предоставленные варианты и попробую понять, что может подойти.\n",
            "\n",
            "Первая книга \"Девочки, которые изменили мир\" рассказывает о выдающихся женщинах в истории. Это вдохновляет и показывает примеры сильных личностей. Думаю, она подходит идеально, потому что она дает конкретные примеры и мотивацию.\n",
            "\n",
            "Вторая и третья книги — это два издания \"НЛП. Игры, в которых побеждают женщины\". Обе книги фокусируются на практических техниках НЛП, что может помочь женщинам стать увереннее и сильнее. Разница только в обложке, так что можно предложить обе, но отметить, что содержание одинаково.\n",
            "\n",
            "Четвертая книга \"Женщина Альфа\" направлена на развитие внутренней устойчивости и смелости. Она дает практические шаги, что тоже важно для сильного характера.\n",
            "\n",
            "Пятая книга \"Когда я вырасту, то стану...\" предназначена для молодежи и рассказывает о различных профессиях и вдохновляет на выбор пути. Хорошо подходит для подростков, которые только начинают формировать свои цели.\n",
            "\n",
            "Теперь подумаю, как их представить клиенту. Нужно выделить каждую книгу, объяснить, почему она подходит, и добавить немного юмора, чтобы ответ был живым и интересным. Важно, чтобы клиент понял, что каждая книга решает разные аспекты — вдохновение, практические навыки, внутреннее развитие и ориентацию для молодежи.\n",
            "\n",
            "Также стоит учесть, что клиент может быть разного возраста, поэтому стоит предложить варианты для разных возрастных групп. Например, первую и пятую книги для молодежи и взрослых соответственно, а остальные для тех, кто ищет практические инструменты.\n",
            "\n",
            "В итоге, подготовлю рекомендации, которые будут структурированы, информативны и с добавлением легкого юмора, чтобы сделать ответ приятным для чтения.\n",
            "</think>\n",
            "\n",
            "Огромный выбор книг про сильных женщин! Давайте разбираться вместе, какие из них подойдут именно вам. А я постараюсь быть полезным и немного остроумным, чтобы даже выбор книги стал маленьким приключением.\n",
            "\n",
            "---\n",
            "\n",
            "### **1. \"Девочки, которые изменили мир\"**\n",
            "**Авторы:** Зартайская И.В., Суворова А.В., Нисапова Э.Н.  \n",
            "**Описание:**  \n",
            "Эта книга — как времяпутешествие через истории выдающихся женщин, которые доказали, что гендер — это не преграда, а всего лишь деталь. От Гипатии, которая занималась математикой и философией в то время, когда это было «не женское дело», до Фриды Кало, которая превратила свои страдания в искусство.  \n",
            "\n",
            "**Почему она подходит:**  \n",
            "Если вы хотите вдохновения и примеров для подражания, эта книга — идеальный выбор. Она напоминает, что даже маленькие шаги могут изменить мир. А еще в ней есть Екатерина II, которая, как известно, России быть!  \n",
            "\n",
            "**Рекомендация:**  \n",
            "Взять эту книгу, если вы хотите вдохновиться историями сильных женщин и понять, что упорство и вера в себя могут перехитрить любые препятствия.\n",
            "\n",
            "---\n",
            "\n",
            "### **2. \"НЛП. Игры, в которых побеждают женщины\" (шрифтовая обложка)**  \n",
            "**Автор:** Бакиров А.К.  \n",
            "**Описание:**  \n",
            "Это не просто книга о НЛП — это практическое руководство по жизни для женщин, которые хотят быть сильными, независимыми и привлекательными. Автор рассказывает о том, как использовать техники нейро-лингвистического программирования, чтобы добиться успеха в личной и профессиональной жизни.  \n",
            "\n",
            "**Почему она подходит:**  \n",
            "Если вы хотите не только вдохновляться, но и получать конкретные инструменты для изменения своей жизни, эта книга — ваш выбор. Она написана с юмором и легкостью, так что читать ее будет приятно.  \n",
            "\n",
            "**Рекомендация:**  \n",
            "Возьмите эту книгу, если вы хотите научиться управлять своими мыслями, эмоциями и отношениями, и стать «женщиной, которая играет по своим правилам».\n",
            "\n",
            "---\n",
            "\n",
            "### **3. \"НЛП. Игры, в которых побеждают женщины\" (обычная обложка)**  \n",
            "**Автор:** Бакиров А.К.  \n",
            "**Описание:**  \n",
            "Это та же самая книга, что и предыдущая, но с другой обложкой. Если вы не любите шрифтовую обложку, можно выбрать этот вариант.  \n",
            "\n",
            "**Почему она подходит:**  \n",
            "То же самое, что и предыдущая — это практическое руководство по НЛП для женщин, которые хотят быть сильными и уверенными.  \n",
            "\n",
            "**Рекомендация:**  \n",
            "Если вы предпочитаете более сдержанный дизайн, возьмите этот вариант. Содержание одинаково полезное!  \n",
            "\n",
            "---\n",
            "\n",
            "### **4. \"Женщина Альфа. Как управлять своей жизнью без оглядки на чужое мнение\"**  \n",
            "**Автор:** Шах А.  \n",
            "**Описание:**  \n",
            "Эта книга для тех, кто хочет стать сильной и независимой, но пока чувствует себя «удобной» для окружающих. Автор предлагает простые и практичные шаги к внутренней устойчивости и смелости.  \n",
            "\n",
            "**Почему она подходит:**  \n",
            "Если вы хотите научиться говорить «нет», ставить границы и следовать своим целям, эта книга станет вашим проводником.  \n",
            "\n",
            "**Рекомендация:**  \n",
            "Возьмите эту книгу, если вы хотите работать над собой и стать «женщиной Альфа» — той, кто управляет своей жизнью без оглядки на чужое мнение.\n",
            "\n",
            "---\n",
            "\n",
            "### **5. \"Когда я вырасту, то стану... Моя творческая книга\"**  \n",
            "**Авторы:** Молодых Н.В., Филиппова Н.А.  \n",
            "**Описание:**  \n",
            "Эта книга — вдохновение для молодых читательниц. Она рассказывает о разных профессиях и великих женщинах, которые добились успеха в своих областях.  \n",
            "\n",
            "**Почему она подходит:**  \n",
            "Если вы ищете книгу для подростка или хотите сами примерить на себя разные роли, эта книга станет отличным выбором.  \n",
            "\n",
            "**Рекомендация:**  \n",
            "Возьмите эту книгу, если вы хотите открыть для себя новые возможности и понять, как можно реализовать свои мечты.\n",
            "\n",
            "---\n",
            "\n",
            "### **Итоговый выбор:**  \n",
            "Если вы хотите вдохновения и историй про сильных женщин — берите **\"Девочки, которые изменили мир\"**.  \n",
            "Если вы хотите практических инструментов для изменения своей жизни — выбирайте одну из книг про **НЛП** или **\"Женщину Альфа\"**.  \n",
            "Если вы ищете вдохновение для молодежи — идеально подойдет **\"Когда я вырасту, то стану...\"**.  \n",
            "\n",
            "Какую из них вы выберете? 😊\n"
          ]
        }
      ],
      "source": [
        "# Тестируем\n",
        "question = \"Посоветуй книги про женщину с сильным характером.\"\n",
        "try:\n",
        "    answer = rag_chain.invoke(question)\n",
        "    print(\"ОТВЕТ RAG:\")\n",
        "    print(answer)\n",
        "except Exception as e:\n",
        "    print(f\"Ошибка: {e}\")"
      ]
    },
    {
      "cell_type": "code",
      "execution_count": 51,
      "metadata": {
        "id": "PsKUH0T1IAJF"
      },
      "outputs": [],
      "source": [
        "def demonstrate_rag_step_by_step(query: str):\n",
        "    \"\"\"Демонстрация работы RAG цепочки по шагам с промежуточными результатами\"\"\"\n",
        "\n",
        "    print(\"🔍 ПОШАГОВОЕ ВЫПОЛНЕНИЕ RAG ЦЕПОЧКИ\")\n",
        "    print(\"=\" * 60)\n",
        "    print(f\"📝 Запрос: '{query}'\")\n",
        "    print()\n",
        "\n",
        "    # ШАГ 1: Получение контекста из векторной БД\n",
        "    print(\"📍 ШАГ 1: Поиск похожих документов\")\n",
        "    print(\"-\" * 40)\n",
        "\n",
        "    # Получаем документы из ретривера\n",
        "    docs = retriever.invoke(query)\n",
        "    print(f\"🔢 Найдено документов: {len(docs)}\")\n",
        "\n",
        "    for i, doc in enumerate(docs, 1):\n",
        "        print(f\"  📄 Документ {i}:\")\n",
        "        print(f\"     Содержимое: {doc.page_content[:100]}...\")\n",
        "        print(f\"     Метаданные: {doc.metadata}\")\n",
        "        print()\n",
        "\n",
        "    # ШАГ 2: Форматирование документов\n",
        "    print(\"📍 ШАГ 2: Форматирование контекста\")\n",
        "    print(\"-\" * 40)\n",
        "\n",
        "    formatted_context = format_docs(docs)\n",
        "    print(f\"📝 Отформатированный контекст:\")\n",
        "    print(f\"{formatted_context[:500]}...\")\n",
        "    print()\n",
        "\n",
        "    # ШАГ 3: Создание входных данных для промпта\n",
        "    print(\"📍 ШАГ 3: Подготовка входных данных\")\n",
        "    print(\"-\" * 40)\n",
        "\n",
        "    input_data = {\n",
        "        \"context\": formatted_context,\n",
        "        \"question\": query\n",
        "    }\n",
        "    print(f\"🗂️ Входные данные:\")\n",
        "    print(f\"   📋 Контекст: {len(formatted_context)} символов\")\n",
        "    print(f\"   ❓ Вопрос: '{input_data['question']}'\")\n",
        "    print()\n",
        "\n",
        "    # ШАГ 4: Применение промпта\n",
        "    print(\"📍 ШАГ 4: Создание финального промпта\")\n",
        "    print(\"-\" * 40)\n",
        "\n",
        "    formatted_prompt = rag_prompt.format(**input_data)\n",
        "    print(f\"💬 Финальный промпт для LLM:\")\n",
        "    print(f\"{formatted_prompt[:800]}...\")\n",
        "    print()\n",
        "\n",
        "    # ШАГ 5: Вызов LLM\n",
        "    print(\"📍 ШАГ 5: Генерация ответа LLM\")\n",
        "    print(\"-\" * 40)\n",
        "\n",
        "    # Конвертируем промпт в сообщения\n",
        "    messages = rag_prompt.format_messages(**input_data)\n",
        "    print(f\"📨 Отправляем {len(messages)} сообщений в LLM\")\n",
        "\n",
        "    # Получаем ответ\n",
        "    response = llm.invoke(messages)\n",
        "    print(f\"🤖 Сырой ответ LLM:\")\n",
        "    print(f\"   Тип: {type(response)}\")\n",
        "    print(f\"   Содержимое: {response.content[:200]}...\")\n",
        "    print()\n",
        "\n",
        "    # ШАГ 6: Парсинг ответа\n",
        "    print(\"📍 ШАГ 6: Финальная обработка\")\n",
        "    print(\"-\" * 40)\n",
        "\n",
        "    final_answer = StrOutputParser().parse(response)\n",
        "    print(f\"✅ Финальный ответ:\")\n",
        "    print(f\"{final_answer}\")\n",
        "\n",
        "    return final_answer"
      ]
    },
    {
      "cell_type": "code",
      "execution_count": 53,
      "metadata": {
        "colab": {
          "base_uri": "https://localhost:8080/"
        },
        "id": "XQpIYX2wIOYA",
        "outputId": "d84823d2-87a0-4fd7-e96c-32a8ea9c7075"
      },
      "outputs": [
        {
          "name": "stdout",
          "output_type": "stream",
          "text": [
            "🔍 ПОШАГОВОЕ ВЫПОЛНЕНИЕ RAG ЦЕПОЧКИ\n",
            "============================================================\n",
            "📝 Запрос: 'Ищу что-почитать на тему успешной подготовки к собеседованиям в IT сфере.'\n",
            "\n",
            "📍 ШАГ 1: Поиск похожих документов\n",
            "----------------------------------------\n",
            "🔢 Найдено документов: 5\n",
            "  📄 Документ 1:\n",
            "     Содержимое: Учебное пособие способствует развитию у студентов компетенций в области информационных и коммуникаци...\n",
            "     Метаданные: {'title': 'Система информационной подготовки кадров для работы в среде 1С', 'author': 'Богатенков С. А.', 'page_url': 'https://www.biblio-globus.ru/product/11057950', 'image_url': 'https://static1.bgshop.ru/imagehandler.ashx?filename=11057950.jpg&width=200', 'annotation': 'Учебное пособие способствует развитию у студентов компетенций в области информационных и коммуникационных технологий, необходимых для профессиональной деятельности в информационно-коммуникационной образовательной среде 1С. Учебное пособие может быть полезно выпускникам организаций СПО. Соответствует современным требованиям Федерального государственного образовательного стандарта среднего профессионального образования и профессиональным квалификационным требованиям.', '_id': '2ff8e009-af12-4444-ac13-c848ff1bf42d', '_collection_name': 'books_collection'}\n",
            "\n",
            "  📄 Документ 2:\n",
            "     Содержимое: Учебное пособие представляет собой комплексный ресурс, созданный автором с глубоким практическим опы...\n",
            "     Метаданные: {'title': 'IT-консалтинг', 'author': 'Баланов А. Н.', 'page_url': 'https://www.biblio-globus.ru/product/11012065', 'image_url': 'https://static1.bgshop.ru/imagehandler.ashx?filename=11012065.jpg&width=200', 'annotation': 'Учебное пособие представляет собой комплексный ресурс, созданный автором с глубоким практическим опытом в области IT. Благодаря этому книга отличается реалистичным и применимым подходом к изучению IT-консалтинга, делая её ценной как для начинающих, так и для опытных специалистов. Основываясь на реальном опыте автора, пособие детально освещает критически важные аспекты IT-консалтинга — от анализа IT-систем до управления проектами и цифровой трансформации. Каждая глава содержит конкретные примеры и кейс-стади, демонстрируя применение теории на практике и позволяя студентам увидеть реальное воздействие IT-решений на бизнес. Соответствует современным требованиям Федерального государственного образовательного стандарта среднего профессионального образования и профессиональным квалификационным требованиям.', '_id': '4765ff27-54c8-447a-8ed3-6c1f06f45fbf', '_collection_name': 'books_collection'}\n",
            "\n",
            "  📄 Документ 3:\n",
            "     Содержимое: В учебном пособии описаны технологии для составления бизнес-плана предприятия, разработки автоматизи...\n",
            "     Метаданные: {'title': 'Применение информационных технологий в бизнесе. Практикум', 'author': 'Богатенков С. А.', 'page_url': 'https://www.biblio-globus.ru/product/11062170', 'image_url': 'https://static1.bgshop.ru/imagehandler.ashx?filename=11062170.jpg&width=200', 'annotation': 'В учебном пособии описаны технологии для составления бизнес-плана предприятия, разработки автоматизированной системы обучения и интернет-магазина. Рассмотрены вопросы применения продуктов 1С в управлении фирмой. Предназначено для студентов экономических направлений организаций СПО. Материал пособия может быть использован в рамках курсов повышения квалификации кадров, а также аспирантов, преподавателей, практических работников экономических подразделений, отделов и служб информационных технологий организаций различных форм собственности. Рекомендовано для формирования профессиональных компетенций в соответствии с ФГОС СПО.', '_id': 'ad98495d-c979-47ad-9fee-c44e7a1411b3', '_collection_name': 'books_collection'}\n",
            "\n",
            "  📄 Документ 4:\n",
            "     Содержимое: «Фасилитация для HR. Бизнес-задачник» — это практическое руководство по использованию инструментов ф...\n",
            "     Метаданные: {'title': 'Фасилитация для HR: сборник бизнес-задач', 'author': 'Куковякина Т.', 'page_url': 'https://www.biblio-globus.ru/product/11032161', 'image_url': 'https://static1.bgshop.ru/imagehandler.ashx?filename=11032161.jpg&width=550', 'annotation': '«Фасилитация для HR. Бизнес-задачник» — это практическое руководство по использованию инструментов фасилитации в работе HR-специалиста. Книга представляет собой сборник кейсов, демонстрирующих применение фасилитации на каждом этапе работы с персоналом: от подбора и адаптации до обучения и развития, а также увольнения. Вы узнаете, как использовать фасилитацию для: • создания эффективных команд; • разработки уникальных подходов к отбору персонала; • повышения вовлеченности сотрудников; • разработки и реализации программ обучения и развития; • создания человечной системы увольнения. Книга поможет вам эффективно решать бизнес-задачи в сфере управления персоналом, создавая условия для процветания как сотрудников, так и компании в целом. «Фасилитация для HR. Бизнес-задачник» — это практическое руководство по использованию инструментов фасилитации в работе HR-специалиста. Книга представляет собой сборник кейсов, демонстрирующих применение фасилитации на каждом этапе работы с персоналом: от подбора и адаптации до обучения и развития, а также увольнения. Вы узнаете, как использовать фасилитацию для: • создания эффективных команд; • разработки уникальных подходов к отбору персонала; • повышения вовлеченности сотрудников; • разработки и реализации программ обучения и развития; • создания человечной системы увольнения. Книга поможет вам эффективно решать бизнес-задачи в сфере управления персоналом, создавая условия для процветания как сотрудников, так и компании в целом. Характеристики Место издания: Москва Серия: Бизнес вектор Высота, см.: 22 Ширина, см: 14 Толщина, см: 1 Вес в граммах: 258 Возрастная категория: 16+', '_id': 'caf35fa4-1910-4d75-9cd5-4e93c5aed866', '_collection_name': 'books_collection'}\n",
            "\n",
            "  📄 Документ 5:\n",
            "     Содержимое: В учебном пособии описаны технологии для составления бизнес-плана предприятия, разработки автоматизи...\n",
            "     Метаданные: {'title': 'Применение информационных технологий в бизнесе. Практикум', 'author': 'Богатенков С. А.', 'page_url': 'https://www.biblio-globus.ru/product/11062169', 'image_url': 'https://static1.bgshop.ru/imagehandler.ashx?filename=11062169.jpg&width=200', 'annotation': 'В учебном пособии описаны технологии для составления бизнес-плана предприятия, разработки автоматизированной системы обучения и интернет-магазина. Рассмотрены вопросы применения продуктов 1С в управлении фирмой. Учебное пособие предназначено для студентов направления «Бизнес-информатика» и других экономических направлений и специальностей всех форм обучения, а также аспирантов, преподавателей, практических работников экономических подразделений, отделов и служб информационных технологий организаций различных форм собственности. Рекомендовано для формирования профессиональных компетенций в соответствии с ФГОС ВО.', '_id': 'a9d0b460-58f0-43d1-9653-b8d138234bb3', '_collection_name': 'books_collection'}\n",
            "\n",
            "📍 ШАГ 2: Форматирование контекста\n",
            "----------------------------------------\n",
            "📝 Отформатированный контекст:\n",
            "\n",
            "        === КНИГА 1 ===\n",
            "        Название: Система информационной подготовки кадров для работы в среде 1С\n",
            "        Автор: Богатенков С. А.\n",
            "        Ссылка на книгу: https://www.biblio-globus.ru/product/11057950\n",
            "        Обложка: https://static1.bgshop.ru/imagehandler.ashx?filename=11057950.jpg&width=200\n",
            "        Описание: Учебное пособие способствует развитию у студентов компетенций в области информационных и коммуникационных технологий, необходимых для профессиональной деятельности в информационно-...\n",
            "\n",
            "📍 ШАГ 3: Подготовка входных данных\n",
            "----------------------------------------\n",
            "🗂️ Входные данные:\n",
            "   📋 Контекст: 5722 символов\n",
            "   ❓ Вопрос: 'Ищу что-почитать на тему успешной подготовки к собеседованиям в IT сфере.'\n",
            "\n",
            "📍 ШАГ 4: Создание финального промпта\n",
            "----------------------------------------\n",
            "💬 Финальный промпт для LLM:\n",
            "System: Ты продавец книг, опытный, доброжелательный и с деликатным чувством юмора.   \n",
            "    Твоя задача - проанализировать запрос и предложить варианты криг наиболее близко отвечающие интресам клиента.\n",
            "\n",
            "    Стиль анализа:\n",
            "    - Проводи глубокий анализ,\n",
            "    - Используй шутки там, где это уместно\n",
            "    - Давай аргументированные практические советы\n",
            "    - Отвечай на русском языке живым, но профессиональным тоном\n",
            "\n",
            "    Помни: юмор должен быть добрым, не оскорбительным и не навязчивым. Цель - сделать анализ интересным!\n",
            "\n",
            "    \n",
            "Human: Данные для анализа:\n",
            "        === КНИГА 1 ===\n",
            "        Название: Система информационной подготовки кадров для работы в среде 1С\n",
            "        Автор: Богатенков С. А.\n",
            "        Ссылка на книгу: https://www.biblio-globus.ru/product/11057950\n",
            "        Обложка: https://static1.bgshop.ru/im...\n",
            "\n",
            "📍 ШАГ 5: Генерация ответа LLM\n",
            "----------------------------------------\n",
            "📨 Отправляем 2 сообщений в LLM\n",
            "🤖 Сырой ответ LLM:\n",
            "   Тип: <class 'langchain_core.messages.ai.AIMessage'>\n",
            "   Содержимое: <think>\n",
            "Хорошо, клиент ищет что почитать на тему успешной подготовки к собеседованиям в IT-сфере. У него есть пять книг на выбор, но они все больше ориентированы на информационные технологии, 1С, IT-к...\n",
            "\n",
            "📍 ШАГ 6: Финальная обработка\n",
            "----------------------------------------\n",
            "✅ Финальный ответ:\n",
            "content='<think>\\nХорошо, клиент ищет что почитать на тему успешной подготовки к собеседованиям в IT-сфере. У него есть пять книг на выбор, но они все больше ориентированы на информационные технологии, 1С, IT-консалтинг и HR. Мне нужно помочь ему выбрать из этих пяти, какие из них могут быть полезны для подготовки к собеседованию в IT.\\n\\nПервым делом, посмотрю на каждую книгу:\\n\\n1. **Система информационной подготовки кадров для работы в среде 1С**. Эта книга фокусируется на 1С и информационных технологиях. Если клиент собирается на собеседование в компанию, где используется 1С, эта книга может помочь ему подготовиться, изучив платформу и поняв, как она применяется в бизнесе. Также она может быть полезна для общего понимания информационных систем.\\n\\n2. **IT-консалтинг**. Эта книга охватывает IT-консалтинг, анализирует IT-системы, управление проектами и цифровую трансформацию. Для кандидата в IT, особенно если он стремится в консалтинг или проектное управление, эта книга даст практические знания и кейсы, которые можно упомянуть на собеседовании.\\n\\n3. **Применение информационных технологий в бизнесе. Практикум (11062170)**. Здесь описаны практические задания по бизнес-планированию, автоматизации и интернет-магазинам с использованием 1С. Это может помочь клиенту продемонстрировать практические навыки, что важно на собеседовании.\\n\\n4. **Фасилитация для HR: сборник бизнес-задач**. Хотя книга ориентирована на HR, она может быть полезна, если клиент интересуется мягкими навыками, командной работой и фасилитацией. Эти навыки ценятся в IT, особенно в ролях, связанных с управлением проектами или работой в команде.\\n\\n5. **Применение информационных технологий в бизнесе. Практикум (11062169)**. Похоже на предыдущую, но ориентирована на студентов и аспирантов. Также полезна для практики и понимания реального применения IT в бизнесе.\\n\\nТеперь, исходя из цели клиента — подготовки к собеседованию в IT, я бы рекомендовал книги, которые усилят его технические и практические навыки, а также помогут ему лучше понять, как IT применяется в бизнесе. Книги 2 и 3 кажутся наиболее подходящими, так как они охватывают IT-консалтинг и практическое применение технологий. Книга 4 может добавить мягкие навыки, что тоже важно.\\n\\nТакже стоит учесть, что клиент может быть студентом или начинающим, поэтому практические кейсы и примеры будут полезны для подготовки к вопросам собеседования. Возможно, стоит посоветовать ему дополнить чтение этими книгами практикой и, возможно, онлайн-курсами или тестами по IT, чтобы убедиться, что его навыки соответствуют требованиям.\\n\\nВ итоге, предложу ему книги 2 и 3 в качестве основного выбора, а книгу 4 как дополнительный материал для развития мягких навыков. Также добавлю шутки, чтобы ответ был более живым и приятным для чтения.\\n</think>\\n\\nЕсли вы ищете что почитать на тему успешной подготовки к собеседованиям в IT-сфере, то среди предложенных вариантов есть несколько книг, которые могут вам помочь,尽管 они не直接 посвящены собеседованиям. Вот мой анализ и рекомендации:\\n\\n---\\n\\n### **Рекомендация 1: \"IT-консалтинг\" (автор Баланов А. Н.)**\\nЭта книга — отличный выбор, если вы хотите понять, как IT-технологии применяются в бизнесе, и как решаются реальные задачи. В ней много практических примеров и кейсов, которые помогут вам:\\n- Понять, как работают IT-системы в компании.\\n- Узнать, как управлять проектами и проводить цифровую трансформацию.\\n- Развить навыки анализа и решения проблем, которые часто задают на собеседованиях.\\n\\n**Почему это полезно для собеседования в IT?**  \\nНа собеседовании вас могут спросить о вашем понимании IT-систем или о том, как бы вы подошли к решению определенной задачи. Эта книга даст вам реальные примеры и практические знания, которые можно будет использовать в ответах.\\n\\n**Шутка на тему:**  \\nIT-консалтинг — это как быть детективом, но вместо убийств ты расследуешь, почему компьютер не хочет работать.\\n\\n---\\n\\n### **Рекомендация 2: \"Применение информационных технологий в бизнесе. Практикум\" (автор Богатенков С. А.)**\\nЭта книга — практическое пособие, которое поможет вам понять, как IT-технологии применяются в реальном бизнесе. В ней описаны такие темы, как:\\n- Создание бизнес-планов с использованием 1С.\\n- Разработка автоматизированных систем обучения.\\n- Создание интернет-магазинов.\\n\\n**Почему это полезно для собеседования в IT?**  \\nЕсли вы собираетесь на собеседование в компанию, где используются продукты 1С или другие бизнес-системы, эта книга поможет вам подготовиться. Вы сможете рассказать о своем понимании автоматизации процессов и о том, как IT может оптимизировать бизнес.\\n\\n**Шутка на тему:**  \\n1С — это как волшебная палочка, которая делает бухгалтерию интересной. Ну, почти.\\n\\n---\\n\\n### **Рекомендация 3: \"Фасилитация для HR: сборник бизнес-задач\" (автор Куковякина Т.)**\\nХотя эта книга ориентирована на HR, она может быть полезна и для IT-специалистов. В ней вы узнаете, как:\\n- Создавать эффективные команды.\\n- Разрабатывать программы обучения и развития.\\n- Увеличивать вовлеченность сотрудников.\\n\\n**Почему это полезно для собеседования в IT?**  \\nНа собеседовании вас могут спросить о вашем опыте работы в команде или о том, как вы решаете конфликты. Эта книга даст вам практические советы по работе с людьми, что важно даже в технических профессиях.\\n\\n**Шутка на тему:**  \\nHR — это как психолог, но вместо дивана у них таблицы и графики.\\n\\n---\\n\\n### **Рекомендация 4: \"Система информационной подготовки кадров для работы в среде 1С\" (автор Богатенков С. А.)**\\nЭта книга подойдет, если вы хотите深же изучить 1С и понять, как готовить кадры для работы с этой системой. Она полезна для тех, кто планирует работать с 1С или в компаниях, где эта система используется.\\n\\n**Почему это полезно для собеседования в IT?**  \\nЕсли вы собираетесь на собеседование в компанию, где используется 1С, эта книга поможет вам подготовиться к вопросам о вашем понимании системы и вашей способности работать с ней.\\n\\n**Шутка на тему:**  \\n1С — это как игра в LEGO, но вместо кирпичиков у тебя таблицы и отчеты.\\n\\n---\\n\\n### **Рекомендация 5: \"Применение информационных технологий в бизнесе. Практикум\" (автор Богатенков С. А.)**\\nЭта книга похожа на предыдущую, но ориентирована на студентов и аспирантов. Она поможет вам понять, как IT-технологии применяются в бизнесе, и даст практические задания для тренировки.\\n\\n**Почему это полезно для собеседования в IT?**  \\nЕсли вы только начинаете свой путь в IT, эта книга поможет вам получить' additional_kwargs={} response_metadata={'token_usage': {'completion_tokens': 2000, 'prompt_tokens': 1878, 'total_tokens': 3878, 'completion_time': 6.545792983, 'prompt_time': 0.181082033, 'queue_time': 0.085502091, 'total_time': 6.726875016}, 'model_name': 'deepseek-r1-distill-llama-70b', 'system_fingerprint': 'fp_1bbe7845ec', 'service_tier': 'on_demand', 'finish_reason': 'length', 'logprobs': None} id='run--a03e611f-5942-44d5-ab86-257e511a4410-0' usage_metadata={'input_tokens': 1878, 'output_tokens': 2000, 'total_tokens': 3878}\n"
          ]
        },
        {
          "data": {
            "text/plain": [
              "AIMessage(content='<think>\\nХорошо, клиент ищет что почитать на тему успешной подготовки к собеседованиям в IT-сфере. У него есть пять книг на выбор, но они все больше ориентированы на информационные технологии, 1С, IT-консалтинг и HR. Мне нужно помочь ему выбрать из этих пяти, какие из них могут быть полезны для подготовки к собеседованию в IT.\\n\\nПервым делом, посмотрю на каждую книгу:\\n\\n1. **Система информационной подготовки кадров для работы в среде 1С**. Эта книга фокусируется на 1С и информационных технологиях. Если клиент собирается на собеседование в компанию, где используется 1С, эта книга может помочь ему подготовиться, изучив платформу и поняв, как она применяется в бизнесе. Также она может быть полезна для общего понимания информационных систем.\\n\\n2. **IT-консалтинг**. Эта книга охватывает IT-консалтинг, анализирует IT-системы, управление проектами и цифровую трансформацию. Для кандидата в IT, особенно если он стремится в консалтинг или проектное управление, эта книга даст практические знания и кейсы, которые можно упомянуть на собеседовании.\\n\\n3. **Применение информационных технологий в бизнесе. Практикум (11062170)**. Здесь описаны практические задания по бизнес-планированию, автоматизации и интернет-магазинам с использованием 1С. Это может помочь клиенту продемонстрировать практические навыки, что важно на собеседовании.\\n\\n4. **Фасилитация для HR: сборник бизнес-задач**. Хотя книга ориентирована на HR, она может быть полезна, если клиент интересуется мягкими навыками, командной работой и фасилитацией. Эти навыки ценятся в IT, особенно в ролях, связанных с управлением проектами или работой в команде.\\n\\n5. **Применение информационных технологий в бизнесе. Практикум (11062169)**. Похоже на предыдущую, но ориентирована на студентов и аспирантов. Также полезна для практики и понимания реального применения IT в бизнесе.\\n\\nТеперь, исходя из цели клиента — подготовки к собеседованию в IT, я бы рекомендовал книги, которые усилят его технические и практические навыки, а также помогут ему лучше понять, как IT применяется в бизнесе. Книги 2 и 3 кажутся наиболее подходящими, так как они охватывают IT-консалтинг и практическое применение технологий. Книга 4 может добавить мягкие навыки, что тоже важно.\\n\\nТакже стоит учесть, что клиент может быть студентом или начинающим, поэтому практические кейсы и примеры будут полезны для подготовки к вопросам собеседования. Возможно, стоит посоветовать ему дополнить чтение этими книгами практикой и, возможно, онлайн-курсами или тестами по IT, чтобы убедиться, что его навыки соответствуют требованиям.\\n\\nВ итоге, предложу ему книги 2 и 3 в качестве основного выбора, а книгу 4 как дополнительный материал для развития мягких навыков. Также добавлю шутки, чтобы ответ был более живым и приятным для чтения.\\n</think>\\n\\nЕсли вы ищете что почитать на тему успешной подготовки к собеседованиям в IT-сфере, то среди предложенных вариантов есть несколько книг, которые могут вам помочь,尽管 они не直接 посвящены собеседованиям. Вот мой анализ и рекомендации:\\n\\n---\\n\\n### **Рекомендация 1: \"IT-консалтинг\" (автор Баланов А. Н.)**\\nЭта книга — отличный выбор, если вы хотите понять, как IT-технологии применяются в бизнесе, и как решаются реальные задачи. В ней много практических примеров и кейсов, которые помогут вам:\\n- Понять, как работают IT-системы в компании.\\n- Узнать, как управлять проектами и проводить цифровую трансформацию.\\n- Развить навыки анализа и решения проблем, которые часто задают на собеседованиях.\\n\\n**Почему это полезно для собеседования в IT?**  \\nНа собеседовании вас могут спросить о вашем понимании IT-систем или о том, как бы вы подошли к решению определенной задачи. Эта книга даст вам реальные примеры и практические знания, которые можно будет использовать в ответах.\\n\\n**Шутка на тему:**  \\nIT-консалтинг — это как быть детективом, но вместо убийств ты расследуешь, почему компьютер не хочет работать.\\n\\n---\\n\\n### **Рекомендация 2: \"Применение информационных технологий в бизнесе. Практикум\" (автор Богатенков С. А.)**\\nЭта книга — практическое пособие, которое поможет вам понять, как IT-технологии применяются в реальном бизнесе. В ней описаны такие темы, как:\\n- Создание бизнес-планов с использованием 1С.\\n- Разработка автоматизированных систем обучения.\\n- Создание интернет-магазинов.\\n\\n**Почему это полезно для собеседования в IT?**  \\nЕсли вы собираетесь на собеседование в компанию, где используются продукты 1С или другие бизнес-системы, эта книга поможет вам подготовиться. Вы сможете рассказать о своем понимании автоматизации процессов и о том, как IT может оптимизировать бизнес.\\n\\n**Шутка на тему:**  \\n1С — это как волшебная палочка, которая делает бухгалтерию интересной. Ну, почти.\\n\\n---\\n\\n### **Рекомендация 3: \"Фасилитация для HR: сборник бизнес-задач\" (автор Куковякина Т.)**\\nХотя эта книга ориентирована на HR, она может быть полезна и для IT-специалистов. В ней вы узнаете, как:\\n- Создавать эффективные команды.\\n- Разрабатывать программы обучения и развития.\\n- Увеличивать вовлеченность сотрудников.\\n\\n**Почему это полезно для собеседования в IT?**  \\nНа собеседовании вас могут спросить о вашем опыте работы в команде или о том, как вы решаете конфликты. Эта книга даст вам практические советы по работе с людьми, что важно даже в технических профессиях.\\n\\n**Шутка на тему:**  \\nHR — это как психолог, но вместо дивана у них таблицы и графики.\\n\\n---\\n\\n### **Рекомендация 4: \"Система информационной подготовки кадров для работы в среде 1С\" (автор Богатенков С. А.)**\\nЭта книга подойдет, если вы хотите深же изучить 1С и понять, как готовить кадры для работы с этой системой. Она полезна для тех, кто планирует работать с 1С или в компаниях, где эта система используется.\\n\\n**Почему это полезно для собеседования в IT?**  \\nЕсли вы собираетесь на собеседование в компанию, где используется 1С, эта книга поможет вам подготовиться к вопросам о вашем понимании системы и вашей способности работать с ней.\\n\\n**Шутка на тему:**  \\n1С — это как игра в LEGO, но вместо кирпичиков у тебя таблицы и отчеты.\\n\\n---\\n\\n### **Рекомендация 5: \"Применение информационных технологий в бизнесе. Практикум\" (автор Богатенков С. А.)**\\nЭта книга похожа на предыдущую, но ориентирована на студентов и аспирантов. Она поможет вам понять, как IT-технологии применяются в бизнесе, и даст практические задания для тренировки.\\n\\n**Почему это полезно для собеседования в IT?**  \\nЕсли вы только начинаете свой путь в IT, эта книга поможет вам получить', additional_kwargs={}, response_metadata={'token_usage': {'completion_tokens': 2000, 'prompt_tokens': 1878, 'total_tokens': 3878, 'completion_time': 6.545792983, 'prompt_time': 0.181082033, 'queue_time': 0.085502091, 'total_time': 6.726875016}, 'model_name': 'deepseek-r1-distill-llama-70b', 'system_fingerprint': 'fp_1bbe7845ec', 'service_tier': 'on_demand', 'finish_reason': 'length', 'logprobs': None}, id='run--a03e611f-5942-44d5-ab86-257e511a4410-0', usage_metadata={'input_tokens': 1878, 'output_tokens': 2000, 'total_tokens': 3878})"
            ]
          },
          "execution_count": 53,
          "metadata": {},
          "output_type": "execute_result"
        }
      ],
      "source": [
        "demonstrate_rag_step_by_step('Ищу что-почитать на тему успешной подготовки к собеседованиям в IT сфере.')"
      ]
    },
    {
      "cell_type": "markdown",
      "metadata": {},
      "source": [
        "#### YandexGBT"
      ]
    },
    {
      "cell_type": "code",
      "execution_count": null,
      "metadata": {},
      "outputs": [],
      "source": [
        "# from langchain_community.llms import YandexGPT\n",
        "\n",
        "# # Если у тебя есть API ключ или IAM токен\n",
        "# ya = YandexGPT(\n",
        "#     api_key=\"\",       # либо\n",
        "#     model_uri=\"yandexgpt-pro\"                                 # или другая модель, если указано\n",
        "# )\n",
        "\n",
        "# # Генерация текста\n",
        "# res = ya.generate([\"Привет! Расскажи, что нового в IT вакансиях на русском.\"])\n",
        "# print(res)"
      ]
    }
  ],
  "metadata": {
    "accelerator": "GPU",
    "colab": {
      "gpuType": "T4",
      "provenance": []
    },
    "kernelspec": {
      "display_name": "phase2",
      "language": "python",
      "name": "python3"
    },
    "language_info": {
      "codemirror_mode": {
        "name": "ipython",
        "version": 3
      },
      "file_extension": ".py",
      "mimetype": "text/x-python",
      "name": "python",
      "nbconvert_exporter": "python",
      "pygments_lexer": "ipython3",
      "version": "3.13.5"
    },
    "widgets": {
      "application/vnd.jupyter.widget-state+json": {
        "00a3110e63a141309e8f6b4dfefe8a0a": {
          "model_module": "@jupyter-widgets/base",
          "model_module_version": "1.2.0",
          "model_name": "LayoutModel",
          "state": {
            "_model_module": "@jupyter-widgets/base",
            "_model_module_version": "1.2.0",
            "_model_name": "LayoutModel",
            "_view_count": null,
            "_view_module": "@jupyter-widgets/base",
            "_view_module_version": "1.2.0",
            "_view_name": "LayoutView",
            "align_content": null,
            "align_items": null,
            "align_self": null,
            "border": null,
            "bottom": null,
            "display": null,
            "flex": null,
            "flex_flow": null,
            "grid_area": null,
            "grid_auto_columns": null,
            "grid_auto_flow": null,
            "grid_auto_rows": null,
            "grid_column": null,
            "grid_gap": null,
            "grid_row": null,
            "grid_template_areas": null,
            "grid_template_columns": null,
            "grid_template_rows": null,
            "height": null,
            "justify_content": null,
            "justify_items": null,
            "left": null,
            "margin": null,
            "max_height": null,
            "max_width": null,
            "min_height": null,
            "min_width": null,
            "object_fit": null,
            "object_position": null,
            "order": null,
            "overflow": null,
            "overflow_x": null,
            "overflow_y": null,
            "padding": null,
            "right": null,
            "top": null,
            "visibility": null,
            "width": null
          }
        },
        "00f51f234e0f42a09b9d75c19d265779": {
          "model_module": "@jupyter-widgets/base",
          "model_module_version": "1.2.0",
          "model_name": "LayoutModel",
          "state": {
            "_model_module": "@jupyter-widgets/base",
            "_model_module_version": "1.2.0",
            "_model_name": "LayoutModel",
            "_view_count": null,
            "_view_module": "@jupyter-widgets/base",
            "_view_module_version": "1.2.0",
            "_view_name": "LayoutView",
            "align_content": null,
            "align_items": null,
            "align_self": null,
            "border": null,
            "bottom": null,
            "display": null,
            "flex": null,
            "flex_flow": null,
            "grid_area": null,
            "grid_auto_columns": null,
            "grid_auto_flow": null,
            "grid_auto_rows": null,
            "grid_column": null,
            "grid_gap": null,
            "grid_row": null,
            "grid_template_areas": null,
            "grid_template_columns": null,
            "grid_template_rows": null,
            "height": null,
            "justify_content": null,
            "justify_items": null,
            "left": null,
            "margin": null,
            "max_height": null,
            "max_width": null,
            "min_height": null,
            "min_width": null,
            "object_fit": null,
            "object_position": null,
            "order": null,
            "overflow": null,
            "overflow_x": null,
            "overflow_y": null,
            "padding": null,
            "right": null,
            "top": null,
            "visibility": null,
            "width": null
          }
        },
        "01abfa31ff114218a3a5ecffa5760e58": {
          "model_module": "@jupyter-widgets/controls",
          "model_module_version": "1.5.0",
          "model_name": "HBoxModel",
          "state": {
            "_dom_classes": [],
            "_model_module": "@jupyter-widgets/controls",
            "_model_module_version": "1.5.0",
            "_model_name": "HBoxModel",
            "_view_count": null,
            "_view_module": "@jupyter-widgets/controls",
            "_view_module_version": "1.5.0",
            "_view_name": "HBoxView",
            "box_style": "",
            "children": [
              "IPY_MODEL_d64cede49e304306a9c4e0bfdc2fb432",
              "IPY_MODEL_0547d5cd813a4f3eb32f0709ad0bbcab",
              "IPY_MODEL_97cf23cf6f224541ba7fd6495726e507"
            ],
            "layout": "IPY_MODEL_69f09b54076848ebb1a3e1259256f475"
          }
        },
        "02713b94c8a04d5baefa82cf4f121708": {
          "model_module": "@jupyter-widgets/controls",
          "model_module_version": "1.5.0",
          "model_name": "FloatProgressModel",
          "state": {
            "_dom_classes": [],
            "_model_module": "@jupyter-widgets/controls",
            "_model_module_version": "1.5.0",
            "_model_name": "FloatProgressModel",
            "_view_count": null,
            "_view_module": "@jupyter-widgets/controls",
            "_view_module_version": "1.5.0",
            "_view_name": "ProgressView",
            "bar_style": "success",
            "description": "",
            "description_tooltip": null,
            "layout": "IPY_MODEL_6a7e9af8a77f4600a9aef478a3b3beb5",
            "max": 53,
            "min": 0,
            "orientation": "horizontal",
            "style": "IPY_MODEL_711bcef0f483495192cc5bc3e1ae2ac9",
            "value": 53
          }
        },
        "04913050ea0f448b869986354e8e2898": {
          "model_module": "@jupyter-widgets/controls",
          "model_module_version": "1.5.0",
          "model_name": "DescriptionStyleModel",
          "state": {
            "_model_module": "@jupyter-widgets/controls",
            "_model_module_version": "1.5.0",
            "_model_name": "DescriptionStyleModel",
            "_view_count": null,
            "_view_module": "@jupyter-widgets/base",
            "_view_module_version": "1.2.0",
            "_view_name": "StyleView",
            "description_width": ""
          }
        },
        "04b9e1dfebee46c88dd64e89b258849d": {
          "model_module": "@jupyter-widgets/controls",
          "model_module_version": "1.5.0",
          "model_name": "FloatProgressModel",
          "state": {
            "_dom_classes": [],
            "_model_module": "@jupyter-widgets/controls",
            "_model_module_version": "1.5.0",
            "_model_name": "FloatProgressModel",
            "_view_count": null,
            "_view_module": "@jupyter-widgets/controls",
            "_view_module_version": "1.5.0",
            "_view_name": "ProgressView",
            "bar_style": "success",
            "description": "",
            "description_tooltip": null,
            "layout": "IPY_MODEL_513044b9e00447b99afb466fa790c6f0",
            "max": 5069051,
            "min": 0,
            "orientation": "horizontal",
            "style": "IPY_MODEL_85a7a648df7c47f3a9b0a24aa1ff91ae",
            "value": 5069051
          }
        },
        "0547d5cd813a4f3eb32f0709ad0bbcab": {
          "model_module": "@jupyter-widgets/controls",
          "model_module_version": "1.5.0",
          "model_name": "FloatProgressModel",
          "state": {
            "_dom_classes": [],
            "_model_module": "@jupyter-widgets/controls",
            "_model_module_version": "1.5.0",
            "_model_name": "FloatProgressModel",
            "_view_count": null,
            "_view_module": "@jupyter-widgets/controls",
            "_view_module_version": "1.5.0",
            "_view_name": "ProgressView",
            "bar_style": "success",
            "description": "",
            "description_tooltip": null,
            "layout": "IPY_MODEL_2197e043488d47fa9e79df00d1ee1d7a",
            "max": 1112201288,
            "min": 0,
            "orientation": "horizontal",
            "style": "IPY_MODEL_6fec40ba1527417db96421644ac793fa",
            "value": 1112201288
          }
        },
        "09436b2460b74923896ec338ee62fca9": {
          "model_module": "@jupyter-widgets/base",
          "model_module_version": "1.2.0",
          "model_name": "LayoutModel",
          "state": {
            "_model_module": "@jupyter-widgets/base",
            "_model_module_version": "1.2.0",
            "_model_name": "LayoutModel",
            "_view_count": null,
            "_view_module": "@jupyter-widgets/base",
            "_view_module_version": "1.2.0",
            "_view_name": "LayoutView",
            "align_content": null,
            "align_items": null,
            "align_self": null,
            "border": null,
            "bottom": null,
            "display": null,
            "flex": null,
            "flex_flow": null,
            "grid_area": null,
            "grid_auto_columns": null,
            "grid_auto_flow": null,
            "grid_auto_rows": null,
            "grid_column": null,
            "grid_gap": null,
            "grid_row": null,
            "grid_template_areas": null,
            "grid_template_columns": null,
            "grid_template_rows": null,
            "height": null,
            "justify_content": null,
            "justify_items": null,
            "left": null,
            "margin": null,
            "max_height": null,
            "max_width": null,
            "min_height": null,
            "min_width": null,
            "object_fit": null,
            "object_position": null,
            "order": null,
            "overflow": null,
            "overflow_x": null,
            "overflow_y": null,
            "padding": null,
            "right": null,
            "top": null,
            "visibility": null,
            "width": null
          }
        },
        "09cff73a909d401d8801882d4bea9ce9": {
          "model_module": "@jupyter-widgets/base",
          "model_module_version": "1.2.0",
          "model_name": "LayoutModel",
          "state": {
            "_model_module": "@jupyter-widgets/base",
            "_model_module_version": "1.2.0",
            "_model_name": "LayoutModel",
            "_view_count": null,
            "_view_module": "@jupyter-widgets/base",
            "_view_module_version": "1.2.0",
            "_view_name": "LayoutView",
            "align_content": null,
            "align_items": null,
            "align_self": null,
            "border": null,
            "bottom": null,
            "display": null,
            "flex": null,
            "flex_flow": null,
            "grid_area": null,
            "grid_auto_columns": null,
            "grid_auto_flow": null,
            "grid_auto_rows": null,
            "grid_column": null,
            "grid_gap": null,
            "grid_row": null,
            "grid_template_areas": null,
            "grid_template_columns": null,
            "grid_template_rows": null,
            "height": null,
            "justify_content": null,
            "justify_items": null,
            "left": null,
            "margin": null,
            "max_height": null,
            "max_width": null,
            "min_height": null,
            "min_width": null,
            "object_fit": null,
            "object_position": null,
            "order": null,
            "overflow": null,
            "overflow_x": null,
            "overflow_y": null,
            "padding": null,
            "right": null,
            "top": null,
            "visibility": null,
            "width": null
          }
        },
        "0ae9203c1607489eb5f8344693228f0c": {
          "model_module": "@jupyter-widgets/controls",
          "model_module_version": "1.5.0",
          "model_name": "ProgressStyleModel",
          "state": {
            "_model_module": "@jupyter-widgets/controls",
            "_model_module_version": "1.5.0",
            "_model_name": "ProgressStyleModel",
            "_view_count": null,
            "_view_module": "@jupyter-widgets/base",
            "_view_module_version": "1.2.0",
            "_view_name": "StyleView",
            "bar_color": null,
            "description_width": ""
          }
        },
        "0bca308de0614163b003cd2dfdc02de8": {
          "model_module": "@jupyter-widgets/base",
          "model_module_version": "1.2.0",
          "model_name": "LayoutModel",
          "state": {
            "_model_module": "@jupyter-widgets/base",
            "_model_module_version": "1.2.0",
            "_model_name": "LayoutModel",
            "_view_count": null,
            "_view_module": "@jupyter-widgets/base",
            "_view_module_version": "1.2.0",
            "_view_name": "LayoutView",
            "align_content": null,
            "align_items": null,
            "align_self": null,
            "border": null,
            "bottom": null,
            "display": null,
            "flex": null,
            "flex_flow": null,
            "grid_area": null,
            "grid_auto_columns": null,
            "grid_auto_flow": null,
            "grid_auto_rows": null,
            "grid_column": null,
            "grid_gap": null,
            "grid_row": null,
            "grid_template_areas": null,
            "grid_template_columns": null,
            "grid_template_rows": null,
            "height": null,
            "justify_content": null,
            "justify_items": null,
            "left": null,
            "margin": null,
            "max_height": null,
            "max_width": null,
            "min_height": null,
            "min_width": null,
            "object_fit": null,
            "object_position": null,
            "order": null,
            "overflow": null,
            "overflow_x": null,
            "overflow_y": null,
            "padding": null,
            "right": null,
            "top": null,
            "visibility": null,
            "width": null
          }
        },
        "0e347cf09b1042f4b904bf5cf7158238": {
          "model_module": "@jupyter-widgets/base",
          "model_module_version": "1.2.0",
          "model_name": "LayoutModel",
          "state": {
            "_model_module": "@jupyter-widgets/base",
            "_model_module_version": "1.2.0",
            "_model_name": "LayoutModel",
            "_view_count": null,
            "_view_module": "@jupyter-widgets/base",
            "_view_module_version": "1.2.0",
            "_view_name": "LayoutView",
            "align_content": null,
            "align_items": null,
            "align_self": null,
            "border": null,
            "bottom": null,
            "display": null,
            "flex": null,
            "flex_flow": null,
            "grid_area": null,
            "grid_auto_columns": null,
            "grid_auto_flow": null,
            "grid_auto_rows": null,
            "grid_column": null,
            "grid_gap": null,
            "grid_row": null,
            "grid_template_areas": null,
            "grid_template_columns": null,
            "grid_template_rows": null,
            "height": null,
            "justify_content": null,
            "justify_items": null,
            "left": null,
            "margin": null,
            "max_height": null,
            "max_width": null,
            "min_height": null,
            "min_width": null,
            "object_fit": null,
            "object_position": null,
            "order": null,
            "overflow": null,
            "overflow_x": null,
            "overflow_y": null,
            "padding": null,
            "right": null,
            "top": null,
            "visibility": null,
            "width": null
          }
        },
        "0f91aed235f946f792ae78d9249af8cd": {
          "model_module": "@jupyter-widgets/controls",
          "model_module_version": "1.5.0",
          "model_name": "HBoxModel",
          "state": {
            "_dom_classes": [],
            "_model_module": "@jupyter-widgets/controls",
            "_model_module_version": "1.5.0",
            "_model_name": "HBoxModel",
            "_view_count": null,
            "_view_module": "@jupyter-widgets/controls",
            "_view_module_version": "1.5.0",
            "_view_name": "HBoxView",
            "box_style": "",
            "children": [
              "IPY_MODEL_a6c2ffd4d10444de849f4883d2a64c48",
              "IPY_MODEL_2948dd72054f41c3874ff7d46603a35e",
              "IPY_MODEL_41b92ead26e94da192b36b5202e32d0e"
            ],
            "layout": "IPY_MODEL_6d9ac71eff1f4bf1904bd0a8ef468f53"
          }
        },
        "0fe146d953064b04a3b8f7fea51df02a": {
          "model_module": "@jupyter-widgets/controls",
          "model_module_version": "1.5.0",
          "model_name": "HTMLModel",
          "state": {
            "_dom_classes": [],
            "_model_module": "@jupyter-widgets/controls",
            "_model_module_version": "1.5.0",
            "_model_name": "HTMLModel",
            "_view_count": null,
            "_view_module": "@jupyter-widgets/controls",
            "_view_module_version": "1.5.0",
            "_view_name": "HTMLView",
            "description": "",
            "description_tooltip": null,
            "layout": "IPY_MODEL_f560cb288edf4cff8beab5fda5d75ebd",
            "placeholder": "​",
            "style": "IPY_MODEL_f8e64cdd881f45bbb966f2e8a2535bcd",
            "value": " 5.07M/5.07M [00:00&lt;00:00, 9.32MB/s]"
          }
        },
        "14e19f212aae437da9823909f3dd7928": {
          "model_module": "@jupyter-widgets/base",
          "model_module_version": "1.2.0",
          "model_name": "LayoutModel",
          "state": {
            "_model_module": "@jupyter-widgets/base",
            "_model_module_version": "1.2.0",
            "_model_name": "LayoutModel",
            "_view_count": null,
            "_view_module": "@jupyter-widgets/base",
            "_view_module_version": "1.2.0",
            "_view_name": "LayoutView",
            "align_content": null,
            "align_items": null,
            "align_self": null,
            "border": null,
            "bottom": null,
            "display": null,
            "flex": null,
            "flex_flow": null,
            "grid_area": null,
            "grid_auto_columns": null,
            "grid_auto_flow": null,
            "grid_auto_rows": null,
            "grid_column": null,
            "grid_gap": null,
            "grid_row": null,
            "grid_template_areas": null,
            "grid_template_columns": null,
            "grid_template_rows": null,
            "height": null,
            "justify_content": null,
            "justify_items": null,
            "left": null,
            "margin": null,
            "max_height": null,
            "max_width": null,
            "min_height": null,
            "min_width": null,
            "object_fit": null,
            "object_position": null,
            "order": null,
            "overflow": null,
            "overflow_x": null,
            "overflow_y": null,
            "padding": null,
            "right": null,
            "top": null,
            "visibility": null,
            "width": null
          }
        },
        "15ce4137439f4a97a2963c0a20e15fec": {
          "model_module": "@jupyter-widgets/controls",
          "model_module_version": "1.5.0",
          "model_name": "DescriptionStyleModel",
          "state": {
            "_model_module": "@jupyter-widgets/controls",
            "_model_module_version": "1.5.0",
            "_model_name": "DescriptionStyleModel",
            "_view_count": null,
            "_view_module": "@jupyter-widgets/base",
            "_view_module_version": "1.2.0",
            "_view_name": "StyleView",
            "description_width": ""
          }
        },
        "16f3d890acda4b5eabe9339de04f6114": {
          "model_module": "@jupyter-widgets/base",
          "model_module_version": "1.2.0",
          "model_name": "LayoutModel",
          "state": {
            "_model_module": "@jupyter-widgets/base",
            "_model_module_version": "1.2.0",
            "_model_name": "LayoutModel",
            "_view_count": null,
            "_view_module": "@jupyter-widgets/base",
            "_view_module_version": "1.2.0",
            "_view_name": "LayoutView",
            "align_content": null,
            "align_items": null,
            "align_self": null,
            "border": null,
            "bottom": null,
            "display": null,
            "flex": null,
            "flex_flow": null,
            "grid_area": null,
            "grid_auto_columns": null,
            "grid_auto_flow": null,
            "grid_auto_rows": null,
            "grid_column": null,
            "grid_gap": null,
            "grid_row": null,
            "grid_template_areas": null,
            "grid_template_columns": null,
            "grid_template_rows": null,
            "height": null,
            "justify_content": null,
            "justify_items": null,
            "left": null,
            "margin": null,
            "max_height": null,
            "max_width": null,
            "min_height": null,
            "min_width": null,
            "object_fit": null,
            "object_position": null,
            "order": null,
            "overflow": null,
            "overflow_x": null,
            "overflow_y": null,
            "padding": null,
            "right": null,
            "top": null,
            "visibility": null,
            "width": null
          }
        },
        "1702f7f735284e6e9a4dca6272d1b31c": {
          "model_module": "@jupyter-widgets/base",
          "model_module_version": "1.2.0",
          "model_name": "LayoutModel",
          "state": {
            "_model_module": "@jupyter-widgets/base",
            "_model_module_version": "1.2.0",
            "_model_name": "LayoutModel",
            "_view_count": null,
            "_view_module": "@jupyter-widgets/base",
            "_view_module_version": "1.2.0",
            "_view_name": "LayoutView",
            "align_content": null,
            "align_items": null,
            "align_self": null,
            "border": null,
            "bottom": null,
            "display": null,
            "flex": null,
            "flex_flow": null,
            "grid_area": null,
            "grid_auto_columns": null,
            "grid_auto_flow": null,
            "grid_auto_rows": null,
            "grid_column": null,
            "grid_gap": null,
            "grid_row": null,
            "grid_template_areas": null,
            "grid_template_columns": null,
            "grid_template_rows": null,
            "height": null,
            "justify_content": null,
            "justify_items": null,
            "left": null,
            "margin": null,
            "max_height": null,
            "max_width": null,
            "min_height": null,
            "min_width": null,
            "object_fit": null,
            "object_position": null,
            "order": null,
            "overflow": null,
            "overflow_x": null,
            "overflow_y": null,
            "padding": null,
            "right": null,
            "top": null,
            "visibility": null,
            "width": "20px"
          }
        },
        "1f5e4015b6d7419a927d9ba4c120f3b5": {
          "model_module": "@jupyter-widgets/base",
          "model_module_version": "1.2.0",
          "model_name": "LayoutModel",
          "state": {
            "_model_module": "@jupyter-widgets/base",
            "_model_module_version": "1.2.0",
            "_model_name": "LayoutModel",
            "_view_count": null,
            "_view_module": "@jupyter-widgets/base",
            "_view_module_version": "1.2.0",
            "_view_name": "LayoutView",
            "align_content": null,
            "align_items": null,
            "align_self": null,
            "border": null,
            "bottom": null,
            "display": null,
            "flex": null,
            "flex_flow": null,
            "grid_area": null,
            "grid_auto_columns": null,
            "grid_auto_flow": null,
            "grid_auto_rows": null,
            "grid_column": null,
            "grid_gap": null,
            "grid_row": null,
            "grid_template_areas": null,
            "grid_template_columns": null,
            "grid_template_rows": null,
            "height": null,
            "justify_content": null,
            "justify_items": null,
            "left": null,
            "margin": null,
            "max_height": null,
            "max_width": null,
            "min_height": null,
            "min_width": null,
            "object_fit": null,
            "object_position": null,
            "order": null,
            "overflow": null,
            "overflow_x": null,
            "overflow_y": null,
            "padding": null,
            "right": null,
            "top": null,
            "visibility": null,
            "width": null
          }
        },
        "2197e043488d47fa9e79df00d1ee1d7a": {
          "model_module": "@jupyter-widgets/base",
          "model_module_version": "1.2.0",
          "model_name": "LayoutModel",
          "state": {
            "_model_module": "@jupyter-widgets/base",
            "_model_module_version": "1.2.0",
            "_model_name": "LayoutModel",
            "_view_count": null,
            "_view_module": "@jupyter-widgets/base",
            "_view_module_version": "1.2.0",
            "_view_name": "LayoutView",
            "align_content": null,
            "align_items": null,
            "align_self": null,
            "border": null,
            "bottom": null,
            "display": null,
            "flex": null,
            "flex_flow": null,
            "grid_area": null,
            "grid_auto_columns": null,
            "grid_auto_flow": null,
            "grid_auto_rows": null,
            "grid_column": null,
            "grid_gap": null,
            "grid_row": null,
            "grid_template_areas": null,
            "grid_template_columns": null,
            "grid_template_rows": null,
            "height": null,
            "justify_content": null,
            "justify_items": null,
            "left": null,
            "margin": null,
            "max_height": null,
            "max_width": null,
            "min_height": null,
            "min_width": null,
            "object_fit": null,
            "object_position": null,
            "order": null,
            "overflow": null,
            "overflow_x": null,
            "overflow_y": null,
            "padding": null,
            "right": null,
            "top": null,
            "visibility": null,
            "width": null
          }
        },
        "21a0e130c1574bfe946862250d3663b1": {
          "model_module": "@jupyter-widgets/controls",
          "model_module_version": "1.5.0",
          "model_name": "HTMLModel",
          "state": {
            "_dom_classes": [],
            "_model_module": "@jupyter-widgets/controls",
            "_model_module_version": "1.5.0",
            "_model_name": "HTMLModel",
            "_view_count": null,
            "_view_module": "@jupyter-widgets/controls",
            "_view_module_version": "1.5.0",
            "_view_name": "HTMLView",
            "description": "",
            "description_tooltip": null,
            "layout": "IPY_MODEL_983d9145607a4bc7b7fa5aa467acdb45",
            "placeholder": "​",
            "style": "IPY_MODEL_931cc68868a64132b1bb8fff70d321f7",
            "value": "config_sentence_transformers.json: 100%"
          }
        },
        "23c9d1f5c2894ed48a14f949b2bb9caa": {
          "model_module": "@jupyter-widgets/controls",
          "model_module_version": "1.5.0",
          "model_name": "DescriptionStyleModel",
          "state": {
            "_model_module": "@jupyter-widgets/controls",
            "_model_module_version": "1.5.0",
            "_model_name": "DescriptionStyleModel",
            "_view_count": null,
            "_view_module": "@jupyter-widgets/base",
            "_view_module_version": "1.2.0",
            "_view_name": "StyleView",
            "description_width": ""
          }
        },
        "2948dd72054f41c3874ff7d46603a35e": {
          "model_module": "@jupyter-widgets/controls",
          "model_module_version": "1.5.0",
          "model_name": "FloatProgressModel",
          "state": {
            "_dom_classes": [],
            "_model_module": "@jupyter-widgets/controls",
            "_model_module_version": "1.5.0",
            "_model_name": "FloatProgressModel",
            "_view_count": null,
            "_view_module": "@jupyter-widgets/controls",
            "_view_module_version": "1.5.0",
            "_view_name": "ProgressView",
            "bar_style": "success",
            "description": "",
            "description_tooltip": null,
            "layout": "IPY_MODEL_383499b529e54383af86b79774fdca20",
            "max": 402,
            "min": 0,
            "orientation": "horizontal",
            "style": "IPY_MODEL_c240780d150944e99fd3e274c6cb2f1c",
            "value": 402
          }
        },
        "29888d778bb1413eaaa74c0d1bd21b0c": {
          "model_module": "@jupyter-widgets/controls",
          "model_module_version": "1.5.0",
          "model_name": "HTMLModel",
          "state": {
            "_dom_classes": [],
            "_model_module": "@jupyter-widgets/controls",
            "_model_module_version": "1.5.0",
            "_model_name": "HTMLModel",
            "_view_count": null,
            "_view_module": "@jupyter-widgets/controls",
            "_view_module_version": "1.5.0",
            "_view_name": "HTMLView",
            "description": "",
            "description_tooltip": null,
            "layout": "IPY_MODEL_c0c37899bdb849fc8653b9080f56af1d",
            "placeholder": "​",
            "style": "IPY_MODEL_33590da334e54b3997287cfe8f965453",
            "value": "sentencepiece.bpe.model: 100%"
          }
        },
        "2e0eaa4d1df84dd5ab795e36a8ca6955": {
          "model_module": "@jupyter-widgets/controls",
          "model_module_version": "1.5.0",
          "model_name": "DescriptionStyleModel",
          "state": {
            "_model_module": "@jupyter-widgets/controls",
            "_model_module_version": "1.5.0",
            "_model_name": "DescriptionStyleModel",
            "_view_count": null,
            "_view_module": "@jupyter-widgets/base",
            "_view_module_version": "1.2.0",
            "_view_name": "StyleView",
            "description_width": ""
          }
        },
        "311b4631ba494ad6a8584aebb65a7e22": {
          "model_module": "@jupyter-widgets/controls",
          "model_module_version": "1.5.0",
          "model_name": "DescriptionStyleModel",
          "state": {
            "_model_module": "@jupyter-widgets/controls",
            "_model_module_version": "1.5.0",
            "_model_name": "DescriptionStyleModel",
            "_view_count": null,
            "_view_module": "@jupyter-widgets/base",
            "_view_module_version": "1.2.0",
            "_view_name": "StyleView",
            "description_width": ""
          }
        },
        "31a040f5dc5d4276944843da6de878a6": {
          "model_module": "@jupyter-widgets/controls",
          "model_module_version": "1.5.0",
          "model_name": "DescriptionStyleModel",
          "state": {
            "_model_module": "@jupyter-widgets/controls",
            "_model_module_version": "1.5.0",
            "_model_name": "DescriptionStyleModel",
            "_view_count": null,
            "_view_module": "@jupyter-widgets/base",
            "_view_module_version": "1.2.0",
            "_view_name": "StyleView",
            "description_width": ""
          }
        },
        "323abcfbe3bf49d084f3ab14497451ac": {
          "model_module": "@jupyter-widgets/controls",
          "model_module_version": "1.5.0",
          "model_name": "HTMLModel",
          "state": {
            "_dom_classes": [],
            "_model_module": "@jupyter-widgets/controls",
            "_model_module_version": "1.5.0",
            "_model_name": "HTMLModel",
            "_view_count": null,
            "_view_module": "@jupyter-widgets/controls",
            "_view_module_version": "1.5.0",
            "_view_name": "HTMLView",
            "description": "",
            "description_tooltip": null,
            "layout": "IPY_MODEL_b5ac1a3bf9f145c0a19d8dee04cf7194",
            "placeholder": "​",
            "style": "IPY_MODEL_9d209ab6860b4df6b74b223b617ef367",
            "value": " 53.0/53.0 [00:00&lt;00:00, 6.54kB/s]"
          }
        },
        "33590da334e54b3997287cfe8f965453": {
          "model_module": "@jupyter-widgets/controls",
          "model_module_version": "1.5.0",
          "model_name": "DescriptionStyleModel",
          "state": {
            "_model_module": "@jupyter-widgets/controls",
            "_model_module_version": "1.5.0",
            "_model_name": "DescriptionStyleModel",
            "_view_count": null,
            "_view_module": "@jupyter-widgets/base",
            "_view_module_version": "1.2.0",
            "_view_name": "StyleView",
            "description_width": ""
          }
        },
        "35f3fd9aad7146a79abc0ac976ccd340": {
          "model_module": "@jupyter-widgets/base",
          "model_module_version": "1.2.0",
          "model_name": "LayoutModel",
          "state": {
            "_model_module": "@jupyter-widgets/base",
            "_model_module_version": "1.2.0",
            "_model_name": "LayoutModel",
            "_view_count": null,
            "_view_module": "@jupyter-widgets/base",
            "_view_module_version": "1.2.0",
            "_view_name": "LayoutView",
            "align_content": null,
            "align_items": null,
            "align_self": null,
            "border": null,
            "bottom": null,
            "display": null,
            "flex": null,
            "flex_flow": null,
            "grid_area": null,
            "grid_auto_columns": null,
            "grid_auto_flow": null,
            "grid_auto_rows": null,
            "grid_column": null,
            "grid_gap": null,
            "grid_row": null,
            "grid_template_areas": null,
            "grid_template_columns": null,
            "grid_template_rows": null,
            "height": null,
            "justify_content": null,
            "justify_items": null,
            "left": null,
            "margin": null,
            "max_height": null,
            "max_width": null,
            "min_height": null,
            "min_width": null,
            "object_fit": null,
            "object_position": null,
            "order": null,
            "overflow": null,
            "overflow_x": null,
            "overflow_y": null,
            "padding": null,
            "right": null,
            "top": null,
            "visibility": null,
            "width": null
          }
        },
        "3772375fed94449ba3e8842ed0b17b3b": {
          "model_module": "@jupyter-widgets/base",
          "model_module_version": "1.2.0",
          "model_name": "LayoutModel",
          "state": {
            "_model_module": "@jupyter-widgets/base",
            "_model_module_version": "1.2.0",
            "_model_name": "LayoutModel",
            "_view_count": null,
            "_view_module": "@jupyter-widgets/base",
            "_view_module_version": "1.2.0",
            "_view_name": "LayoutView",
            "align_content": null,
            "align_items": null,
            "align_self": null,
            "border": null,
            "bottom": null,
            "display": null,
            "flex": null,
            "flex_flow": null,
            "grid_area": null,
            "grid_auto_columns": null,
            "grid_auto_flow": null,
            "grid_auto_rows": null,
            "grid_column": null,
            "grid_gap": null,
            "grid_row": null,
            "grid_template_areas": null,
            "grid_template_columns": null,
            "grid_template_rows": null,
            "height": null,
            "justify_content": null,
            "justify_items": null,
            "left": null,
            "margin": null,
            "max_height": null,
            "max_width": null,
            "min_height": null,
            "min_width": null,
            "object_fit": null,
            "object_position": null,
            "order": null,
            "overflow": null,
            "overflow_x": null,
            "overflow_y": null,
            "padding": null,
            "right": null,
            "top": null,
            "visibility": null,
            "width": null
          }
        },
        "383499b529e54383af86b79774fdca20": {
          "model_module": "@jupyter-widgets/base",
          "model_module_version": "1.2.0",
          "model_name": "LayoutModel",
          "state": {
            "_model_module": "@jupyter-widgets/base",
            "_model_module_version": "1.2.0",
            "_model_name": "LayoutModel",
            "_view_count": null,
            "_view_module": "@jupyter-widgets/base",
            "_view_module_version": "1.2.0",
            "_view_name": "LayoutView",
            "align_content": null,
            "align_items": null,
            "align_self": null,
            "border": null,
            "bottom": null,
            "display": null,
            "flex": null,
            "flex_flow": null,
            "grid_area": null,
            "grid_auto_columns": null,
            "grid_auto_flow": null,
            "grid_auto_rows": null,
            "grid_column": null,
            "grid_gap": null,
            "grid_row": null,
            "grid_template_areas": null,
            "grid_template_columns": null,
            "grid_template_rows": null,
            "height": null,
            "justify_content": null,
            "justify_items": null,
            "left": null,
            "margin": null,
            "max_height": null,
            "max_width": null,
            "min_height": null,
            "min_width": null,
            "object_fit": null,
            "object_position": null,
            "order": null,
            "overflow": null,
            "overflow_x": null,
            "overflow_y": null,
            "padding": null,
            "right": null,
            "top": null,
            "visibility": null,
            "width": null
          }
        },
        "41b92ead26e94da192b36b5202e32d0e": {
          "model_module": "@jupyter-widgets/controls",
          "model_module_version": "1.5.0",
          "model_name": "HTMLModel",
          "state": {
            "_dom_classes": [],
            "_model_module": "@jupyter-widgets/controls",
            "_model_module_version": "1.5.0",
            "_model_name": "HTMLModel",
            "_view_count": null,
            "_view_module": "@jupyter-widgets/controls",
            "_view_module_version": "1.5.0",
            "_view_name": "HTMLView",
            "description": "",
            "description_tooltip": null,
            "layout": "IPY_MODEL_f359cd068e9a43b5b13832096926533b",
            "placeholder": "​",
            "style": "IPY_MODEL_522a2786531248e88eb4165e008be109",
            "value": " 402/402 [00:00&lt;00:00, 27.1kB/s]"
          }
        },
        "4b35a3bd78b348878251ffb40a71a0ec": {
          "model_module": "@jupyter-widgets/base",
          "model_module_version": "1.2.0",
          "model_name": "LayoutModel",
          "state": {
            "_model_module": "@jupyter-widgets/base",
            "_model_module_version": "1.2.0",
            "_model_name": "LayoutModel",
            "_view_count": null,
            "_view_module": "@jupyter-widgets/base",
            "_view_module_version": "1.2.0",
            "_view_name": "LayoutView",
            "align_content": null,
            "align_items": null,
            "align_self": null,
            "border": null,
            "bottom": null,
            "display": null,
            "flex": null,
            "flex_flow": null,
            "grid_area": null,
            "grid_auto_columns": null,
            "grid_auto_flow": null,
            "grid_auto_rows": null,
            "grid_column": null,
            "grid_gap": null,
            "grid_row": null,
            "grid_template_areas": null,
            "grid_template_columns": null,
            "grid_template_rows": null,
            "height": null,
            "justify_content": null,
            "justify_items": null,
            "left": null,
            "margin": null,
            "max_height": null,
            "max_width": null,
            "min_height": null,
            "min_width": null,
            "object_fit": null,
            "object_position": null,
            "order": null,
            "overflow": null,
            "overflow_x": null,
            "overflow_y": null,
            "padding": null,
            "right": null,
            "top": null,
            "visibility": null,
            "width": "20px"
          }
        },
        "4bcfc84ca1194b7a9dd7e05e32fe877a": {
          "model_module": "@jupyter-widgets/controls",
          "model_module_version": "1.5.0",
          "model_name": "DescriptionStyleModel",
          "state": {
            "_model_module": "@jupyter-widgets/controls",
            "_model_module_version": "1.5.0",
            "_model_name": "DescriptionStyleModel",
            "_view_count": null,
            "_view_module": "@jupyter-widgets/base",
            "_view_module_version": "1.2.0",
            "_view_name": "StyleView",
            "description_width": ""
          }
        },
        "4d1ae08dc56e4978813b2f9f63cc38a6": {
          "model_module": "@jupyter-widgets/base",
          "model_module_version": "1.2.0",
          "model_name": "LayoutModel",
          "state": {
            "_model_module": "@jupyter-widgets/base",
            "_model_module_version": "1.2.0",
            "_model_name": "LayoutModel",
            "_view_count": null,
            "_view_module": "@jupyter-widgets/base",
            "_view_module_version": "1.2.0",
            "_view_name": "LayoutView",
            "align_content": null,
            "align_items": null,
            "align_self": null,
            "border": null,
            "bottom": null,
            "display": null,
            "flex": null,
            "flex_flow": null,
            "grid_area": null,
            "grid_auto_columns": null,
            "grid_auto_flow": null,
            "grid_auto_rows": null,
            "grid_column": null,
            "grid_gap": null,
            "grid_row": null,
            "grid_template_areas": null,
            "grid_template_columns": null,
            "grid_template_rows": null,
            "height": null,
            "justify_content": null,
            "justify_items": null,
            "left": null,
            "margin": null,
            "max_height": null,
            "max_width": null,
            "min_height": null,
            "min_width": null,
            "object_fit": null,
            "object_position": null,
            "order": null,
            "overflow": null,
            "overflow_x": null,
            "overflow_y": null,
            "padding": null,
            "right": null,
            "top": null,
            "visibility": null,
            "width": null
          }
        },
        "513044b9e00447b99afb466fa790c6f0": {
          "model_module": "@jupyter-widgets/base",
          "model_module_version": "1.2.0",
          "model_name": "LayoutModel",
          "state": {
            "_model_module": "@jupyter-widgets/base",
            "_model_module_version": "1.2.0",
            "_model_name": "LayoutModel",
            "_view_count": null,
            "_view_module": "@jupyter-widgets/base",
            "_view_module_version": "1.2.0",
            "_view_name": "LayoutView",
            "align_content": null,
            "align_items": null,
            "align_self": null,
            "border": null,
            "bottom": null,
            "display": null,
            "flex": null,
            "flex_flow": null,
            "grid_area": null,
            "grid_auto_columns": null,
            "grid_auto_flow": null,
            "grid_auto_rows": null,
            "grid_column": null,
            "grid_gap": null,
            "grid_row": null,
            "grid_template_areas": null,
            "grid_template_columns": null,
            "grid_template_rows": null,
            "height": null,
            "justify_content": null,
            "justify_items": null,
            "left": null,
            "margin": null,
            "max_height": null,
            "max_width": null,
            "min_height": null,
            "min_width": null,
            "object_fit": null,
            "object_position": null,
            "order": null,
            "overflow": null,
            "overflow_x": null,
            "overflow_y": null,
            "padding": null,
            "right": null,
            "top": null,
            "visibility": null,
            "width": null
          }
        },
        "522a2786531248e88eb4165e008be109": {
          "model_module": "@jupyter-widgets/controls",
          "model_module_version": "1.5.0",
          "model_name": "DescriptionStyleModel",
          "state": {
            "_model_module": "@jupyter-widgets/controls",
            "_model_module_version": "1.5.0",
            "_model_name": "DescriptionStyleModel",
            "_view_count": null,
            "_view_module": "@jupyter-widgets/base",
            "_view_module_version": "1.2.0",
            "_view_name": "StyleView",
            "description_width": ""
          }
        },
        "55315f8274bb46239f5d582df7775267": {
          "model_module": "@jupyter-widgets/controls",
          "model_module_version": "1.5.0",
          "model_name": "HBoxModel",
          "state": {
            "_dom_classes": [],
            "_model_module": "@jupyter-widgets/controls",
            "_model_module_version": "1.5.0",
            "_model_name": "HBoxModel",
            "_view_count": null,
            "_view_module": "@jupyter-widgets/controls",
            "_view_module_version": "1.5.0",
            "_view_name": "HBoxView",
            "box_style": "",
            "children": [
              "IPY_MODEL_f5546c41d06f4dfb8828aea0ce575985",
              "IPY_MODEL_72a65555bb004e38841df9ed1622dce4",
              "IPY_MODEL_d15bae086fc34177a9c73979e239eec0"
            ],
            "layout": "IPY_MODEL_65e5aabea1fe400f866efa538add08f9"
          }
        },
        "5778e17e6fce44b6adaa8ee9ce579523": {
          "model_module": "@jupyter-widgets/base",
          "model_module_version": "1.2.0",
          "model_name": "LayoutModel",
          "state": {
            "_model_module": "@jupyter-widgets/base",
            "_model_module_version": "1.2.0",
            "_model_name": "LayoutModel",
            "_view_count": null,
            "_view_module": "@jupyter-widgets/base",
            "_view_module_version": "1.2.0",
            "_view_name": "LayoutView",
            "align_content": null,
            "align_items": null,
            "align_self": null,
            "border": null,
            "bottom": null,
            "display": null,
            "flex": null,
            "flex_flow": null,
            "grid_area": null,
            "grid_auto_columns": null,
            "grid_auto_flow": null,
            "grid_auto_rows": null,
            "grid_column": null,
            "grid_gap": null,
            "grid_row": null,
            "grid_template_areas": null,
            "grid_template_columns": null,
            "grid_template_rows": null,
            "height": null,
            "justify_content": null,
            "justify_items": null,
            "left": null,
            "margin": null,
            "max_height": null,
            "max_width": null,
            "min_height": null,
            "min_width": null,
            "object_fit": null,
            "object_position": null,
            "order": null,
            "overflow": null,
            "overflow_x": null,
            "overflow_y": null,
            "padding": null,
            "right": null,
            "top": null,
            "visibility": null,
            "width": null
          }
        },
        "5936adc33d6a4db4908b6c6938a0d4a6": {
          "model_module": "@jupyter-widgets/controls",
          "model_module_version": "1.5.0",
          "model_name": "HBoxModel",
          "state": {
            "_dom_classes": [],
            "_model_module": "@jupyter-widgets/controls",
            "_model_module_version": "1.5.0",
            "_model_name": "HBoxModel",
            "_view_count": null,
            "_view_module": "@jupyter-widgets/controls",
            "_view_module_version": "1.5.0",
            "_view_name": "HBoxView",
            "box_style": "",
            "children": [
              "IPY_MODEL_21a0e130c1574bfe946862250d3663b1",
              "IPY_MODEL_9f51dbb13fe5413a92d4bf034ed6ba5c",
              "IPY_MODEL_873df3b9f2614ff3ac3144523c67b2c0"
            ],
            "layout": "IPY_MODEL_14e19f212aae437da9823909f3dd7928"
          }
        },
        "5a9b32c838ee4e95ac6a5a387f321939": {
          "model_module": "@jupyter-widgets/base",
          "model_module_version": "1.2.0",
          "model_name": "LayoutModel",
          "state": {
            "_model_module": "@jupyter-widgets/base",
            "_model_module_version": "1.2.0",
            "_model_name": "LayoutModel",
            "_view_count": null,
            "_view_module": "@jupyter-widgets/base",
            "_view_module_version": "1.2.0",
            "_view_name": "LayoutView",
            "align_content": null,
            "align_items": null,
            "align_self": null,
            "border": null,
            "bottom": null,
            "display": null,
            "flex": null,
            "flex_flow": null,
            "grid_area": null,
            "grid_auto_columns": null,
            "grid_auto_flow": null,
            "grid_auto_rows": null,
            "grid_column": null,
            "grid_gap": null,
            "grid_row": null,
            "grid_template_areas": null,
            "grid_template_columns": null,
            "grid_template_rows": null,
            "height": null,
            "justify_content": null,
            "justify_items": null,
            "left": null,
            "margin": null,
            "max_height": null,
            "max_width": null,
            "min_height": null,
            "min_width": null,
            "object_fit": null,
            "object_position": null,
            "order": null,
            "overflow": null,
            "overflow_x": null,
            "overflow_y": null,
            "padding": null,
            "right": null,
            "top": null,
            "visibility": null,
            "width": null
          }
        },
        "5b46a63a63314eddb8c0894276826c94": {
          "model_module": "@jupyter-widgets/controls",
          "model_module_version": "1.5.0",
          "model_name": "DescriptionStyleModel",
          "state": {
            "_model_module": "@jupyter-widgets/controls",
            "_model_module_version": "1.5.0",
            "_model_name": "DescriptionStyleModel",
            "_view_count": null,
            "_view_module": "@jupyter-widgets/base",
            "_view_module_version": "1.2.0",
            "_view_name": "StyleView",
            "description_width": ""
          }
        },
        "5be72b6e311b4505a5e707d82daf631c": {
          "model_module": "@jupyter-widgets/controls",
          "model_module_version": "1.5.0",
          "model_name": "HBoxModel",
          "state": {
            "_dom_classes": [],
            "_model_module": "@jupyter-widgets/controls",
            "_model_module_version": "1.5.0",
            "_model_name": "HBoxModel",
            "_view_count": null,
            "_view_module": "@jupyter-widgets/controls",
            "_view_module_version": "1.5.0",
            "_view_name": "HBoxView",
            "box_style": "",
            "children": [
              "IPY_MODEL_29888d778bb1413eaaa74c0d1bd21b0c",
              "IPY_MODEL_04b9e1dfebee46c88dd64e89b258849d",
              "IPY_MODEL_0fe146d953064b04a3b8f7fea51df02a"
            ],
            "layout": "IPY_MODEL_b1df5d8b576d4dc889468a8bd85c600c"
          }
        },
        "5dd637b0e24f47b28c6780543b2ce40e": {
          "model_module": "@jupyter-widgets/controls",
          "model_module_version": "1.5.0",
          "model_name": "HTMLModel",
          "state": {
            "_dom_classes": [],
            "_model_module": "@jupyter-widgets/controls",
            "_model_module_version": "1.5.0",
            "_model_name": "HTMLModel",
            "_view_count": null,
            "_view_module": "@jupyter-widgets/controls",
            "_view_module_version": "1.5.0",
            "_view_name": "HTMLView",
            "description": "",
            "description_tooltip": null,
            "layout": "IPY_MODEL_3772375fed94449ba3e8842ed0b17b3b",
            "placeholder": "​",
            "style": "IPY_MODEL_2e0eaa4d1df84dd5ab795e36a8ca6955",
            "value": "config.json: 100%"
          }
        },
        "5fbe3ee2e1a349569bfd1e112181eaed": {
          "model_module": "@jupyter-widgets/base",
          "model_module_version": "1.2.0",
          "model_name": "LayoutModel",
          "state": {
            "_model_module": "@jupyter-widgets/base",
            "_model_module_version": "1.2.0",
            "_model_name": "LayoutModel",
            "_view_count": null,
            "_view_module": "@jupyter-widgets/base",
            "_view_module_version": "1.2.0",
            "_view_name": "LayoutView",
            "align_content": null,
            "align_items": null,
            "align_self": null,
            "border": null,
            "bottom": null,
            "display": null,
            "flex": null,
            "flex_flow": null,
            "grid_area": null,
            "grid_auto_columns": null,
            "grid_auto_flow": null,
            "grid_auto_rows": null,
            "grid_column": null,
            "grid_gap": null,
            "grid_row": null,
            "grid_template_areas": null,
            "grid_template_columns": null,
            "grid_template_rows": null,
            "height": null,
            "justify_content": null,
            "justify_items": null,
            "left": null,
            "margin": null,
            "max_height": null,
            "max_width": null,
            "min_height": null,
            "min_width": null,
            "object_fit": null,
            "object_position": null,
            "order": null,
            "overflow": null,
            "overflow_x": null,
            "overflow_y": null,
            "padding": null,
            "right": null,
            "top": null,
            "visibility": null,
            "width": null
          }
        },
        "5ffd1efde3814397b820afac297edfd4": {
          "model_module": "@jupyter-widgets/controls",
          "model_module_version": "1.5.0",
          "model_name": "DescriptionStyleModel",
          "state": {
            "_model_module": "@jupyter-widgets/controls",
            "_model_module_version": "1.5.0",
            "_model_name": "DescriptionStyleModel",
            "_view_count": null,
            "_view_module": "@jupyter-widgets/base",
            "_view_module_version": "1.2.0",
            "_view_name": "StyleView",
            "description_width": ""
          }
        },
        "62b2a8a03bef469e8f2f2e2aad18b64a": {
          "model_module": "@jupyter-widgets/controls",
          "model_module_version": "1.5.0",
          "model_name": "HBoxModel",
          "state": {
            "_dom_classes": [],
            "_model_module": "@jupyter-widgets/controls",
            "_model_module_version": "1.5.0",
            "_model_name": "HBoxModel",
            "_view_count": null,
            "_view_module": "@jupyter-widgets/controls",
            "_view_module_version": "1.5.0",
            "_view_name": "HBoxView",
            "box_style": "",
            "children": [
              "IPY_MODEL_5dd637b0e24f47b28c6780543b2ce40e",
              "IPY_MODEL_6eb54ea93ac14120a109dd376c75115b",
              "IPY_MODEL_c97895eb33124c46947fe6c1988e0e45"
            ],
            "layout": "IPY_MODEL_9b7384e0f5504a548761f99ecd0c2933"
          }
        },
        "65e5aabea1fe400f866efa538add08f9": {
          "model_module": "@jupyter-widgets/base",
          "model_module_version": "1.2.0",
          "model_name": "LayoutModel",
          "state": {
            "_model_module": "@jupyter-widgets/base",
            "_model_module_version": "1.2.0",
            "_model_name": "LayoutModel",
            "_view_count": null,
            "_view_module": "@jupyter-widgets/base",
            "_view_module_version": "1.2.0",
            "_view_name": "LayoutView",
            "align_content": null,
            "align_items": null,
            "align_self": null,
            "border": null,
            "bottom": null,
            "display": null,
            "flex": null,
            "flex_flow": null,
            "grid_area": null,
            "grid_auto_columns": null,
            "grid_auto_flow": null,
            "grid_auto_rows": null,
            "grid_column": null,
            "grid_gap": null,
            "grid_row": null,
            "grid_template_areas": null,
            "grid_template_columns": null,
            "grid_template_rows": null,
            "height": null,
            "justify_content": null,
            "justify_items": null,
            "left": null,
            "margin": null,
            "max_height": null,
            "max_width": null,
            "min_height": null,
            "min_width": null,
            "object_fit": null,
            "object_position": null,
            "order": null,
            "overflow": null,
            "overflow_x": null,
            "overflow_y": null,
            "padding": null,
            "right": null,
            "top": null,
            "visibility": null,
            "width": null
          }
        },
        "6796444de9204aa6809f3a13a7aa8508": {
          "model_module": "@jupyter-widgets/controls",
          "model_module_version": "1.5.0",
          "model_name": "HTMLModel",
          "state": {
            "_dom_classes": [],
            "_model_module": "@jupyter-widgets/controls",
            "_model_module_version": "1.5.0",
            "_model_name": "HTMLModel",
            "_view_count": null,
            "_view_module": "@jupyter-widgets/controls",
            "_view_module_version": "1.5.0",
            "_view_name": "HTMLView",
            "description": "",
            "description_tooltip": null,
            "layout": "IPY_MODEL_d3e0bb4fd617442a863143a82b66c803",
            "placeholder": "​",
            "style": "IPY_MODEL_7a657a0dce3840e794b5aae82ed829eb",
            "value": " 9.08M/? [00:00&lt;00:00, 108MB/s]"
          }
        },
        "6895c77affc34eb9a693b5713ac7f6d8": {
          "model_module": "@jupyter-widgets/base",
          "model_module_version": "1.2.0",
          "model_name": "LayoutModel",
          "state": {
            "_model_module": "@jupyter-widgets/base",
            "_model_module_version": "1.2.0",
            "_model_name": "LayoutModel",
            "_view_count": null,
            "_view_module": "@jupyter-widgets/base",
            "_view_module_version": "1.2.0",
            "_view_name": "LayoutView",
            "align_content": null,
            "align_items": null,
            "align_self": null,
            "border": null,
            "bottom": null,
            "display": null,
            "flex": null,
            "flex_flow": null,
            "grid_area": null,
            "grid_auto_columns": null,
            "grid_auto_flow": null,
            "grid_auto_rows": null,
            "grid_column": null,
            "grid_gap": null,
            "grid_row": null,
            "grid_template_areas": null,
            "grid_template_columns": null,
            "grid_template_rows": null,
            "height": null,
            "justify_content": null,
            "justify_items": null,
            "left": null,
            "margin": null,
            "max_height": null,
            "max_width": null,
            "min_height": null,
            "min_width": null,
            "object_fit": null,
            "object_position": null,
            "order": null,
            "overflow": null,
            "overflow_x": null,
            "overflow_y": null,
            "padding": null,
            "right": null,
            "top": null,
            "visibility": null,
            "width": null
          }
        },
        "69f09b54076848ebb1a3e1259256f475": {
          "model_module": "@jupyter-widgets/base",
          "model_module_version": "1.2.0",
          "model_name": "LayoutModel",
          "state": {
            "_model_module": "@jupyter-widgets/base",
            "_model_module_version": "1.2.0",
            "_model_name": "LayoutModel",
            "_view_count": null,
            "_view_module": "@jupyter-widgets/base",
            "_view_module_version": "1.2.0",
            "_view_name": "LayoutView",
            "align_content": null,
            "align_items": null,
            "align_self": null,
            "border": null,
            "bottom": null,
            "display": null,
            "flex": null,
            "flex_flow": null,
            "grid_area": null,
            "grid_auto_columns": null,
            "grid_auto_flow": null,
            "grid_auto_rows": null,
            "grid_column": null,
            "grid_gap": null,
            "grid_row": null,
            "grid_template_areas": null,
            "grid_template_columns": null,
            "grid_template_rows": null,
            "height": null,
            "justify_content": null,
            "justify_items": null,
            "left": null,
            "margin": null,
            "max_height": null,
            "max_width": null,
            "min_height": null,
            "min_width": null,
            "object_fit": null,
            "object_position": null,
            "order": null,
            "overflow": null,
            "overflow_x": null,
            "overflow_y": null,
            "padding": null,
            "right": null,
            "top": null,
            "visibility": null,
            "width": null
          }
        },
        "6a7e9af8a77f4600a9aef478a3b3beb5": {
          "model_module": "@jupyter-widgets/base",
          "model_module_version": "1.2.0",
          "model_name": "LayoutModel",
          "state": {
            "_model_module": "@jupyter-widgets/base",
            "_model_module_version": "1.2.0",
            "_model_name": "LayoutModel",
            "_view_count": null,
            "_view_module": "@jupyter-widgets/base",
            "_view_module_version": "1.2.0",
            "_view_name": "LayoutView",
            "align_content": null,
            "align_items": null,
            "align_self": null,
            "border": null,
            "bottom": null,
            "display": null,
            "flex": null,
            "flex_flow": null,
            "grid_area": null,
            "grid_auto_columns": null,
            "grid_auto_flow": null,
            "grid_auto_rows": null,
            "grid_column": null,
            "grid_gap": null,
            "grid_row": null,
            "grid_template_areas": null,
            "grid_template_columns": null,
            "grid_template_rows": null,
            "height": null,
            "justify_content": null,
            "justify_items": null,
            "left": null,
            "margin": null,
            "max_height": null,
            "max_width": null,
            "min_height": null,
            "min_width": null,
            "object_fit": null,
            "object_position": null,
            "order": null,
            "overflow": null,
            "overflow_x": null,
            "overflow_y": null,
            "padding": null,
            "right": null,
            "top": null,
            "visibility": null,
            "width": null
          }
        },
        "6be73389666b4149b6bb228ca3c0a622": {
          "model_module": "@jupyter-widgets/controls",
          "model_module_version": "1.5.0",
          "model_name": "HTMLModel",
          "state": {
            "_dom_classes": [],
            "_model_module": "@jupyter-widgets/controls",
            "_model_module_version": "1.5.0",
            "_model_name": "HTMLModel",
            "_view_count": null,
            "_view_module": "@jupyter-widgets/controls",
            "_view_module_version": "1.5.0",
            "_view_name": "HTMLView",
            "description": "",
            "description_tooltip": null,
            "layout": "IPY_MODEL_09cff73a909d401d8801882d4bea9ce9",
            "placeholder": "​",
            "style": "IPY_MODEL_c04cfb8c50684c04a04cb7a4e4854cf6",
            "value": "README.md: "
          }
        },
        "6d9ac71eff1f4bf1904bd0a8ef468f53": {
          "model_module": "@jupyter-widgets/base",
          "model_module_version": "1.2.0",
          "model_name": "LayoutModel",
          "state": {
            "_model_module": "@jupyter-widgets/base",
            "_model_module_version": "1.2.0",
            "_model_name": "LayoutModel",
            "_view_count": null,
            "_view_module": "@jupyter-widgets/base",
            "_view_module_version": "1.2.0",
            "_view_name": "LayoutView",
            "align_content": null,
            "align_items": null,
            "align_self": null,
            "border": null,
            "bottom": null,
            "display": null,
            "flex": null,
            "flex_flow": null,
            "grid_area": null,
            "grid_auto_columns": null,
            "grid_auto_flow": null,
            "grid_auto_rows": null,
            "grid_column": null,
            "grid_gap": null,
            "grid_row": null,
            "grid_template_areas": null,
            "grid_template_columns": null,
            "grid_template_rows": null,
            "height": null,
            "justify_content": null,
            "justify_items": null,
            "left": null,
            "margin": null,
            "max_height": null,
            "max_width": null,
            "min_height": null,
            "min_width": null,
            "object_fit": null,
            "object_position": null,
            "order": null,
            "overflow": null,
            "overflow_x": null,
            "overflow_y": null,
            "padding": null,
            "right": null,
            "top": null,
            "visibility": null,
            "width": null
          }
        },
        "6e405a7809a84d1b86ce1ef5a36c0401": {
          "model_module": "@jupyter-widgets/base",
          "model_module_version": "1.2.0",
          "model_name": "LayoutModel",
          "state": {
            "_model_module": "@jupyter-widgets/base",
            "_model_module_version": "1.2.0",
            "_model_name": "LayoutModel",
            "_view_count": null,
            "_view_module": "@jupyter-widgets/base",
            "_view_module_version": "1.2.0",
            "_view_name": "LayoutView",
            "align_content": null,
            "align_items": null,
            "align_self": null,
            "border": null,
            "bottom": null,
            "display": null,
            "flex": null,
            "flex_flow": null,
            "grid_area": null,
            "grid_auto_columns": null,
            "grid_auto_flow": null,
            "grid_auto_rows": null,
            "grid_column": null,
            "grid_gap": null,
            "grid_row": null,
            "grid_template_areas": null,
            "grid_template_columns": null,
            "grid_template_rows": null,
            "height": null,
            "justify_content": null,
            "justify_items": null,
            "left": null,
            "margin": null,
            "max_height": null,
            "max_width": null,
            "min_height": null,
            "min_width": null,
            "object_fit": null,
            "object_position": null,
            "order": null,
            "overflow": null,
            "overflow_x": null,
            "overflow_y": null,
            "padding": null,
            "right": null,
            "top": null,
            "visibility": null,
            "width": null
          }
        },
        "6eb54ea93ac14120a109dd376c75115b": {
          "model_module": "@jupyter-widgets/controls",
          "model_module_version": "1.5.0",
          "model_name": "FloatProgressModel",
          "state": {
            "_dom_classes": [],
            "_model_module": "@jupyter-widgets/controls",
            "_model_module_version": "1.5.0",
            "_model_name": "FloatProgressModel",
            "_view_count": null,
            "_view_module": "@jupyter-widgets/controls",
            "_view_module_version": "1.5.0",
            "_view_name": "ProgressView",
            "bar_style": "success",
            "description": "",
            "description_tooltip": null,
            "layout": "IPY_MODEL_4d1ae08dc56e4978813b2f9f63cc38a6",
            "max": 190,
            "min": 0,
            "orientation": "horizontal",
            "style": "IPY_MODEL_0ae9203c1607489eb5f8344693228f0c",
            "value": 190
          }
        },
        "6f62c5944bf04ef6b5a22a5322231336": {
          "model_module": "@jupyter-widgets/controls",
          "model_module_version": "1.5.0",
          "model_name": "ProgressStyleModel",
          "state": {
            "_model_module": "@jupyter-widgets/controls",
            "_model_module_version": "1.5.0",
            "_model_name": "ProgressStyleModel",
            "_view_count": null,
            "_view_module": "@jupyter-widgets/base",
            "_view_module_version": "1.2.0",
            "_view_name": "StyleView",
            "bar_color": null,
            "description_width": ""
          }
        },
        "6fec40ba1527417db96421644ac793fa": {
          "model_module": "@jupyter-widgets/controls",
          "model_module_version": "1.5.0",
          "model_name": "ProgressStyleModel",
          "state": {
            "_model_module": "@jupyter-widgets/controls",
            "_model_module_version": "1.5.0",
            "_model_name": "ProgressStyleModel",
            "_view_count": null,
            "_view_module": "@jupyter-widgets/base",
            "_view_module_version": "1.2.0",
            "_view_name": "StyleView",
            "bar_color": null,
            "description_width": ""
          }
        },
        "705185ce44c6418fa7007d38598e2286": {
          "model_module": "@jupyter-widgets/base",
          "model_module_version": "1.2.0",
          "model_name": "LayoutModel",
          "state": {
            "_model_module": "@jupyter-widgets/base",
            "_model_module_version": "1.2.0",
            "_model_name": "LayoutModel",
            "_view_count": null,
            "_view_module": "@jupyter-widgets/base",
            "_view_module_version": "1.2.0",
            "_view_name": "LayoutView",
            "align_content": null,
            "align_items": null,
            "align_self": null,
            "border": null,
            "bottom": null,
            "display": null,
            "flex": null,
            "flex_flow": null,
            "grid_area": null,
            "grid_auto_columns": null,
            "grid_auto_flow": null,
            "grid_auto_rows": null,
            "grid_column": null,
            "grid_gap": null,
            "grid_row": null,
            "grid_template_areas": null,
            "grid_template_columns": null,
            "grid_template_rows": null,
            "height": null,
            "justify_content": null,
            "justify_items": null,
            "left": null,
            "margin": null,
            "max_height": null,
            "max_width": null,
            "min_height": null,
            "min_width": null,
            "object_fit": null,
            "object_position": null,
            "order": null,
            "overflow": null,
            "overflow_x": null,
            "overflow_y": null,
            "padding": null,
            "right": null,
            "top": null,
            "visibility": null,
            "width": null
          }
        },
        "711bcef0f483495192cc5bc3e1ae2ac9": {
          "model_module": "@jupyter-widgets/controls",
          "model_module_version": "1.5.0",
          "model_name": "ProgressStyleModel",
          "state": {
            "_model_module": "@jupyter-widgets/controls",
            "_model_module_version": "1.5.0",
            "_model_name": "ProgressStyleModel",
            "_view_count": null,
            "_view_module": "@jupyter-widgets/base",
            "_view_module_version": "1.2.0",
            "_view_name": "StyleView",
            "bar_color": null,
            "description_width": ""
          }
        },
        "721b671eb5d44f878a8ea3d12962b93c": {
          "model_module": "@jupyter-widgets/controls",
          "model_module_version": "1.5.0",
          "model_name": "HBoxModel",
          "state": {
            "_dom_classes": [],
            "_model_module": "@jupyter-widgets/controls",
            "_model_module_version": "1.5.0",
            "_model_name": "HBoxModel",
            "_view_count": null,
            "_view_module": "@jupyter-widgets/controls",
            "_view_module_version": "1.5.0",
            "_view_name": "HBoxView",
            "box_style": "",
            "children": [
              "IPY_MODEL_d1e972873af64f0f9ebe1b606a10ab04",
              "IPY_MODEL_02713b94c8a04d5baefa82cf4f121708",
              "IPY_MODEL_323abcfbe3bf49d084f3ab14497451ac"
            ],
            "layout": "IPY_MODEL_00a3110e63a141309e8f6b4dfefe8a0a"
          }
        },
        "72a65555bb004e38841df9ed1622dce4": {
          "model_module": "@jupyter-widgets/controls",
          "model_module_version": "1.5.0",
          "model_name": "FloatProgressModel",
          "state": {
            "_dom_classes": [],
            "_model_module": "@jupyter-widgets/controls",
            "_model_module_version": "1.5.0",
            "_model_name": "FloatProgressModel",
            "_view_count": null,
            "_view_module": "@jupyter-widgets/controls",
            "_view_module_version": "1.5.0",
            "_view_name": "ProgressView",
            "bar_style": "success",
            "description": "",
            "description_tooltip": null,
            "layout": "IPY_MODEL_d06e661ba660488f928dd546b22aa848",
            "max": 239,
            "min": 0,
            "orientation": "horizontal",
            "style": "IPY_MODEL_d143c1736db44e20a829911bde2a8f32",
            "value": 239
          }
        },
        "763c32550bb94cfbbe45fa703d7582fe": {
          "model_module": "@jupyter-widgets/base",
          "model_module_version": "1.2.0",
          "model_name": "LayoutModel",
          "state": {
            "_model_module": "@jupyter-widgets/base",
            "_model_module_version": "1.2.0",
            "_model_name": "LayoutModel",
            "_view_count": null,
            "_view_module": "@jupyter-widgets/base",
            "_view_module_version": "1.2.0",
            "_view_name": "LayoutView",
            "align_content": null,
            "align_items": null,
            "align_self": null,
            "border": null,
            "bottom": null,
            "display": null,
            "flex": null,
            "flex_flow": null,
            "grid_area": null,
            "grid_auto_columns": null,
            "grid_auto_flow": null,
            "grid_auto_rows": null,
            "grid_column": null,
            "grid_gap": null,
            "grid_row": null,
            "grid_template_areas": null,
            "grid_template_columns": null,
            "grid_template_rows": null,
            "height": null,
            "justify_content": null,
            "justify_items": null,
            "left": null,
            "margin": null,
            "max_height": null,
            "max_width": null,
            "min_height": null,
            "min_width": null,
            "object_fit": null,
            "object_position": null,
            "order": null,
            "overflow": null,
            "overflow_x": null,
            "overflow_y": null,
            "padding": null,
            "right": null,
            "top": null,
            "visibility": null,
            "width": null
          }
        },
        "7a657a0dce3840e794b5aae82ed829eb": {
          "model_module": "@jupyter-widgets/controls",
          "model_module_version": "1.5.0",
          "model_name": "DescriptionStyleModel",
          "state": {
            "_model_module": "@jupyter-widgets/controls",
            "_model_module_version": "1.5.0",
            "_model_name": "DescriptionStyleModel",
            "_view_count": null,
            "_view_module": "@jupyter-widgets/base",
            "_view_module_version": "1.2.0",
            "_view_name": "StyleView",
            "description_width": ""
          }
        },
        "85a7a648df7c47f3a9b0a24aa1ff91ae": {
          "model_module": "@jupyter-widgets/controls",
          "model_module_version": "1.5.0",
          "model_name": "ProgressStyleModel",
          "state": {
            "_model_module": "@jupyter-widgets/controls",
            "_model_module_version": "1.5.0",
            "_model_name": "ProgressStyleModel",
            "_view_count": null,
            "_view_module": "@jupyter-widgets/base",
            "_view_module_version": "1.2.0",
            "_view_name": "StyleView",
            "bar_color": null,
            "description_width": ""
          }
        },
        "863f15dac8f249dfb79a4e76b39667bb": {
          "model_module": "@jupyter-widgets/controls",
          "model_module_version": "1.5.0",
          "model_name": "HTMLModel",
          "state": {
            "_dom_classes": [],
            "_model_module": "@jupyter-widgets/controls",
            "_model_module_version": "1.5.0",
            "_model_name": "HTMLModel",
            "_view_count": null,
            "_view_module": "@jupyter-widgets/controls",
            "_view_module_version": "1.5.0",
            "_view_name": "HTMLView",
            "description": "",
            "description_tooltip": null,
            "layout": "IPY_MODEL_35f3fd9aad7146a79abc0ac976ccd340",
            "placeholder": "​",
            "style": "IPY_MODEL_ebd974fa059641dfaf4c8803e2807779",
            "value": "tokenizer.json: "
          }
        },
        "873df3b9f2614ff3ac3144523c67b2c0": {
          "model_module": "@jupyter-widgets/controls",
          "model_module_version": "1.5.0",
          "model_name": "HTMLModel",
          "state": {
            "_dom_classes": [],
            "_model_module": "@jupyter-widgets/controls",
            "_model_module_version": "1.5.0",
            "_model_name": "HTMLModel",
            "_view_count": null,
            "_view_module": "@jupyter-widgets/controls",
            "_view_module_version": "1.5.0",
            "_view_name": "HTMLView",
            "description": "",
            "description_tooltip": null,
            "layout": "IPY_MODEL_a4fe356b4bfe4cc786605e738bcaa692",
            "placeholder": "​",
            "style": "IPY_MODEL_5ffd1efde3814397b820afac297edfd4",
            "value": " 122/122 [00:00&lt;00:00, 12.5kB/s]"
          }
        },
        "907b0abed8c041448bb818753cabb4c5": {
          "model_module": "@jupyter-widgets/base",
          "model_module_version": "1.2.0",
          "model_name": "LayoutModel",
          "state": {
            "_model_module": "@jupyter-widgets/base",
            "_model_module_version": "1.2.0",
            "_model_name": "LayoutModel",
            "_view_count": null,
            "_view_module": "@jupyter-widgets/base",
            "_view_module_version": "1.2.0",
            "_view_name": "LayoutView",
            "align_content": null,
            "align_items": null,
            "align_self": null,
            "border": null,
            "bottom": null,
            "display": null,
            "flex": null,
            "flex_flow": null,
            "grid_area": null,
            "grid_auto_columns": null,
            "grid_auto_flow": null,
            "grid_auto_rows": null,
            "grid_column": null,
            "grid_gap": null,
            "grid_row": null,
            "grid_template_areas": null,
            "grid_template_columns": null,
            "grid_template_rows": null,
            "height": null,
            "justify_content": null,
            "justify_items": null,
            "left": null,
            "margin": null,
            "max_height": null,
            "max_width": null,
            "min_height": null,
            "min_width": null,
            "object_fit": null,
            "object_position": null,
            "order": null,
            "overflow": null,
            "overflow_x": null,
            "overflow_y": null,
            "padding": null,
            "right": null,
            "top": null,
            "visibility": null,
            "width": null
          }
        },
        "931cc68868a64132b1bb8fff70d321f7": {
          "model_module": "@jupyter-widgets/controls",
          "model_module_version": "1.5.0",
          "model_name": "DescriptionStyleModel",
          "state": {
            "_model_module": "@jupyter-widgets/controls",
            "_model_module_version": "1.5.0",
            "_model_name": "DescriptionStyleModel",
            "_view_count": null,
            "_view_module": "@jupyter-widgets/base",
            "_view_module_version": "1.2.0",
            "_view_name": "StyleView",
            "description_width": ""
          }
        },
        "95430a65a1b24c8eb08c14b659ef3a56": {
          "model_module": "@jupyter-widgets/controls",
          "model_module_version": "1.5.0",
          "model_name": "DescriptionStyleModel",
          "state": {
            "_model_module": "@jupyter-widgets/controls",
            "_model_module_version": "1.5.0",
            "_model_name": "DescriptionStyleModel",
            "_view_count": null,
            "_view_module": "@jupyter-widgets/base",
            "_view_module_version": "1.2.0",
            "_view_name": "StyleView",
            "description_width": ""
          }
        },
        "97cf23cf6f224541ba7fd6495726e507": {
          "model_module": "@jupyter-widgets/controls",
          "model_module_version": "1.5.0",
          "model_name": "HTMLModel",
          "state": {
            "_dom_classes": [],
            "_model_module": "@jupyter-widgets/controls",
            "_model_module_version": "1.5.0",
            "_model_name": "HTMLModel",
            "_view_count": null,
            "_view_module": "@jupyter-widgets/controls",
            "_view_module_version": "1.5.0",
            "_view_name": "HTMLView",
            "description": "",
            "description_tooltip": null,
            "layout": "IPY_MODEL_763c32550bb94cfbbe45fa703d7582fe",
            "placeholder": "​",
            "style": "IPY_MODEL_5b46a63a63314eddb8c0894276826c94",
            "value": " 1.11G/1.11G [00:18&lt;00:00, 112MB/s]"
          }
        },
        "983d9145607a4bc7b7fa5aa467acdb45": {
          "model_module": "@jupyter-widgets/base",
          "model_module_version": "1.2.0",
          "model_name": "LayoutModel",
          "state": {
            "_model_module": "@jupyter-widgets/base",
            "_model_module_version": "1.2.0",
            "_model_name": "LayoutModel",
            "_view_count": null,
            "_view_module": "@jupyter-widgets/base",
            "_view_module_version": "1.2.0",
            "_view_name": "LayoutView",
            "align_content": null,
            "align_items": null,
            "align_self": null,
            "border": null,
            "bottom": null,
            "display": null,
            "flex": null,
            "flex_flow": null,
            "grid_area": null,
            "grid_auto_columns": null,
            "grid_auto_flow": null,
            "grid_auto_rows": null,
            "grid_column": null,
            "grid_gap": null,
            "grid_row": null,
            "grid_template_areas": null,
            "grid_template_columns": null,
            "grid_template_rows": null,
            "height": null,
            "justify_content": null,
            "justify_items": null,
            "left": null,
            "margin": null,
            "max_height": null,
            "max_width": null,
            "min_height": null,
            "min_width": null,
            "object_fit": null,
            "object_position": null,
            "order": null,
            "overflow": null,
            "overflow_x": null,
            "overflow_y": null,
            "padding": null,
            "right": null,
            "top": null,
            "visibility": null,
            "width": null
          }
        },
        "9a07a838b3514a8eaed47025fb82f09d": {
          "model_module": "@jupyter-widgets/base",
          "model_module_version": "1.2.0",
          "model_name": "LayoutModel",
          "state": {
            "_model_module": "@jupyter-widgets/base",
            "_model_module_version": "1.2.0",
            "_model_name": "LayoutModel",
            "_view_count": null,
            "_view_module": "@jupyter-widgets/base",
            "_view_module_version": "1.2.0",
            "_view_name": "LayoutView",
            "align_content": null,
            "align_items": null,
            "align_self": null,
            "border": null,
            "bottom": null,
            "display": null,
            "flex": null,
            "flex_flow": null,
            "grid_area": null,
            "grid_auto_columns": null,
            "grid_auto_flow": null,
            "grid_auto_rows": null,
            "grid_column": null,
            "grid_gap": null,
            "grid_row": null,
            "grid_template_areas": null,
            "grid_template_columns": null,
            "grid_template_rows": null,
            "height": null,
            "justify_content": null,
            "justify_items": null,
            "left": null,
            "margin": null,
            "max_height": null,
            "max_width": null,
            "min_height": null,
            "min_width": null,
            "object_fit": null,
            "object_position": null,
            "order": null,
            "overflow": null,
            "overflow_x": null,
            "overflow_y": null,
            "padding": null,
            "right": null,
            "top": null,
            "visibility": null,
            "width": null
          }
        },
        "9b7384e0f5504a548761f99ecd0c2933": {
          "model_module": "@jupyter-widgets/base",
          "model_module_version": "1.2.0",
          "model_name": "LayoutModel",
          "state": {
            "_model_module": "@jupyter-widgets/base",
            "_model_module_version": "1.2.0",
            "_model_name": "LayoutModel",
            "_view_count": null,
            "_view_module": "@jupyter-widgets/base",
            "_view_module_version": "1.2.0",
            "_view_name": "LayoutView",
            "align_content": null,
            "align_items": null,
            "align_self": null,
            "border": null,
            "bottom": null,
            "display": null,
            "flex": null,
            "flex_flow": null,
            "grid_area": null,
            "grid_auto_columns": null,
            "grid_auto_flow": null,
            "grid_auto_rows": null,
            "grid_column": null,
            "grid_gap": null,
            "grid_row": null,
            "grid_template_areas": null,
            "grid_template_columns": null,
            "grid_template_rows": null,
            "height": null,
            "justify_content": null,
            "justify_items": null,
            "left": null,
            "margin": null,
            "max_height": null,
            "max_width": null,
            "min_height": null,
            "min_width": null,
            "object_fit": null,
            "object_position": null,
            "order": null,
            "overflow": null,
            "overflow_x": null,
            "overflow_y": null,
            "padding": null,
            "right": null,
            "top": null,
            "visibility": null,
            "width": null
          }
        },
        "9d209ab6860b4df6b74b223b617ef367": {
          "model_module": "@jupyter-widgets/controls",
          "model_module_version": "1.5.0",
          "model_name": "DescriptionStyleModel",
          "state": {
            "_model_module": "@jupyter-widgets/controls",
            "_model_module_version": "1.5.0",
            "_model_name": "DescriptionStyleModel",
            "_view_count": null,
            "_view_module": "@jupyter-widgets/base",
            "_view_module_version": "1.2.0",
            "_view_name": "StyleView",
            "description_width": ""
          }
        },
        "9f1c0e7b3677434f8191e5d33a5f47ff": {
          "model_module": "@jupyter-widgets/controls",
          "model_module_version": "1.5.0",
          "model_name": "HBoxModel",
          "state": {
            "_dom_classes": [],
            "_model_module": "@jupyter-widgets/controls",
            "_model_module_version": "1.5.0",
            "_model_name": "HBoxModel",
            "_view_count": null,
            "_view_module": "@jupyter-widgets/controls",
            "_view_module_version": "1.5.0",
            "_view_name": "HBoxView",
            "box_style": "",
            "children": [
              "IPY_MODEL_6be73389666b4149b6bb228ca3c0a622",
              "IPY_MODEL_af1c9641c7e34c41a4520157158efcbc",
              "IPY_MODEL_bd1d96ed2f754bf7aa61da8837d3eba4"
            ],
            "layout": "IPY_MODEL_0bca308de0614163b003cd2dfdc02de8"
          }
        },
        "9f51dbb13fe5413a92d4bf034ed6ba5c": {
          "model_module": "@jupyter-widgets/controls",
          "model_module_version": "1.5.0",
          "model_name": "FloatProgressModel",
          "state": {
            "_dom_classes": [],
            "_model_module": "@jupyter-widgets/controls",
            "_model_module_version": "1.5.0",
            "_model_name": "FloatProgressModel",
            "_view_count": null,
            "_view_module": "@jupyter-widgets/controls",
            "_view_module_version": "1.5.0",
            "_view_name": "ProgressView",
            "bar_style": "success",
            "description": "",
            "description_tooltip": null,
            "layout": "IPY_MODEL_907b0abed8c041448bb818753cabb4c5",
            "max": 122,
            "min": 0,
            "orientation": "horizontal",
            "style": "IPY_MODEL_fad125c615804a7d93e8aca04b0c6446",
            "value": 122
          }
        },
        "a4fe356b4bfe4cc786605e738bcaa692": {
          "model_module": "@jupyter-widgets/base",
          "model_module_version": "1.2.0",
          "model_name": "LayoutModel",
          "state": {
            "_model_module": "@jupyter-widgets/base",
            "_model_module_version": "1.2.0",
            "_model_name": "LayoutModel",
            "_view_count": null,
            "_view_module": "@jupyter-widgets/base",
            "_view_module_version": "1.2.0",
            "_view_name": "LayoutView",
            "align_content": null,
            "align_items": null,
            "align_self": null,
            "border": null,
            "bottom": null,
            "display": null,
            "flex": null,
            "flex_flow": null,
            "grid_area": null,
            "grid_auto_columns": null,
            "grid_auto_flow": null,
            "grid_auto_rows": null,
            "grid_column": null,
            "grid_gap": null,
            "grid_row": null,
            "grid_template_areas": null,
            "grid_template_columns": null,
            "grid_template_rows": null,
            "height": null,
            "justify_content": null,
            "justify_items": null,
            "left": null,
            "margin": null,
            "max_height": null,
            "max_width": null,
            "min_height": null,
            "min_width": null,
            "object_fit": null,
            "object_position": null,
            "order": null,
            "overflow": null,
            "overflow_x": null,
            "overflow_y": null,
            "padding": null,
            "right": null,
            "top": null,
            "visibility": null,
            "width": null
          }
        },
        "a6c2ffd4d10444de849f4883d2a64c48": {
          "model_module": "@jupyter-widgets/controls",
          "model_module_version": "1.5.0",
          "model_name": "HTMLModel",
          "state": {
            "_dom_classes": [],
            "_model_module": "@jupyter-widgets/controls",
            "_model_module_version": "1.5.0",
            "_model_name": "HTMLModel",
            "_view_count": null,
            "_view_module": "@jupyter-widgets/controls",
            "_view_module_version": "1.5.0",
            "_view_name": "HTMLView",
            "description": "",
            "description_tooltip": null,
            "layout": "IPY_MODEL_ab2ebb490c264c19b33931416d4c3cc7",
            "placeholder": "​",
            "style": "IPY_MODEL_23c9d1f5c2894ed48a14f949b2bb9caa",
            "value": "tokenizer_config.json: 100%"
          }
        },
        "a974784a68f34cad8119125d6c345ea8": {
          "model_module": "@jupyter-widgets/controls",
          "model_module_version": "1.5.0",
          "model_name": "FloatProgressModel",
          "state": {
            "_dom_classes": [],
            "_model_module": "@jupyter-widgets/controls",
            "_model_module_version": "1.5.0",
            "_model_name": "FloatProgressModel",
            "_view_count": null,
            "_view_module": "@jupyter-widgets/controls",
            "_view_module_version": "1.5.0",
            "_view_name": "ProgressView",
            "bar_style": "success",
            "description": "",
            "description_tooltip": null,
            "layout": "IPY_MODEL_5778e17e6fce44b6adaa8ee9ce579523",
            "max": 723,
            "min": 0,
            "orientation": "horizontal",
            "style": "IPY_MODEL_6f62c5944bf04ef6b5a22a5322231336",
            "value": 723
          }
        },
        "ab2ebb490c264c19b33931416d4c3cc7": {
          "model_module": "@jupyter-widgets/base",
          "model_module_version": "1.2.0",
          "model_name": "LayoutModel",
          "state": {
            "_model_module": "@jupyter-widgets/base",
            "_model_module_version": "1.2.0",
            "_model_name": "LayoutModel",
            "_view_count": null,
            "_view_module": "@jupyter-widgets/base",
            "_view_module_version": "1.2.0",
            "_view_name": "LayoutView",
            "align_content": null,
            "align_items": null,
            "align_self": null,
            "border": null,
            "bottom": null,
            "display": null,
            "flex": null,
            "flex_flow": null,
            "grid_area": null,
            "grid_auto_columns": null,
            "grid_auto_flow": null,
            "grid_auto_rows": null,
            "grid_column": null,
            "grid_gap": null,
            "grid_row": null,
            "grid_template_areas": null,
            "grid_template_columns": null,
            "grid_template_rows": null,
            "height": null,
            "justify_content": null,
            "justify_items": null,
            "left": null,
            "margin": null,
            "max_height": null,
            "max_width": null,
            "min_height": null,
            "min_width": null,
            "object_fit": null,
            "object_position": null,
            "order": null,
            "overflow": null,
            "overflow_x": null,
            "overflow_y": null,
            "padding": null,
            "right": null,
            "top": null,
            "visibility": null,
            "width": null
          }
        },
        "add2b3ccfad04b94a567ead12b8d400d": {
          "model_module": "@jupyter-widgets/controls",
          "model_module_version": "1.5.0",
          "model_name": "ProgressStyleModel",
          "state": {
            "_model_module": "@jupyter-widgets/controls",
            "_model_module_version": "1.5.0",
            "_model_name": "ProgressStyleModel",
            "_view_count": null,
            "_view_module": "@jupyter-widgets/base",
            "_view_module_version": "1.2.0",
            "_view_name": "StyleView",
            "bar_color": null,
            "description_width": ""
          }
        },
        "af1c9641c7e34c41a4520157158efcbc": {
          "model_module": "@jupyter-widgets/controls",
          "model_module_version": "1.5.0",
          "model_name": "FloatProgressModel",
          "state": {
            "_dom_classes": [],
            "_model_module": "@jupyter-widgets/controls",
            "_model_module_version": "1.5.0",
            "_model_name": "FloatProgressModel",
            "_view_count": null,
            "_view_module": "@jupyter-widgets/controls",
            "_view_module_version": "1.5.0",
            "_view_name": "ProgressView",
            "bar_style": "success",
            "description": "",
            "description_tooltip": null,
            "layout": "IPY_MODEL_1702f7f735284e6e9a4dca6272d1b31c",
            "max": 1,
            "min": 0,
            "orientation": "horizontal",
            "style": "IPY_MODEL_add2b3ccfad04b94a567ead12b8d400d",
            "value": 1
          }
        },
        "b1df5d8b576d4dc889468a8bd85c600c": {
          "model_module": "@jupyter-widgets/base",
          "model_module_version": "1.2.0",
          "model_name": "LayoutModel",
          "state": {
            "_model_module": "@jupyter-widgets/base",
            "_model_module_version": "1.2.0",
            "_model_name": "LayoutModel",
            "_view_count": null,
            "_view_module": "@jupyter-widgets/base",
            "_view_module_version": "1.2.0",
            "_view_name": "LayoutView",
            "align_content": null,
            "align_items": null,
            "align_self": null,
            "border": null,
            "bottom": null,
            "display": null,
            "flex": null,
            "flex_flow": null,
            "grid_area": null,
            "grid_auto_columns": null,
            "grid_auto_flow": null,
            "grid_auto_rows": null,
            "grid_column": null,
            "grid_gap": null,
            "grid_row": null,
            "grid_template_areas": null,
            "grid_template_columns": null,
            "grid_template_rows": null,
            "height": null,
            "justify_content": null,
            "justify_items": null,
            "left": null,
            "margin": null,
            "max_height": null,
            "max_width": null,
            "min_height": null,
            "min_width": null,
            "object_fit": null,
            "object_position": null,
            "order": null,
            "overflow": null,
            "overflow_x": null,
            "overflow_y": null,
            "padding": null,
            "right": null,
            "top": null,
            "visibility": null,
            "width": null
          }
        },
        "b5ac1a3bf9f145c0a19d8dee04cf7194": {
          "model_module": "@jupyter-widgets/base",
          "model_module_version": "1.2.0",
          "model_name": "LayoutModel",
          "state": {
            "_model_module": "@jupyter-widgets/base",
            "_model_module_version": "1.2.0",
            "_model_name": "LayoutModel",
            "_view_count": null,
            "_view_module": "@jupyter-widgets/base",
            "_view_module_version": "1.2.0",
            "_view_name": "LayoutView",
            "align_content": null,
            "align_items": null,
            "align_self": null,
            "border": null,
            "bottom": null,
            "display": null,
            "flex": null,
            "flex_flow": null,
            "grid_area": null,
            "grid_auto_columns": null,
            "grid_auto_flow": null,
            "grid_auto_rows": null,
            "grid_column": null,
            "grid_gap": null,
            "grid_row": null,
            "grid_template_areas": null,
            "grid_template_columns": null,
            "grid_template_rows": null,
            "height": null,
            "justify_content": null,
            "justify_items": null,
            "left": null,
            "margin": null,
            "max_height": null,
            "max_width": null,
            "min_height": null,
            "min_width": null,
            "object_fit": null,
            "object_position": null,
            "order": null,
            "overflow": null,
            "overflow_x": null,
            "overflow_y": null,
            "padding": null,
            "right": null,
            "top": null,
            "visibility": null,
            "width": null
          }
        },
        "b98ef96d1f5e416898dd7b98ef3cae73": {
          "model_module": "@jupyter-widgets/controls",
          "model_module_version": "1.5.0",
          "model_name": "HBoxModel",
          "state": {
            "_dom_classes": [],
            "_model_module": "@jupyter-widgets/controls",
            "_model_module_version": "1.5.0",
            "_model_name": "HBoxModel",
            "_view_count": null,
            "_view_module": "@jupyter-widgets/controls",
            "_view_module_version": "1.5.0",
            "_view_name": "HBoxView",
            "box_style": "",
            "children": [
              "IPY_MODEL_e08d574200da479aa9ce599ab24e6b0b",
              "IPY_MODEL_ce4f695240c54d7b87a037012a4bdcbd",
              "IPY_MODEL_e14d43c77ad347b09994b57b7b45c80f"
            ],
            "layout": "IPY_MODEL_9a07a838b3514a8eaed47025fb82f09d"
          }
        },
        "bc890d18a7944722a3bfab3f0a926658": {
          "model_module": "@jupyter-widgets/controls",
          "model_module_version": "1.5.0",
          "model_name": "HBoxModel",
          "state": {
            "_dom_classes": [],
            "_model_module": "@jupyter-widgets/controls",
            "_model_module_version": "1.5.0",
            "_model_name": "HBoxModel",
            "_view_count": null,
            "_view_module": "@jupyter-widgets/controls",
            "_view_module_version": "1.5.0",
            "_view_name": "HBoxView",
            "box_style": "",
            "children": [
              "IPY_MODEL_863f15dac8f249dfb79a4e76b39667bb",
              "IPY_MODEL_f44c52b07edc4fecbc17127940196d84",
              "IPY_MODEL_6796444de9204aa6809f3a13a7aa8508"
            ],
            "layout": "IPY_MODEL_ecde9e722e7346b8a5aa61fe0346c68c"
          }
        },
        "bd1d96ed2f754bf7aa61da8837d3eba4": {
          "model_module": "@jupyter-widgets/controls",
          "model_module_version": "1.5.0",
          "model_name": "HTMLModel",
          "state": {
            "_dom_classes": [],
            "_model_module": "@jupyter-widgets/controls",
            "_model_module_version": "1.5.0",
            "_model_name": "HTMLModel",
            "_view_count": null,
            "_view_module": "@jupyter-widgets/controls",
            "_view_module_version": "1.5.0",
            "_view_name": "HTMLView",
            "description": "",
            "description_tooltip": null,
            "layout": "IPY_MODEL_00f51f234e0f42a09b9d75c19d265779",
            "placeholder": "​",
            "style": "IPY_MODEL_15ce4137439f4a97a2963c0a20e15fec",
            "value": " 5.12k/? [00:00&lt;00:00, 553kB/s]"
          }
        },
        "be54e1cf9da346de980be226a2e6c087": {
          "model_module": "@jupyter-widgets/controls",
          "model_module_version": "1.5.0",
          "model_name": "HTMLModel",
          "state": {
            "_dom_classes": [],
            "_model_module": "@jupyter-widgets/controls",
            "_model_module_version": "1.5.0",
            "_model_name": "HTMLModel",
            "_view_count": null,
            "_view_module": "@jupyter-widgets/controls",
            "_view_module_version": "1.5.0",
            "_view_name": "HTMLView",
            "description": "",
            "description_tooltip": null,
            "layout": "IPY_MODEL_e355acd666914478a91af6833af7e47f",
            "placeholder": "​",
            "style": "IPY_MODEL_4bcfc84ca1194b7a9dd7e05e32fe877a",
            "value": "config.json: 100%"
          }
        },
        "c04cfb8c50684c04a04cb7a4e4854cf6": {
          "model_module": "@jupyter-widgets/controls",
          "model_module_version": "1.5.0",
          "model_name": "DescriptionStyleModel",
          "state": {
            "_model_module": "@jupyter-widgets/controls",
            "_model_module_version": "1.5.0",
            "_model_name": "DescriptionStyleModel",
            "_view_count": null,
            "_view_module": "@jupyter-widgets/base",
            "_view_module_version": "1.2.0",
            "_view_name": "StyleView",
            "description_width": ""
          }
        },
        "c08ba72a42a24c19a52680b0d264c9ed": {
          "model_module": "@jupyter-widgets/controls",
          "model_module_version": "1.5.0",
          "model_name": "HBoxModel",
          "state": {
            "_dom_classes": [],
            "_model_module": "@jupyter-widgets/controls",
            "_model_module_version": "1.5.0",
            "_model_name": "HBoxModel",
            "_view_count": null,
            "_view_module": "@jupyter-widgets/controls",
            "_view_module_version": "1.5.0",
            "_view_name": "HBoxView",
            "box_style": "",
            "children": [
              "IPY_MODEL_be54e1cf9da346de980be226a2e6c087",
              "IPY_MODEL_a974784a68f34cad8119125d6c345ea8",
              "IPY_MODEL_f90ba50323fd4946a2e7ac5ee0a32681"
            ],
            "layout": "IPY_MODEL_09436b2460b74923896ec338ee62fca9"
          }
        },
        "c0c37899bdb849fc8653b9080f56af1d": {
          "model_module": "@jupyter-widgets/base",
          "model_module_version": "1.2.0",
          "model_name": "LayoutModel",
          "state": {
            "_model_module": "@jupyter-widgets/base",
            "_model_module_version": "1.2.0",
            "_model_name": "LayoutModel",
            "_view_count": null,
            "_view_module": "@jupyter-widgets/base",
            "_view_module_version": "1.2.0",
            "_view_name": "LayoutView",
            "align_content": null,
            "align_items": null,
            "align_self": null,
            "border": null,
            "bottom": null,
            "display": null,
            "flex": null,
            "flex_flow": null,
            "grid_area": null,
            "grid_auto_columns": null,
            "grid_auto_flow": null,
            "grid_auto_rows": null,
            "grid_column": null,
            "grid_gap": null,
            "grid_row": null,
            "grid_template_areas": null,
            "grid_template_columns": null,
            "grid_template_rows": null,
            "height": null,
            "justify_content": null,
            "justify_items": null,
            "left": null,
            "margin": null,
            "max_height": null,
            "max_width": null,
            "min_height": null,
            "min_width": null,
            "object_fit": null,
            "object_position": null,
            "order": null,
            "overflow": null,
            "overflow_x": null,
            "overflow_y": null,
            "padding": null,
            "right": null,
            "top": null,
            "visibility": null,
            "width": null
          }
        },
        "c240780d150944e99fd3e274c6cb2f1c": {
          "model_module": "@jupyter-widgets/controls",
          "model_module_version": "1.5.0",
          "model_name": "ProgressStyleModel",
          "state": {
            "_model_module": "@jupyter-widgets/controls",
            "_model_module_version": "1.5.0",
            "_model_name": "ProgressStyleModel",
            "_view_count": null,
            "_view_module": "@jupyter-widgets/base",
            "_view_module_version": "1.2.0",
            "_view_name": "StyleView",
            "bar_color": null,
            "description_width": ""
          }
        },
        "c97895eb33124c46947fe6c1988e0e45": {
          "model_module": "@jupyter-widgets/controls",
          "model_module_version": "1.5.0",
          "model_name": "HTMLModel",
          "state": {
            "_dom_classes": [],
            "_model_module": "@jupyter-widgets/controls",
            "_model_module_version": "1.5.0",
            "_model_name": "HTMLModel",
            "_view_count": null,
            "_view_module": "@jupyter-widgets/controls",
            "_view_module_version": "1.5.0",
            "_view_name": "HTMLView",
            "description": "",
            "description_tooltip": null,
            "layout": "IPY_MODEL_6895c77affc34eb9a693b5713ac7f6d8",
            "placeholder": "​",
            "style": "IPY_MODEL_04913050ea0f448b869986354e8e2898",
            "value": " 190/190 [00:00&lt;00:00, 19.5kB/s]"
          }
        },
        "ce4f695240c54d7b87a037012a4bdcbd": {
          "model_module": "@jupyter-widgets/controls",
          "model_module_version": "1.5.0",
          "model_name": "FloatProgressModel",
          "state": {
            "_dom_classes": [],
            "_model_module": "@jupyter-widgets/controls",
            "_model_module_version": "1.5.0",
            "_model_name": "FloatProgressModel",
            "_view_count": null,
            "_view_module": "@jupyter-widgets/controls",
            "_view_module_version": "1.5.0",
            "_view_name": "ProgressView",
            "bar_style": "success",
            "description": "",
            "description_tooltip": null,
            "layout": "IPY_MODEL_16f3d890acda4b5eabe9339de04f6114",
            "max": 229,
            "min": 0,
            "orientation": "horizontal",
            "style": "IPY_MODEL_d35dbbc555a54efd8cfd3bf10581e299",
            "value": 229
          }
        },
        "cebc48ddde124e88ae8eb40331f630e0": {
          "model_module": "@jupyter-widgets/controls",
          "model_module_version": "1.5.0",
          "model_name": "ProgressStyleModel",
          "state": {
            "_model_module": "@jupyter-widgets/controls",
            "_model_module_version": "1.5.0",
            "_model_name": "ProgressStyleModel",
            "_view_count": null,
            "_view_module": "@jupyter-widgets/base",
            "_view_module_version": "1.2.0",
            "_view_name": "StyleView",
            "bar_color": null,
            "description_width": ""
          }
        },
        "d06e661ba660488f928dd546b22aa848": {
          "model_module": "@jupyter-widgets/base",
          "model_module_version": "1.2.0",
          "model_name": "LayoutModel",
          "state": {
            "_model_module": "@jupyter-widgets/base",
            "_model_module_version": "1.2.0",
            "_model_name": "LayoutModel",
            "_view_count": null,
            "_view_module": "@jupyter-widgets/base",
            "_view_module_version": "1.2.0",
            "_view_name": "LayoutView",
            "align_content": null,
            "align_items": null,
            "align_self": null,
            "border": null,
            "bottom": null,
            "display": null,
            "flex": null,
            "flex_flow": null,
            "grid_area": null,
            "grid_auto_columns": null,
            "grid_auto_flow": null,
            "grid_auto_rows": null,
            "grid_column": null,
            "grid_gap": null,
            "grid_row": null,
            "grid_template_areas": null,
            "grid_template_columns": null,
            "grid_template_rows": null,
            "height": null,
            "justify_content": null,
            "justify_items": null,
            "left": null,
            "margin": null,
            "max_height": null,
            "max_width": null,
            "min_height": null,
            "min_width": null,
            "object_fit": null,
            "object_position": null,
            "order": null,
            "overflow": null,
            "overflow_x": null,
            "overflow_y": null,
            "padding": null,
            "right": null,
            "top": null,
            "visibility": null,
            "width": null
          }
        },
        "d143c1736db44e20a829911bde2a8f32": {
          "model_module": "@jupyter-widgets/controls",
          "model_module_version": "1.5.0",
          "model_name": "ProgressStyleModel",
          "state": {
            "_model_module": "@jupyter-widgets/controls",
            "_model_module_version": "1.5.0",
            "_model_name": "ProgressStyleModel",
            "_view_count": null,
            "_view_module": "@jupyter-widgets/base",
            "_view_module_version": "1.2.0",
            "_view_name": "StyleView",
            "bar_color": null,
            "description_width": ""
          }
        },
        "d15bae086fc34177a9c73979e239eec0": {
          "model_module": "@jupyter-widgets/controls",
          "model_module_version": "1.5.0",
          "model_name": "HTMLModel",
          "state": {
            "_dom_classes": [],
            "_model_module": "@jupyter-widgets/controls",
            "_model_module_version": "1.5.0",
            "_model_name": "HTMLModel",
            "_view_count": null,
            "_view_module": "@jupyter-widgets/controls",
            "_view_module_version": "1.5.0",
            "_view_name": "HTMLView",
            "description": "",
            "description_tooltip": null,
            "layout": "IPY_MODEL_5fbe3ee2e1a349569bfd1e112181eaed",
            "placeholder": "​",
            "style": "IPY_MODEL_eb53869b4ac544db9a1e7264599fcf01",
            "value": " 239/239 [00:00&lt;00:00, 29.2kB/s]"
          }
        },
        "d1e972873af64f0f9ebe1b606a10ab04": {
          "model_module": "@jupyter-widgets/controls",
          "model_module_version": "1.5.0",
          "model_name": "HTMLModel",
          "state": {
            "_dom_classes": [],
            "_model_module": "@jupyter-widgets/controls",
            "_model_module_version": "1.5.0",
            "_model_name": "HTMLModel",
            "_view_count": null,
            "_view_module": "@jupyter-widgets/controls",
            "_view_module_version": "1.5.0",
            "_view_name": "HTMLView",
            "description": "",
            "description_tooltip": null,
            "layout": "IPY_MODEL_f9f1b91434b44dbc9d2f691c7b8bb602",
            "placeholder": "​",
            "style": "IPY_MODEL_ead56c3ac40b4b8d9a441287192e5a9b",
            "value": "sentence_bert_config.json: 100%"
          }
        },
        "d35dbbc555a54efd8cfd3bf10581e299": {
          "model_module": "@jupyter-widgets/controls",
          "model_module_version": "1.5.0",
          "model_name": "ProgressStyleModel",
          "state": {
            "_model_module": "@jupyter-widgets/controls",
            "_model_module_version": "1.5.0",
            "_model_name": "ProgressStyleModel",
            "_view_count": null,
            "_view_module": "@jupyter-widgets/base",
            "_view_module_version": "1.2.0",
            "_view_name": "StyleView",
            "bar_color": null,
            "description_width": ""
          }
        },
        "d3770596c6aa4907bc5170e74c3c05d6": {
          "model_module": "@jupyter-widgets/controls",
          "model_module_version": "1.5.0",
          "model_name": "DescriptionStyleModel",
          "state": {
            "_model_module": "@jupyter-widgets/controls",
            "_model_module_version": "1.5.0",
            "_model_name": "DescriptionStyleModel",
            "_view_count": null,
            "_view_module": "@jupyter-widgets/base",
            "_view_module_version": "1.2.0",
            "_view_name": "StyleView",
            "description_width": ""
          }
        },
        "d3e0bb4fd617442a863143a82b66c803": {
          "model_module": "@jupyter-widgets/base",
          "model_module_version": "1.2.0",
          "model_name": "LayoutModel",
          "state": {
            "_model_module": "@jupyter-widgets/base",
            "_model_module_version": "1.2.0",
            "_model_name": "LayoutModel",
            "_view_count": null,
            "_view_module": "@jupyter-widgets/base",
            "_view_module_version": "1.2.0",
            "_view_name": "LayoutView",
            "align_content": null,
            "align_items": null,
            "align_self": null,
            "border": null,
            "bottom": null,
            "display": null,
            "flex": null,
            "flex_flow": null,
            "grid_area": null,
            "grid_auto_columns": null,
            "grid_auto_flow": null,
            "grid_auto_rows": null,
            "grid_column": null,
            "grid_gap": null,
            "grid_row": null,
            "grid_template_areas": null,
            "grid_template_columns": null,
            "grid_template_rows": null,
            "height": null,
            "justify_content": null,
            "justify_items": null,
            "left": null,
            "margin": null,
            "max_height": null,
            "max_width": null,
            "min_height": null,
            "min_width": null,
            "object_fit": null,
            "object_position": null,
            "order": null,
            "overflow": null,
            "overflow_x": null,
            "overflow_y": null,
            "padding": null,
            "right": null,
            "top": null,
            "visibility": null,
            "width": null
          }
        },
        "d64cede49e304306a9c4e0bfdc2fb432": {
          "model_module": "@jupyter-widgets/controls",
          "model_module_version": "1.5.0",
          "model_name": "HTMLModel",
          "state": {
            "_dom_classes": [],
            "_model_module": "@jupyter-widgets/controls",
            "_model_module_version": "1.5.0",
            "_model_name": "HTMLModel",
            "_view_count": null,
            "_view_module": "@jupyter-widgets/controls",
            "_view_module_version": "1.5.0",
            "_view_name": "HTMLView",
            "description": "",
            "description_tooltip": null,
            "layout": "IPY_MODEL_6e405a7809a84d1b86ce1ef5a36c0401",
            "placeholder": "​",
            "style": "IPY_MODEL_95430a65a1b24c8eb08c14b659ef3a56",
            "value": "model.safetensors: 100%"
          }
        },
        "e08d574200da479aa9ce599ab24e6b0b": {
          "model_module": "@jupyter-widgets/controls",
          "model_module_version": "1.5.0",
          "model_name": "HTMLModel",
          "state": {
            "_dom_classes": [],
            "_model_module": "@jupyter-widgets/controls",
            "_model_module_version": "1.5.0",
            "_model_name": "HTMLModel",
            "_view_count": null,
            "_view_module": "@jupyter-widgets/controls",
            "_view_module_version": "1.5.0",
            "_view_name": "HTMLView",
            "description": "",
            "description_tooltip": null,
            "layout": "IPY_MODEL_5a9b32c838ee4e95ac6a5a387f321939",
            "placeholder": "​",
            "style": "IPY_MODEL_e50409286a7e45498e2f35cd40ee5dc8",
            "value": "modules.json: 100%"
          }
        },
        "e14d43c77ad347b09994b57b7b45c80f": {
          "model_module": "@jupyter-widgets/controls",
          "model_module_version": "1.5.0",
          "model_name": "HTMLModel",
          "state": {
            "_dom_classes": [],
            "_model_module": "@jupyter-widgets/controls",
            "_model_module_version": "1.5.0",
            "_model_name": "HTMLModel",
            "_view_count": null,
            "_view_module": "@jupyter-widgets/controls",
            "_view_module_version": "1.5.0",
            "_view_name": "HTMLView",
            "description": "",
            "description_tooltip": null,
            "layout": "IPY_MODEL_1f5e4015b6d7419a927d9ba4c120f3b5",
            "placeholder": "​",
            "style": "IPY_MODEL_d3770596c6aa4907bc5170e74c3c05d6",
            "value": " 229/229 [00:00&lt;00:00, 25.3kB/s]"
          }
        },
        "e355acd666914478a91af6833af7e47f": {
          "model_module": "@jupyter-widgets/base",
          "model_module_version": "1.2.0",
          "model_name": "LayoutModel",
          "state": {
            "_model_module": "@jupyter-widgets/base",
            "_model_module_version": "1.2.0",
            "_model_name": "LayoutModel",
            "_view_count": null,
            "_view_module": "@jupyter-widgets/base",
            "_view_module_version": "1.2.0",
            "_view_name": "LayoutView",
            "align_content": null,
            "align_items": null,
            "align_self": null,
            "border": null,
            "bottom": null,
            "display": null,
            "flex": null,
            "flex_flow": null,
            "grid_area": null,
            "grid_auto_columns": null,
            "grid_auto_flow": null,
            "grid_auto_rows": null,
            "grid_column": null,
            "grid_gap": null,
            "grid_row": null,
            "grid_template_areas": null,
            "grid_template_columns": null,
            "grid_template_rows": null,
            "height": null,
            "justify_content": null,
            "justify_items": null,
            "left": null,
            "margin": null,
            "max_height": null,
            "max_width": null,
            "min_height": null,
            "min_width": null,
            "object_fit": null,
            "object_position": null,
            "order": null,
            "overflow": null,
            "overflow_x": null,
            "overflow_y": null,
            "padding": null,
            "right": null,
            "top": null,
            "visibility": null,
            "width": null
          }
        },
        "e50409286a7e45498e2f35cd40ee5dc8": {
          "model_module": "@jupyter-widgets/controls",
          "model_module_version": "1.5.0",
          "model_name": "DescriptionStyleModel",
          "state": {
            "_model_module": "@jupyter-widgets/controls",
            "_model_module_version": "1.5.0",
            "_model_name": "DescriptionStyleModel",
            "_view_count": null,
            "_view_module": "@jupyter-widgets/base",
            "_view_module_version": "1.2.0",
            "_view_name": "StyleView",
            "description_width": ""
          }
        },
        "ead56c3ac40b4b8d9a441287192e5a9b": {
          "model_module": "@jupyter-widgets/controls",
          "model_module_version": "1.5.0",
          "model_name": "DescriptionStyleModel",
          "state": {
            "_model_module": "@jupyter-widgets/controls",
            "_model_module_version": "1.5.0",
            "_model_name": "DescriptionStyleModel",
            "_view_count": null,
            "_view_module": "@jupyter-widgets/base",
            "_view_module_version": "1.2.0",
            "_view_name": "StyleView",
            "description_width": ""
          }
        },
        "eb53869b4ac544db9a1e7264599fcf01": {
          "model_module": "@jupyter-widgets/controls",
          "model_module_version": "1.5.0",
          "model_name": "DescriptionStyleModel",
          "state": {
            "_model_module": "@jupyter-widgets/controls",
            "_model_module_version": "1.5.0",
            "_model_name": "DescriptionStyleModel",
            "_view_count": null,
            "_view_module": "@jupyter-widgets/base",
            "_view_module_version": "1.2.0",
            "_view_name": "StyleView",
            "description_width": ""
          }
        },
        "ebd974fa059641dfaf4c8803e2807779": {
          "model_module": "@jupyter-widgets/controls",
          "model_module_version": "1.5.0",
          "model_name": "DescriptionStyleModel",
          "state": {
            "_model_module": "@jupyter-widgets/controls",
            "_model_module_version": "1.5.0",
            "_model_name": "DescriptionStyleModel",
            "_view_count": null,
            "_view_module": "@jupyter-widgets/base",
            "_view_module_version": "1.2.0",
            "_view_name": "StyleView",
            "description_width": ""
          }
        },
        "ecde9e722e7346b8a5aa61fe0346c68c": {
          "model_module": "@jupyter-widgets/base",
          "model_module_version": "1.2.0",
          "model_name": "LayoutModel",
          "state": {
            "_model_module": "@jupyter-widgets/base",
            "_model_module_version": "1.2.0",
            "_model_name": "LayoutModel",
            "_view_count": null,
            "_view_module": "@jupyter-widgets/base",
            "_view_module_version": "1.2.0",
            "_view_name": "LayoutView",
            "align_content": null,
            "align_items": null,
            "align_self": null,
            "border": null,
            "bottom": null,
            "display": null,
            "flex": null,
            "flex_flow": null,
            "grid_area": null,
            "grid_auto_columns": null,
            "grid_auto_flow": null,
            "grid_auto_rows": null,
            "grid_column": null,
            "grid_gap": null,
            "grid_row": null,
            "grid_template_areas": null,
            "grid_template_columns": null,
            "grid_template_rows": null,
            "height": null,
            "justify_content": null,
            "justify_items": null,
            "left": null,
            "margin": null,
            "max_height": null,
            "max_width": null,
            "min_height": null,
            "min_width": null,
            "object_fit": null,
            "object_position": null,
            "order": null,
            "overflow": null,
            "overflow_x": null,
            "overflow_y": null,
            "padding": null,
            "right": null,
            "top": null,
            "visibility": null,
            "width": null
          }
        },
        "f359cd068e9a43b5b13832096926533b": {
          "model_module": "@jupyter-widgets/base",
          "model_module_version": "1.2.0",
          "model_name": "LayoutModel",
          "state": {
            "_model_module": "@jupyter-widgets/base",
            "_model_module_version": "1.2.0",
            "_model_name": "LayoutModel",
            "_view_count": null,
            "_view_module": "@jupyter-widgets/base",
            "_view_module_version": "1.2.0",
            "_view_name": "LayoutView",
            "align_content": null,
            "align_items": null,
            "align_self": null,
            "border": null,
            "bottom": null,
            "display": null,
            "flex": null,
            "flex_flow": null,
            "grid_area": null,
            "grid_auto_columns": null,
            "grid_auto_flow": null,
            "grid_auto_rows": null,
            "grid_column": null,
            "grid_gap": null,
            "grid_row": null,
            "grid_template_areas": null,
            "grid_template_columns": null,
            "grid_template_rows": null,
            "height": null,
            "justify_content": null,
            "justify_items": null,
            "left": null,
            "margin": null,
            "max_height": null,
            "max_width": null,
            "min_height": null,
            "min_width": null,
            "object_fit": null,
            "object_position": null,
            "order": null,
            "overflow": null,
            "overflow_x": null,
            "overflow_y": null,
            "padding": null,
            "right": null,
            "top": null,
            "visibility": null,
            "width": null
          }
        },
        "f44c52b07edc4fecbc17127940196d84": {
          "model_module": "@jupyter-widgets/controls",
          "model_module_version": "1.5.0",
          "model_name": "FloatProgressModel",
          "state": {
            "_dom_classes": [],
            "_model_module": "@jupyter-widgets/controls",
            "_model_module_version": "1.5.0",
            "_model_name": "FloatProgressModel",
            "_view_count": null,
            "_view_module": "@jupyter-widgets/controls",
            "_view_module_version": "1.5.0",
            "_view_name": "ProgressView",
            "bar_style": "success",
            "description": "",
            "description_tooltip": null,
            "layout": "IPY_MODEL_4b35a3bd78b348878251ffb40a71a0ec",
            "max": 1,
            "min": 0,
            "orientation": "horizontal",
            "style": "IPY_MODEL_cebc48ddde124e88ae8eb40331f630e0",
            "value": 1
          }
        },
        "f5546c41d06f4dfb8828aea0ce575985": {
          "model_module": "@jupyter-widgets/controls",
          "model_module_version": "1.5.0",
          "model_name": "HTMLModel",
          "state": {
            "_dom_classes": [],
            "_model_module": "@jupyter-widgets/controls",
            "_model_module_version": "1.5.0",
            "_model_name": "HTMLModel",
            "_view_count": null,
            "_view_module": "@jupyter-widgets/controls",
            "_view_module_version": "1.5.0",
            "_view_name": "HTMLView",
            "description": "",
            "description_tooltip": null,
            "layout": "IPY_MODEL_705185ce44c6418fa7007d38598e2286",
            "placeholder": "​",
            "style": "IPY_MODEL_311b4631ba494ad6a8584aebb65a7e22",
            "value": "special_tokens_map.json: 100%"
          }
        },
        "f560cb288edf4cff8beab5fda5d75ebd": {
          "model_module": "@jupyter-widgets/base",
          "model_module_version": "1.2.0",
          "model_name": "LayoutModel",
          "state": {
            "_model_module": "@jupyter-widgets/base",
            "_model_module_version": "1.2.0",
            "_model_name": "LayoutModel",
            "_view_count": null,
            "_view_module": "@jupyter-widgets/base",
            "_view_module_version": "1.2.0",
            "_view_name": "LayoutView",
            "align_content": null,
            "align_items": null,
            "align_self": null,
            "border": null,
            "bottom": null,
            "display": null,
            "flex": null,
            "flex_flow": null,
            "grid_area": null,
            "grid_auto_columns": null,
            "grid_auto_flow": null,
            "grid_auto_rows": null,
            "grid_column": null,
            "grid_gap": null,
            "grid_row": null,
            "grid_template_areas": null,
            "grid_template_columns": null,
            "grid_template_rows": null,
            "height": null,
            "justify_content": null,
            "justify_items": null,
            "left": null,
            "margin": null,
            "max_height": null,
            "max_width": null,
            "min_height": null,
            "min_width": null,
            "object_fit": null,
            "object_position": null,
            "order": null,
            "overflow": null,
            "overflow_x": null,
            "overflow_y": null,
            "padding": null,
            "right": null,
            "top": null,
            "visibility": null,
            "width": null
          }
        },
        "f8e64cdd881f45bbb966f2e8a2535bcd": {
          "model_module": "@jupyter-widgets/controls",
          "model_module_version": "1.5.0",
          "model_name": "DescriptionStyleModel",
          "state": {
            "_model_module": "@jupyter-widgets/controls",
            "_model_module_version": "1.5.0",
            "_model_name": "DescriptionStyleModel",
            "_view_count": null,
            "_view_module": "@jupyter-widgets/base",
            "_view_module_version": "1.2.0",
            "_view_name": "StyleView",
            "description_width": ""
          }
        },
        "f90ba50323fd4946a2e7ac5ee0a32681": {
          "model_module": "@jupyter-widgets/controls",
          "model_module_version": "1.5.0",
          "model_name": "HTMLModel",
          "state": {
            "_dom_classes": [],
            "_model_module": "@jupyter-widgets/controls",
            "_model_module_version": "1.5.0",
            "_model_name": "HTMLModel",
            "_view_count": null,
            "_view_module": "@jupyter-widgets/controls",
            "_view_module_version": "1.5.0",
            "_view_name": "HTMLView",
            "description": "",
            "description_tooltip": null,
            "layout": "IPY_MODEL_0e347cf09b1042f4b904bf5cf7158238",
            "placeholder": "​",
            "style": "IPY_MODEL_31a040f5dc5d4276944843da6de878a6",
            "value": " 723/723 [00:00&lt;00:00, 86.9kB/s]"
          }
        },
        "f9f1b91434b44dbc9d2f691c7b8bb602": {
          "model_module": "@jupyter-widgets/base",
          "model_module_version": "1.2.0",
          "model_name": "LayoutModel",
          "state": {
            "_model_module": "@jupyter-widgets/base",
            "_model_module_version": "1.2.0",
            "_model_name": "LayoutModel",
            "_view_count": null,
            "_view_module": "@jupyter-widgets/base",
            "_view_module_version": "1.2.0",
            "_view_name": "LayoutView",
            "align_content": null,
            "align_items": null,
            "align_self": null,
            "border": null,
            "bottom": null,
            "display": null,
            "flex": null,
            "flex_flow": null,
            "grid_area": null,
            "grid_auto_columns": null,
            "grid_auto_flow": null,
            "grid_auto_rows": null,
            "grid_column": null,
            "grid_gap": null,
            "grid_row": null,
            "grid_template_areas": null,
            "grid_template_columns": null,
            "grid_template_rows": null,
            "height": null,
            "justify_content": null,
            "justify_items": null,
            "left": null,
            "margin": null,
            "max_height": null,
            "max_width": null,
            "min_height": null,
            "min_width": null,
            "object_fit": null,
            "object_position": null,
            "order": null,
            "overflow": null,
            "overflow_x": null,
            "overflow_y": null,
            "padding": null,
            "right": null,
            "top": null,
            "visibility": null,
            "width": null
          }
        },
        "fad125c615804a7d93e8aca04b0c6446": {
          "model_module": "@jupyter-widgets/controls",
          "model_module_version": "1.5.0",
          "model_name": "ProgressStyleModel",
          "state": {
            "_model_module": "@jupyter-widgets/controls",
            "_model_module_version": "1.5.0",
            "_model_name": "ProgressStyleModel",
            "_view_count": null,
            "_view_module": "@jupyter-widgets/base",
            "_view_module_version": "1.2.0",
            "_view_name": "StyleView",
            "bar_color": null,
            "description_width": ""
          }
        }
      }
    }
  },
  "nbformat": 4,
  "nbformat_minor": 0
}
